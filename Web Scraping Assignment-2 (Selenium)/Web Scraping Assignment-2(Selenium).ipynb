{
 "cells": [
  {
   "cell_type": "code",
   "execution_count": 195,
   "id": "69200460",
   "metadata": {},
   "outputs": [],
   "source": [
    "#importing all the required libraries"
   ]
  },
  {
   "cell_type": "code",
   "execution_count": 1,
   "id": "550d56ff",
   "metadata": {},
   "outputs": [],
   "source": [
    "import selenium\n",
    "import pandas as pd\n",
    "from selenium import webdriver"
   ]
  },
  {
   "cell_type": "code",
   "execution_count": 196,
   "id": "2f82b151",
   "metadata": {},
   "outputs": [],
   "source": [
    "# connecting to the webdriver"
   ]
  },
  {
   "cell_type": "code",
   "execution_count": 14,
   "id": "e8244aff",
   "metadata": {},
   "outputs": [],
   "source": [
    "driver = webdriver.Chrome(r\"C:/Users/Rohit/Downloads/chromedriver_win32/chromedriver.exe\")"
   ]
  },
  {
   "cell_type": "code",
   "execution_count": 197,
   "id": "cb8bd52c",
   "metadata": {},
   "outputs": [],
   "source": [
    "# importing the warnings library to ignore the Deprecation warnings and avoid the potential errors."
   ]
  },
  {
   "cell_type": "code",
   "execution_count": 3,
   "id": "70973e93",
   "metadata": {},
   "outputs": [],
   "source": [
    "import warnings"
   ]
  },
  {
   "cell_type": "code",
   "execution_count": 4,
   "id": "1e94f9e6",
   "metadata": {},
   "outputs": [],
   "source": [
    "warnings.filterwarnings(\"ignore\", category=DeprecationWarning)"
   ]
  },
  {
   "cell_type": "code",
   "execution_count": 198,
   "id": "42f5bb86",
   "metadata": {},
   "outputs": [],
   "source": [
    "#opening the web url using the webdriver"
   ]
  },
  {
   "cell_type": "code",
   "execution_count": 5,
   "id": "c19064e2",
   "metadata": {},
   "outputs": [],
   "source": [
    "driver.get('https://www.naukri.com/')"
   ]
  },
  {
   "cell_type": "code",
   "execution_count": 199,
   "id": "14cb22ad",
   "metadata": {},
   "outputs": [],
   "source": [
    "#searching the given designation and the location for in the search bar"
   ]
  },
  {
   "cell_type": "code",
   "execution_count": 6,
   "id": "c8378bc9",
   "metadata": {},
   "outputs": [],
   "source": [
    "search_job = driver.find_element_by_id('qsb-keyword-sugg')\n",
    "search_job.send_keys(\"Data Analyst\")\n",
    "search_loc = driver.find_element_by_xpath(\"//input[@id='qsb-location-sugg']\")\n",
    "search_loc.send_keys(\"Bangalore\")"
   ]
  },
  {
   "cell_type": "code",
   "execution_count": 7,
   "id": "f5b98a5e",
   "metadata": {},
   "outputs": [],
   "source": [
    "srch_btn = driver.find_element_by_xpath(\"//div[@class='search-btn']/button\")\n",
    "srch_btn.click()"
   ]
  },
  {
   "cell_type": "code",
   "execution_count": 200,
   "id": "40cca492",
   "metadata": {},
   "outputs": [],
   "source": [
    "# creating empty lists to futher append the relevant data into the list"
   ]
  },
  {
   "cell_type": "code",
   "execution_count": 8,
   "id": "b3f0079e",
   "metadata": {},
   "outputs": [],
   "source": [
    "job_titles = []\n",
    "job_location = []\n",
    "company_name = []\n",
    "experience_lst = []"
   ]
  },
  {
   "cell_type": "code",
   "execution_count": 194,
   "id": "68a90e7c",
   "metadata": {},
   "outputs": [],
   "source": [
    "# we are scraping the all the relevant tags\n",
    "# we iterate these tags into the loop and scrape out the data from those tags\n",
    "# append the data into the list"
   ]
  },
  {
   "cell_type": "code",
   "execution_count": 9,
   "id": "2f8f7f50",
   "metadata": {},
   "outputs": [
    {
     "data": {
      "text/plain": [
       "['0-3 Yrs',\n",
       " '2-5 Yrs',\n",
       " '1-6 Yrs',\n",
       " '0-3 Yrs',\n",
       " '5-8 Yrs',\n",
       " '5-10 Yrs',\n",
       " '4-6 Yrs',\n",
       " '3-8 Yrs',\n",
       " '5-10 Yrs',\n",
       " '6-10 Yrs']"
      ]
     },
     "execution_count": 9,
     "metadata": {},
     "output_type": "execute_result"
    }
   ],
   "source": [
    "titles_tags = driver.find_elements_by_xpath(\"//div[@class='info fleft']/a\")\n",
    "for i in titles_tags:\n",
    "    Title=i.text\n",
    "    job_titles.append(Title)\n",
    "job_titles[0:10]\n",
    "\n",
    "\n",
    "location_tags = driver.find_elements_by_xpath(\"//li[@class='fleft grey-text br2 placeHolderLi location']/span\")\n",
    "for i in location_tags:\n",
    "    Location=i.text\n",
    "    job_location.append(Location)\n",
    "job_location[0:10]\n",
    "\n",
    "\n",
    "company_tags = driver.find_elements_by_xpath(\"//a[@class='subTitle ellipsis fleft']\")\n",
    "for i in company_tags:\n",
    "    Company=i.text\n",
    "    company_name.append(Company)\n",
    "company_name[0:10]\n",
    "\n",
    "experience_tags = driver.find_elements_by_xpath(\"//li[@class='fleft grey-text br2 placeHolderLi experience']/span\")\n",
    "for i in experience_tags:\n",
    "    Experience=i.text\n",
    "    experience_lst.append(Experience)\n",
    "experience_lst[0:10]"
   ]
  },
  {
   "cell_type": "code",
   "execution_count": 193,
   "id": "00ab4517",
   "metadata": {},
   "outputs": [],
   "source": [
    "# slicing the list to make them of equal size"
   ]
  },
  {
   "cell_type": "code",
   "execution_count": 10,
   "id": "2b4d71b6",
   "metadata": {},
   "outputs": [],
   "source": [
    "job_titles = job_titles[0:10]\n",
    "job_location = job_location[0:10]\n",
    "company_name = company_name[0:10]\n",
    "experience_lst = experience_lst[0:10]"
   ]
  },
  {
   "cell_type": "code",
   "execution_count": 11,
   "id": "e1ee2cd1",
   "metadata": {},
   "outputs": [
    {
     "name": "stdout",
     "output_type": "stream",
     "text": [
      "10 10 10 10\n"
     ]
    }
   ],
   "source": [
    "print(len(job_titles), len(job_location), len(company_name), len(experience_lst))"
   ]
  },
  {
   "cell_type": "code",
   "execution_count": 192,
   "id": "4be1c93d",
   "metadata": {},
   "outputs": [],
   "source": [
    "# making the DataFrame"
   ]
  },
  {
   "cell_type": "code",
   "execution_count": 12,
   "id": "a52301f0",
   "metadata": {},
   "outputs": [
    {
     "data": {
      "text/html": [
       "<div>\n",
       "<style scoped>\n",
       "    .dataframe tbody tr th:only-of-type {\n",
       "        vertical-align: middle;\n",
       "    }\n",
       "\n",
       "    .dataframe tbody tr th {\n",
       "        vertical-align: top;\n",
       "    }\n",
       "\n",
       "    .dataframe thead th {\n",
       "        text-align: right;\n",
       "    }\n",
       "</style>\n",
       "<table border=\"1\" class=\"dataframe\">\n",
       "  <thead>\n",
       "    <tr style=\"text-align: right;\">\n",
       "      <th></th>\n",
       "      <th>Title</th>\n",
       "      <th>Location</th>\n",
       "      <th>Company</th>\n",
       "      <th>Experience</th>\n",
       "    </tr>\n",
       "  </thead>\n",
       "  <tbody>\n",
       "    <tr>\n",
       "      <th>0</th>\n",
       "      <td>Data Analyst - Flipkart Analytics</td>\n",
       "      <td>Bangalore/Bengaluru(Bellandur)</td>\n",
       "      <td>Flipkart</td>\n",
       "      <td>0-3 Yrs</td>\n",
       "    </tr>\n",
       "    <tr>\n",
       "      <th>1</th>\n",
       "      <td>Business Data Analyst - Database Design/Mining</td>\n",
       "      <td>Bangalore/Bengaluru</td>\n",
       "      <td>AugmatrixGo</td>\n",
       "      <td>2-5 Yrs</td>\n",
       "    </tr>\n",
       "    <tr>\n",
       "      <th>2</th>\n",
       "      <td>Urgent Openings For Data Analyst / Business An...</td>\n",
       "      <td>Bangalore/Bengaluru</td>\n",
       "      <td>Flipkart</td>\n",
       "      <td>1-6 Yrs</td>\n",
       "    </tr>\n",
       "    <tr>\n",
       "      <th>3</th>\n",
       "      <td>Data Analyst</td>\n",
       "      <td>(WFH during Covid)</td>\n",
       "      <td>Applied Materials</td>\n",
       "      <td>0-3 Yrs</td>\n",
       "    </tr>\n",
       "    <tr>\n",
       "      <th>4</th>\n",
       "      <td>Data Analyst</td>\n",
       "      <td>Bangalore/Bengaluru</td>\n",
       "      <td>Shell</td>\n",
       "      <td>5-8 Yrs</td>\n",
       "    </tr>\n",
       "    <tr>\n",
       "      <th>5</th>\n",
       "      <td>Data Analyst</td>\n",
       "      <td>Bangalore/Bengaluru</td>\n",
       "      <td>Shell</td>\n",
       "      <td>5-10 Yrs</td>\n",
       "    </tr>\n",
       "    <tr>\n",
       "      <th>6</th>\n",
       "      <td>Lead / Senior Data Analyst</td>\n",
       "      <td>Bangalore/Bengaluru</td>\n",
       "      <td>EVERGREEN COMMUNITY PRIVATE LIMITED</td>\n",
       "      <td>4-6 Yrs</td>\n",
       "    </tr>\n",
       "    <tr>\n",
       "      <th>7</th>\n",
       "      <td>Business Data Analyst - MIS &amp; Reporting</td>\n",
       "      <td>Bangalore/Bengaluru</td>\n",
       "      <td>INTERTRUST GROUP</td>\n",
       "      <td>3-8 Yrs</td>\n",
       "    </tr>\n",
       "    <tr>\n",
       "      <th>8</th>\n",
       "      <td>Business Data Analyst</td>\n",
       "      <td>(WFH during Covid)</td>\n",
       "      <td>NetApp</td>\n",
       "      <td>5-10 Yrs</td>\n",
       "    </tr>\n",
       "    <tr>\n",
       "      <th>9</th>\n",
       "      <td>Senior Data Analyst - SQL/Tableau/Redshift</td>\n",
       "      <td>Mumbai, Bangalore/Bengaluru</td>\n",
       "      <td>Pronto Consulting Services</td>\n",
       "      <td>6-10 Yrs</td>\n",
       "    </tr>\n",
       "  </tbody>\n",
       "</table>\n",
       "</div>"
      ],
      "text/plain": [
       "                                               Title  \\\n",
       "0                  Data Analyst - Flipkart Analytics   \n",
       "1     Business Data Analyst - Database Design/Mining   \n",
       "2  Urgent Openings For Data Analyst / Business An...   \n",
       "3                                       Data Analyst   \n",
       "4                                       Data Analyst   \n",
       "5                                       Data Analyst   \n",
       "6                         Lead / Senior Data Analyst   \n",
       "7            Business Data Analyst - MIS & Reporting   \n",
       "8                              Business Data Analyst   \n",
       "9         Senior Data Analyst - SQL/Tableau/Redshift   \n",
       "\n",
       "                         Location                              Company  \\\n",
       "0  Bangalore/Bengaluru(Bellandur)                             Flipkart   \n",
       "1             Bangalore/Bengaluru                          AugmatrixGo   \n",
       "2             Bangalore/Bengaluru                             Flipkart   \n",
       "3              (WFH during Covid)                    Applied Materials   \n",
       "4             Bangalore/Bengaluru                                Shell   \n",
       "5             Bangalore/Bengaluru                                Shell   \n",
       "6             Bangalore/Bengaluru  EVERGREEN COMMUNITY PRIVATE LIMITED   \n",
       "7             Bangalore/Bengaluru                     INTERTRUST GROUP   \n",
       "8              (WFH during Covid)                               NetApp   \n",
       "9     Mumbai, Bangalore/Bengaluru           Pronto Consulting Services   \n",
       "\n",
       "  Experience  \n",
       "0    0-3 Yrs  \n",
       "1    2-5 Yrs  \n",
       "2    1-6 Yrs  \n",
       "3    0-3 Yrs  \n",
       "4    5-8 Yrs  \n",
       "5   5-10 Yrs  \n",
       "6    4-6 Yrs  \n",
       "7    3-8 Yrs  \n",
       "8   5-10 Yrs  \n",
       "9   6-10 Yrs  "
      ]
     },
     "execution_count": 12,
     "metadata": {},
     "output_type": "execute_result"
    }
   ],
   "source": [
    "Job_data = pd.DataFrame({'Title':job_titles, 'Location':job_location, 'Company':company_name, 'Experience':experience_lst})\n",
    "Job_data"
   ]
  },
  {
   "cell_type": "code",
   "execution_count": null,
   "id": "ac8cf17a",
   "metadata": {},
   "outputs": [],
   "source": []
  },
  {
   "cell_type": "code",
   "execution_count": null,
   "id": "c129488a",
   "metadata": {},
   "outputs": [],
   "source": []
  },
  {
   "cell_type": "markdown",
   "id": "ee3e4765",
   "metadata": {},
   "source": [
    "## Selenium Q2 "
   ]
  },
  {
   "cell_type": "code",
   "execution_count": 191,
   "id": "9a775a16",
   "metadata": {},
   "outputs": [],
   "source": [
    "# getting the url with the help of webdriver"
   ]
  },
  {
   "cell_type": "code",
   "execution_count": 15,
   "id": "e1849cfe",
   "metadata": {},
   "outputs": [],
   "source": [
    "driver.get('https://www.naukri.com/')"
   ]
  },
  {
   "cell_type": "code",
   "execution_count": 190,
   "id": "aab04ea1",
   "metadata": {},
   "outputs": [],
   "source": [
    "# searching the given designatio and location in the search box"
   ]
  },
  {
   "cell_type": "code",
   "execution_count": 16,
   "id": "dd116892",
   "metadata": {},
   "outputs": [],
   "source": [
    "srch_job = driver.find_element_by_id('qsb-keyword-sugg')\n",
    "srch_job.send_keys(\"Data Scientist\")\n",
    "srch_loc = driver.find_element_by_xpath(\"//input[@id='qsb-location-sugg']\")\n",
    "srch_loc.send_keys(\"Bangalore\")"
   ]
  },
  {
   "cell_type": "code",
   "execution_count": 17,
   "id": "3700489a",
   "metadata": {},
   "outputs": [],
   "source": [
    "srch_btn = driver.find_element_by_xpath(\"//div[@class='search-btn']/button\")\n",
    "srch_btn.click()"
   ]
  },
  {
   "cell_type": "code",
   "execution_count": 18,
   "id": "acb893ae",
   "metadata": {},
   "outputs": [],
   "source": [
    "job_titles = []\n",
    "location_lst = []\n",
    "company_lst = []"
   ]
  },
  {
   "cell_type": "code",
   "execution_count": 189,
   "id": "904d3fc9",
   "metadata": {},
   "outputs": [],
   "source": [
    "# we are scraping the all the relevant tags\n",
    "# we iterate these tags into the loop and scrape out the data from those tags\n",
    "# append the data into the list"
   ]
  },
  {
   "cell_type": "code",
   "execution_count": 19,
   "id": "ac0d043c",
   "metadata": {},
   "outputs": [
    {
     "data": {
      "text/plain": [
       "['Concentrix Daksh Services',\n",
       " 'Convergence Infotech Ltd',\n",
       " 'TALENT500 TECH (INDIA) PRIVATE LIMITED',\n",
       " 'Mavenir',\n",
       " 'Mount Talent Consulting Private Limited',\n",
       " 'Cerner Corporation',\n",
       " 'Walmart Labs',\n",
       " 'CoffeeBeans',\n",
       " 'Oracle India Pvt. Ltd.',\n",
       " 'Mount Talent Consulting Private Limited']"
      ]
     },
     "execution_count": 19,
     "metadata": {},
     "output_type": "execute_result"
    }
   ],
   "source": [
    "title_tags = driver.find_elements_by_xpath(\"//div[@class='info fleft']/a\")\n",
    "for i in title_tags:\n",
    "    title=i.text\n",
    "    job_titles.append(title)\n",
    "job_titles[0:10]\n",
    "\n",
    "\n",
    "location_tags = driver.find_elements_by_xpath(\"//li[@class='fleft grey-text br2 placeHolderLi location']/span\")\n",
    "for i in location_tags:\n",
    "    location=i.text\n",
    "    location_lst.append(location)\n",
    "location_lst[0:10]\n",
    "\n",
    "comp_tags = driver.find_elements_by_xpath(\"//a[@class='subTitle ellipsis fleft']\")\n",
    "for i in comp_tags:\n",
    "    company=i.text\n",
    "    company_lst.append(company)\n",
    "company_lst[0:10]"
   ]
  },
  {
   "cell_type": "code",
   "execution_count": 20,
   "id": "07220d92",
   "metadata": {},
   "outputs": [],
   "source": [
    "Jobs_data = pd.DataFrame({})\n",
    "Jobs_data['Job-title']=job_titles[0:10]\n",
    "Jobs_data['Job-location']=location_lst[0:10]\n",
    "Jobs_data['Company_name']=company_lst[0:10]"
   ]
  },
  {
   "cell_type": "code",
   "execution_count": 188,
   "id": "70ea5e61",
   "metadata": {},
   "outputs": [],
   "source": [
    "#making the DataFrame"
   ]
  },
  {
   "cell_type": "code",
   "execution_count": 21,
   "id": "0c9bdc10",
   "metadata": {},
   "outputs": [
    {
     "data": {
      "text/html": [
       "<div>\n",
       "<style scoped>\n",
       "    .dataframe tbody tr th:only-of-type {\n",
       "        vertical-align: middle;\n",
       "    }\n",
       "\n",
       "    .dataframe tbody tr th {\n",
       "        vertical-align: top;\n",
       "    }\n",
       "\n",
       "    .dataframe thead th {\n",
       "        text-align: right;\n",
       "    }\n",
       "</style>\n",
       "<table border=\"1\" class=\"dataframe\">\n",
       "  <thead>\n",
       "    <tr style=\"text-align: right;\">\n",
       "      <th></th>\n",
       "      <th>Job-title</th>\n",
       "      <th>Job-location</th>\n",
       "      <th>Company_name</th>\n",
       "    </tr>\n",
       "  </thead>\n",
       "  <tbody>\n",
       "    <tr>\n",
       "      <th>0</th>\n",
       "      <td>Forecasting Analyst/ Data Scientist (US Client)</td>\n",
       "      <td>Gurgaon/Gurugram, Bangalore/Bengaluru</td>\n",
       "      <td>Concentrix Daksh Services</td>\n",
       "    </tr>\n",
       "    <tr>\n",
       "      <th>1</th>\n",
       "      <td>Senior Data Scientist</td>\n",
       "      <td>(WFH during Covid)</td>\n",
       "      <td>Convergence Infotech Ltd</td>\n",
       "    </tr>\n",
       "    <tr>\n",
       "      <th>2</th>\n",
       "      <td>Senior Data Scientist | Fortune 500 Supermarke...</td>\n",
       "      <td>Bangalore/Bengaluru(Sadashiva Nagar)</td>\n",
       "      <td>TALENT500 TECH (INDIA) PRIVATE LIMITED</td>\n",
       "    </tr>\n",
       "    <tr>\n",
       "      <th>3</th>\n",
       "      <td>Associate Data Scientist</td>\n",
       "      <td>(WFH during Covid)</td>\n",
       "      <td>Mavenir</td>\n",
       "    </tr>\n",
       "    <tr>\n",
       "      <th>4</th>\n",
       "      <td>Looking For Senior Data Scientist Immediate Jo...</td>\n",
       "      <td>Bangalore/Bengaluru</td>\n",
       "      <td>Mount Talent Consulting Private Limited</td>\n",
       "    </tr>\n",
       "    <tr>\n",
       "      <th>5</th>\n",
       "      <td>Data Scientist</td>\n",
       "      <td>Bangalore/Bengaluru</td>\n",
       "      <td>Cerner Corporation</td>\n",
       "    </tr>\n",
       "    <tr>\n",
       "      <th>6</th>\n",
       "      <td>Principal Data Scientist</td>\n",
       "      <td>Bangalore/Bengaluru</td>\n",
       "      <td>Walmart Labs</td>\n",
       "    </tr>\n",
       "    <tr>\n",
       "      <th>7</th>\n",
       "      <td>Data Scientist</td>\n",
       "      <td>Bangalore/Bengaluru</td>\n",
       "      <td>CoffeeBeans</td>\n",
       "    </tr>\n",
       "    <tr>\n",
       "      <th>8</th>\n",
       "      <td>Data Scientist</td>\n",
       "      <td>Bangalore/Bengaluru</td>\n",
       "      <td>Oracle India Pvt. Ltd.</td>\n",
       "    </tr>\n",
       "    <tr>\n",
       "      <th>9</th>\n",
       "      <td>Looking For Senior Data Scientist Immediate Jo...</td>\n",
       "      <td>Bangalore/Bengaluru</td>\n",
       "      <td>Mount Talent Consulting Private Limited</td>\n",
       "    </tr>\n",
       "  </tbody>\n",
       "</table>\n",
       "</div>"
      ],
      "text/plain": [
       "                                           Job-title  \\\n",
       "0    Forecasting Analyst/ Data Scientist (US Client)   \n",
       "1                              Senior Data Scientist   \n",
       "2  Senior Data Scientist | Fortune 500 Supermarke...   \n",
       "3                           Associate Data Scientist   \n",
       "4  Looking For Senior Data Scientist Immediate Jo...   \n",
       "5                                     Data Scientist   \n",
       "6                           Principal Data Scientist   \n",
       "7                                     Data Scientist   \n",
       "8                                     Data Scientist   \n",
       "9  Looking For Senior Data Scientist Immediate Jo...   \n",
       "\n",
       "                            Job-location  \\\n",
       "0  Gurgaon/Gurugram, Bangalore/Bengaluru   \n",
       "1                     (WFH during Covid)   \n",
       "2   Bangalore/Bengaluru(Sadashiva Nagar)   \n",
       "3                     (WFH during Covid)   \n",
       "4                    Bangalore/Bengaluru   \n",
       "5                    Bangalore/Bengaluru   \n",
       "6                    Bangalore/Bengaluru   \n",
       "7                    Bangalore/Bengaluru   \n",
       "8                    Bangalore/Bengaluru   \n",
       "9                    Bangalore/Bengaluru   \n",
       "\n",
       "                              Company_name  \n",
       "0                Concentrix Daksh Services  \n",
       "1                 Convergence Infotech Ltd  \n",
       "2   TALENT500 TECH (INDIA) PRIVATE LIMITED  \n",
       "3                                  Mavenir  \n",
       "4  Mount Talent Consulting Private Limited  \n",
       "5                       Cerner Corporation  \n",
       "6                             Walmart Labs  \n",
       "7                              CoffeeBeans  \n",
       "8                   Oracle India Pvt. Ltd.  \n",
       "9  Mount Talent Consulting Private Limited  "
      ]
     },
     "execution_count": 21,
     "metadata": {},
     "output_type": "execute_result"
    }
   ],
   "source": [
    "Jobs_data"
   ]
  },
  {
   "cell_type": "code",
   "execution_count": null,
   "id": "27194b34",
   "metadata": {},
   "outputs": [],
   "source": []
  },
  {
   "cell_type": "code",
   "execution_count": null,
   "id": "ff7ec004",
   "metadata": {},
   "outputs": [],
   "source": []
  },
  {
   "cell_type": "markdown",
   "id": "d2ea4ce6",
   "metadata": {},
   "source": [
    "## Selenium Q3"
   ]
  },
  {
   "cell_type": "code",
   "execution_count": 184,
   "id": "a22ae7b5",
   "metadata": {},
   "outputs": [],
   "source": [
    "# accessed this url with the help of webdriver"
   ]
  },
  {
   "cell_type": "code",
   "execution_count": 22,
   "id": "46b8a168",
   "metadata": {},
   "outputs": [],
   "source": [
    "driver.get('https://www.naukri.com/')"
   ]
  },
  {
   "cell_type": "code",
   "execution_count": 185,
   "id": "07ef1244",
   "metadata": {},
   "outputs": [],
   "source": [
    "# searching the given designation in the search box by using the xpath"
   ]
  },
  {
   "cell_type": "code",
   "execution_count": 23,
   "id": "6ff56ba1",
   "metadata": {},
   "outputs": [],
   "source": [
    "search_job = driver.find_element_by_id('qsb-keyword-sugg')\n",
    "search_job.send_keys(\"Data Scientist\")"
   ]
  },
  {
   "cell_type": "code",
   "execution_count": 24,
   "id": "957e7885",
   "metadata": {},
   "outputs": [],
   "source": [
    "srch_btn = driver.find_element_by_xpath(\"//div[@class='search-btn']/button\").click()"
   ]
  },
  {
   "cell_type": "code",
   "execution_count": 186,
   "id": "d839ed5a",
   "metadata": {},
   "outputs": [],
   "source": [
    "# applying the filters i.e. location and salary"
   ]
  },
  {
   "cell_type": "code",
   "execution_count": 28,
   "id": "571807c6",
   "metadata": {},
   "outputs": [],
   "source": [
    "fltr_loc=driver.find_element_by_xpath(\"//label[@for='chk-Delhi / NCR-cityTypeGid-']/i\").click()"
   ]
  },
  {
   "cell_type": "code",
   "execution_count": 27,
   "id": "f5d43953",
   "metadata": {},
   "outputs": [],
   "source": [
    "fltr_salary=driver.find_element_by_xpath(\"//label[@for='chk-3-6 Lakhs-ctcFilter-']/i\").click()"
   ]
  },
  {
   "cell_type": "code",
   "execution_count": 29,
   "id": "23f2e595",
   "metadata": {},
   "outputs": [],
   "source": [
    "job_titles = []\n",
    "location_lst = []\n",
    "company_lst = []\n",
    "exprnc_lst = []"
   ]
  },
  {
   "cell_type": "code",
   "execution_count": 187,
   "id": "e42016d2",
   "metadata": {},
   "outputs": [],
   "source": [
    "# we are scraping the all the relevant tags\n",
    "# we iterate these tags into the loop and scrape out the data from those tags\n",
    "# append the data into the list"
   ]
  },
  {
   "cell_type": "code",
   "execution_count": 30,
   "id": "1c0b8709",
   "metadata": {},
   "outputs": [
    {
     "data": {
      "text/plain": [
       "['0-2 Yrs',\n",
       " '4-7 Yrs',\n",
       " '4-6 Yrs',\n",
       " '4-6 Yrs',\n",
       " '2-7 Yrs',\n",
       " '2-6 Yrs',\n",
       " '6-10 Yrs',\n",
       " '0-1 Yrs',\n",
       " '3-7 Yrs',\n",
       " '2-7 Yrs']"
      ]
     },
     "execution_count": 30,
     "metadata": {},
     "output_type": "execute_result"
    }
   ],
   "source": [
    "titles_tags = driver.find_elements_by_xpath(\"//a[@class='title fw500 ellipsis']\")\n",
    "for i in titles_tags:\n",
    "    titles=i.text\n",
    "    job_titles.append(titles)\n",
    "job_titles[0:10]\n",
    "\n",
    "locatn_tags = driver.find_elements_by_xpath(\"//li[@class='fleft grey-text br2 placeHolderLi location']/span\")\n",
    "for i in locatn_tags:\n",
    "    location=i.text\n",
    "    location_lst.append(location)\n",
    "location_lst[0:10]\n",
    "\n",
    "company_tags = driver.find_elements_by_xpath(\"//a[@class='subTitle ellipsis fleft']\")\n",
    "for i in company_tags:\n",
    "    company=i.text\n",
    "    company_lst.append(company)\n",
    "company_lst[0:10]\n",
    "\n",
    "exprnc_tags = driver.find_elements_by_xpath(\"//li[@class='fleft grey-text br2 placeHolderLi experience']/span\")\n",
    "for i in exprnc_tags:\n",
    "    experience=i.text\n",
    "    exprnc_lst.append(experience)\n",
    "exprnc_lst[0:10]"
   ]
  },
  {
   "cell_type": "code",
   "execution_count": 182,
   "id": "1ecd38f6",
   "metadata": {},
   "outputs": [],
   "source": [
    "# Making the DataFrame"
   ]
  },
  {
   "cell_type": "code",
   "execution_count": 31,
   "id": "c164ec43",
   "metadata": {},
   "outputs": [
    {
     "data": {
      "text/html": [
       "<div>\n",
       "<style scoped>\n",
       "    .dataframe tbody tr th:only-of-type {\n",
       "        vertical-align: middle;\n",
       "    }\n",
       "\n",
       "    .dataframe tbody tr th {\n",
       "        vertical-align: top;\n",
       "    }\n",
       "\n",
       "    .dataframe thead th {\n",
       "        text-align: right;\n",
       "    }\n",
       "</style>\n",
       "<table border=\"1\" class=\"dataframe\">\n",
       "  <thead>\n",
       "    <tr style=\"text-align: right;\">\n",
       "      <th></th>\n",
       "      <th>Job-title</th>\n",
       "      <th>Job-location</th>\n",
       "      <th>Company_name</th>\n",
       "      <th>Experience_required</th>\n",
       "    </tr>\n",
       "  </thead>\n",
       "  <tbody>\n",
       "    <tr>\n",
       "      <th>0</th>\n",
       "      <td>Data Scientist</td>\n",
       "      <td>Kochi/Cochin, Kolkata, Hyderabad/Secunderabad,...</td>\n",
       "      <td>Think i</td>\n",
       "      <td>0-2 Yrs</td>\n",
       "    </tr>\n",
       "    <tr>\n",
       "      <th>1</th>\n",
       "      <td>Job Opportunity || Data Scientist || HCL Techn...</td>\n",
       "      <td>Delhi / NCR</td>\n",
       "      <td>HCL Technologies</td>\n",
       "      <td>4-7 Yrs</td>\n",
       "    </tr>\n",
       "    <tr>\n",
       "      <th>2</th>\n",
       "      <td>Data Scientist</td>\n",
       "      <td>Noida(Sector-126 Noida)</td>\n",
       "      <td>MoMagic Technologies Pvt. Ltd.</td>\n",
       "      <td>4-6 Yrs</td>\n",
       "    </tr>\n",
       "    <tr>\n",
       "      <th>3</th>\n",
       "      <td>Data Scientist</td>\n",
       "      <td>Noida(Sector-126 Noida)</td>\n",
       "      <td>MoMagic Technologies Pvt. Ltd.</td>\n",
       "      <td>4-6 Yrs</td>\n",
       "    </tr>\n",
       "    <tr>\n",
       "      <th>4</th>\n",
       "      <td>Urgent Hiring || Data Scientist || Delhi</td>\n",
       "      <td>Delhi / NCR(Netaji Subhash Place)</td>\n",
       "      <td>Shriram Automall India Limited</td>\n",
       "      <td>2-7 Yrs</td>\n",
       "    </tr>\n",
       "    <tr>\n",
       "      <th>5</th>\n",
       "      <td>Data Scientist</td>\n",
       "      <td>Noida, Gurgaon/Gurugram</td>\n",
       "      <td>Optum Global Solutions (India) Private Limited</td>\n",
       "      <td>2-6 Yrs</td>\n",
       "    </tr>\n",
       "    <tr>\n",
       "      <th>6</th>\n",
       "      <td>Data Scientist</td>\n",
       "      <td>Noida</td>\n",
       "      <td>SVK Global Solutions Private Limited</td>\n",
       "      <td>6-10 Yrs</td>\n",
       "    </tr>\n",
       "    <tr>\n",
       "      <th>7</th>\n",
       "      <td>Data Scientist Internship</td>\n",
       "      <td>New Delhi</td>\n",
       "      <td>iHackers Inc</td>\n",
       "      <td>0-1 Yrs</td>\n",
       "    </tr>\n",
       "    <tr>\n",
       "      <th>8</th>\n",
       "      <td>Data Scientist</td>\n",
       "      <td>Mumbai, Gurgaon/Gurugram, Bangalore/Bengaluru</td>\n",
       "      <td>Fractal Analytics</td>\n",
       "      <td>3-7 Yrs</td>\n",
       "    </tr>\n",
       "    <tr>\n",
       "      <th>9</th>\n",
       "      <td>Project Manager | Team Leader | Senior Data Sc...</td>\n",
       "      <td>Remote</td>\n",
       "      <td>Tidyquant (OPC) Private Limited</td>\n",
       "      <td>2-7 Yrs</td>\n",
       "    </tr>\n",
       "  </tbody>\n",
       "</table>\n",
       "</div>"
      ],
      "text/plain": [
       "                                           Job-title  \\\n",
       "0                                     Data Scientist   \n",
       "1  Job Opportunity || Data Scientist || HCL Techn...   \n",
       "2                                     Data Scientist   \n",
       "3                                     Data Scientist   \n",
       "4           Urgent Hiring || Data Scientist || Delhi   \n",
       "5                                     Data Scientist   \n",
       "6                                     Data Scientist   \n",
       "7                          Data Scientist Internship   \n",
       "8                                     Data Scientist   \n",
       "9  Project Manager | Team Leader | Senior Data Sc...   \n",
       "\n",
       "                                        Job-location  \\\n",
       "0  Kochi/Cochin, Kolkata, Hyderabad/Secunderabad,...   \n",
       "1                                        Delhi / NCR   \n",
       "2                            Noida(Sector-126 Noida)   \n",
       "3                            Noida(Sector-126 Noida)   \n",
       "4                  Delhi / NCR(Netaji Subhash Place)   \n",
       "5                            Noida, Gurgaon/Gurugram   \n",
       "6                                              Noida   \n",
       "7                                          New Delhi   \n",
       "8      Mumbai, Gurgaon/Gurugram, Bangalore/Bengaluru   \n",
       "9                                             Remote   \n",
       "\n",
       "                                     Company_name Experience_required  \n",
       "0                                         Think i             0-2 Yrs  \n",
       "1                                HCL Technologies             4-7 Yrs  \n",
       "2                  MoMagic Technologies Pvt. Ltd.             4-6 Yrs  \n",
       "3                  MoMagic Technologies Pvt. Ltd.             4-6 Yrs  \n",
       "4                  Shriram Automall India Limited             2-7 Yrs  \n",
       "5  Optum Global Solutions (India) Private Limited             2-6 Yrs  \n",
       "6            SVK Global Solutions Private Limited            6-10 Yrs  \n",
       "7                                    iHackers Inc             0-1 Yrs  \n",
       "8                               Fractal Analytics             3-7 Yrs  \n",
       "9                 Tidyquant (OPC) Private Limited             2-7 Yrs  "
      ]
     },
     "execution_count": 31,
     "metadata": {},
     "output_type": "execute_result"
    }
   ],
   "source": [
    "Jobs_data = pd.DataFrame({})\n",
    "Jobs_data['Job-title']=job_titles[0:10]\n",
    "Jobs_data['Job-location']=location_lst[0:10]\n",
    "Jobs_data['Company_name']=company_lst[0:10]\n",
    "Jobs_data['Experience_required']=exprnc_lst[0:10]\n",
    "\n",
    "Jobs_data"
   ]
  },
  {
   "cell_type": "code",
   "execution_count": null,
   "id": "ff9af7ce",
   "metadata": {},
   "outputs": [],
   "source": []
  },
  {
   "cell_type": "code",
   "execution_count": null,
   "id": "b40c3cee",
   "metadata": {},
   "outputs": [],
   "source": []
  },
  {
   "cell_type": "markdown",
   "id": "a1ba7d04",
   "metadata": {},
   "source": [
    "## Selenium Q4 "
   ]
  },
  {
   "cell_type": "code",
   "execution_count": 180,
   "id": "44617883",
   "metadata": {},
   "outputs": [],
   "source": [
    "# by using the webdriver, we are able to open this website"
   ]
  },
  {
   "cell_type": "code",
   "execution_count": 32,
   "id": "5b7f07f8",
   "metadata": {},
   "outputs": [],
   "source": [
    "driver.get('https://www.flipkart.com/')"
   ]
  },
  {
   "cell_type": "code",
   "execution_count": 181,
   "id": "3f7176ba",
   "metadata": {},
   "outputs": [],
   "source": [
    "#searching the product in the searchbox and clicking on it"
   ]
  },
  {
   "cell_type": "code",
   "execution_count": 33,
   "id": "a0c52f15",
   "metadata": {},
   "outputs": [],
   "source": [
    "srch_product = driver.find_element_by_xpath(\"//input[@placeholder='Search for products, brands and more']\")\n",
    "srch_product.send_keys(\"sunglasses\")"
   ]
  },
  {
   "cell_type": "code",
   "execution_count": 34,
   "id": "72577c4b",
   "metadata": {},
   "outputs": [],
   "source": [
    "srch_btn = driver.find_element_by_xpath(\"//button[@class='L0Z3Pu']\").click()"
   ]
  },
  {
   "cell_type": "code",
   "execution_count": 35,
   "id": "5aa63357",
   "metadata": {},
   "outputs": [],
   "source": [
    "brandsList = []\n",
    "productDesc = []\n",
    "priceList = []\n",
    "offList = []"
   ]
  },
  {
   "cell_type": "code",
   "execution_count": 36,
   "id": "e7b82e95",
   "metadata": {
    "scrolled": true
   },
   "outputs": [
    {
     "data": {
      "text/plain": [
       "['50% off',\n",
       " '50% off',\n",
       " '89% off',\n",
       " '35% off',\n",
       " '87% off',\n",
       " '85% off',\n",
       " '89% off',\n",
       " '70% off',\n",
       " '87% off',\n",
       " '87% off',\n",
       " '82% off',\n",
       " '50% off',\n",
       " '83% off',\n",
       " '83% off',\n",
       " '83% off',\n",
       " '78% off',\n",
       " '87% off',\n",
       " '77% off',\n",
       " '87% off',\n",
       " '57% off',\n",
       " '82% off',\n",
       " '80% off',\n",
       " '64% off',\n",
       " '29% off',\n",
       " '88% off',\n",
       " '87% off',\n",
       " '82% off',\n",
       " '66% off',\n",
       " '78% off',\n",
       " '81% off',\n",
       " '87% off',\n",
       " '70% off',\n",
       " '88% off',\n",
       " '65% off',\n",
       " '83% off',\n",
       " '60% off',\n",
       " '88% off',\n",
       " '81% off',\n",
       " '84% off',\n",
       " '60% off']"
      ]
     },
     "execution_count": 36,
     "metadata": {},
     "output_type": "execute_result"
    }
   ],
   "source": [
    "#getting all the attributes on page 1\n",
    "#first get the relevant tags and then iterate those in the list\n",
    "\n",
    "brandTags_page1 = driver.find_elements_by_xpath(\"//div[@class='_2WkVRV']\")\n",
    "for i in brandTags_page1:\n",
    "    btags1=i.text\n",
    "    brandsList.append(btags1)\n",
    "brandsList\n",
    "\n",
    "prodTags_p1 = driver.find_elements_by_xpath(\"//a[@class='IRpwTa']\")\n",
    "for i in prodTags_p1:\n",
    "    prod=i.text\n",
    "    productDesc.append(prod)\n",
    "productDesc\n",
    "\n",
    "priceTags_p1 = driver.find_elements_by_xpath(\"//div[@class='_30jeq3']\")\n",
    "for i in priceTags_p1:\n",
    "    prce=i.text\n",
    "    priceList.append(prce)\n",
    "priceList\n",
    "\n",
    "offtags_p1 = driver.find_elements_by_xpath(\"//div[@class='_3Ay6Sb']\")\n",
    "for i in offtags_p1:\n",
    "    offs=i.text\n",
    "    offList.append(offs)\n",
    "offList"
   ]
  },
  {
   "cell_type": "code",
   "execution_count": 37,
   "id": "328ae8c4",
   "metadata": {},
   "outputs": [],
   "source": [
    "# getting the page no 2\n",
    "page2 = driver.get('https://www.flipkart.com/search?q=sunglasses&otracker=search&otracker1=search&marketplace=FLIPKART&as-show=on&as=off&page=2')\n",
    "page2"
   ]
  },
  {
   "cell_type": "code",
   "execution_count": 38,
   "id": "4fc7ddac",
   "metadata": {
    "scrolled": true
   },
   "outputs": [
    {
     "data": {
      "text/plain": [
       "['50% off',\n",
       " '50% off',\n",
       " '89% off',\n",
       " '35% off',\n",
       " '87% off',\n",
       " '85% off',\n",
       " '89% off',\n",
       " '70% off',\n",
       " '87% off',\n",
       " '87% off',\n",
       " '82% off',\n",
       " '50% off',\n",
       " '83% off',\n",
       " '83% off',\n",
       " '83% off',\n",
       " '78% off',\n",
       " '87% off',\n",
       " '77% off',\n",
       " '87% off',\n",
       " '57% off',\n",
       " '82% off',\n",
       " '80% off',\n",
       " '64% off',\n",
       " '29% off',\n",
       " '88% off',\n",
       " '87% off',\n",
       " '82% off',\n",
       " '66% off',\n",
       " '78% off',\n",
       " '81% off',\n",
       " '87% off',\n",
       " '70% off',\n",
       " '88% off',\n",
       " '65% off',\n",
       " '83% off',\n",
       " '60% off',\n",
       " '88% off',\n",
       " '81% off',\n",
       " '84% off',\n",
       " '60% off',\n",
       " '83% off',\n",
       " '76% off',\n",
       " '18% off',\n",
       " '50% off',\n",
       " '78% off',\n",
       " '83% off',\n",
       " '87% off',\n",
       " '83% off',\n",
       " '77% off',\n",
       " '85% off',\n",
       " '67% off',\n",
       " '70% off',\n",
       " '83% off',\n",
       " '82% off',\n",
       " '36% off',\n",
       " '50% off',\n",
       " '80% off',\n",
       " '86% off',\n",
       " '74% off',\n",
       " '50% off',\n",
       " '77% off',\n",
       " '86% off',\n",
       " '85% off',\n",
       " '78% off',\n",
       " '80% off',\n",
       " '76% off',\n",
       " '89% off',\n",
       " '57% off',\n",
       " '64% off',\n",
       " '58% off',\n",
       " '85% off',\n",
       " '29% off',\n",
       " '81% off',\n",
       " '87% off',\n",
       " '84% off',\n",
       " '66% off',\n",
       " '78% off',\n",
       " '81% off',\n",
       " '82% off',\n",
       " '80% off']"
      ]
     },
     "execution_count": 38,
     "metadata": {},
     "output_type": "execute_result"
    }
   ],
   "source": [
    "#getting all the attribute of the product from page no 2\n",
    "\n",
    "brandTags_page2 = driver.find_elements_by_xpath(\"//div[@class='_2WkVRV']\")\n",
    "for i in brandTags_page2:\n",
    "    btags2=i.text\n",
    "    brandsList.append(btags2)\n",
    "brandsList\n",
    "\n",
    "prodTags_p2 = driver.find_elements_by_xpath(\"//a[@class='IRpwTa']\")\n",
    "for i in prodTags_p2:\n",
    "    prod2=i.text\n",
    "    productDesc.append(prod2)\n",
    "productDesc\n",
    "\n",
    "priceTags_p2 = driver.find_elements_by_xpath(\"//div[@class='_30jeq3']\")\n",
    "for i in priceTags_p2:\n",
    "    prce2=i.text\n",
    "    priceList.append(prce2)\n",
    "priceList\n",
    "\n",
    "offtags_p2 = driver.find_elements_by_xpath(\"//div[@class='_3Ay6Sb']\")\n",
    "for i in offtags_p2:\n",
    "    offs2=i.text\n",
    "    offList.append(offs2)\n",
    "offList"
   ]
  },
  {
   "cell_type": "code",
   "execution_count": 39,
   "id": "e3b7d3dc",
   "metadata": {},
   "outputs": [],
   "source": [
    "# getting on the page no 3\n",
    "page3 = driver.get('https://www.flipkart.com/search?q=sunglasses&otracker=search&otracker1=search&marketplace=FLIPKART&as-show=on&as=off&page=3')\n",
    "page3"
   ]
  },
  {
   "cell_type": "code",
   "execution_count": 40,
   "id": "918f4580",
   "metadata": {},
   "outputs": [
    {
     "data": {
      "text/plain": [
       "['50% off',\n",
       " '50% off',\n",
       " '89% off',\n",
       " '35% off',\n",
       " '87% off',\n",
       " '85% off',\n",
       " '89% off',\n",
       " '70% off',\n",
       " '87% off',\n",
       " '87% off',\n",
       " '82% off',\n",
       " '50% off',\n",
       " '83% off',\n",
       " '83% off',\n",
       " '83% off',\n",
       " '78% off',\n",
       " '87% off',\n",
       " '77% off',\n",
       " '87% off',\n",
       " '57% off',\n",
       " '82% off',\n",
       " '80% off',\n",
       " '64% off',\n",
       " '29% off',\n",
       " '88% off',\n",
       " '87% off',\n",
       " '82% off',\n",
       " '66% off',\n",
       " '78% off',\n",
       " '81% off',\n",
       " '87% off',\n",
       " '70% off',\n",
       " '88% off',\n",
       " '65% off',\n",
       " '83% off',\n",
       " '60% off',\n",
       " '88% off',\n",
       " '81% off',\n",
       " '84% off',\n",
       " '60% off',\n",
       " '83% off',\n",
       " '76% off',\n",
       " '18% off',\n",
       " '50% off',\n",
       " '78% off',\n",
       " '83% off',\n",
       " '87% off',\n",
       " '83% off',\n",
       " '77% off',\n",
       " '85% off',\n",
       " '67% off',\n",
       " '70% off',\n",
       " '83% off',\n",
       " '82% off',\n",
       " '36% off',\n",
       " '50% off',\n",
       " '80% off',\n",
       " '86% off',\n",
       " '74% off',\n",
       " '50% off',\n",
       " '77% off',\n",
       " '86% off',\n",
       " '85% off',\n",
       " '78% off',\n",
       " '80% off',\n",
       " '76% off',\n",
       " '89% off',\n",
       " '57% off',\n",
       " '64% off',\n",
       " '58% off',\n",
       " '85% off',\n",
       " '29% off',\n",
       " '81% off',\n",
       " '87% off',\n",
       " '84% off',\n",
       " '66% off',\n",
       " '78% off',\n",
       " '81% off',\n",
       " '82% off',\n",
       " '80% off',\n",
       " '15% off',\n",
       " '81% off',\n",
       " '83% off',\n",
       " '83% off',\n",
       " '76% off',\n",
       " '23% off',\n",
       " '80% off',\n",
       " '50% off',\n",
       " '82% off',\n",
       " '85% off',\n",
       " '88% off',\n",
       " '80% off',\n",
       " '74% off',\n",
       " '60% off',\n",
       " '82% off',\n",
       " '50% off',\n",
       " '76% off',\n",
       " '87% off',\n",
       " '74% off',\n",
       " '50% off',\n",
       " '67% off',\n",
       " '70% off',\n",
       " '83% off',\n",
       " '76% off',\n",
       " '89% off',\n",
       " '76% off',\n",
       " '43% off',\n",
       " '50% off',\n",
       " '76% off',\n",
       " '62% off',\n",
       " '81% off',\n",
       " '78% off',\n",
       " '80% off',\n",
       " '80% off',\n",
       " '88% off',\n",
       " '50% off',\n",
       " '81% off',\n",
       " '80% off',\n",
       " '10% off',\n",
       " '83% off']"
      ]
     },
     "execution_count": 40,
     "metadata": {},
     "output_type": "execute_result"
    }
   ],
   "source": [
    "# getting all the attributes of the product from page no 3\n",
    "\n",
    "brandTags_page3 = driver.find_elements_by_xpath(\"//div[@class='_2WkVRV']\")\n",
    "for i in brandTags_page3:\n",
    "    btags3=i.text\n",
    "    brandsList.append(btags3)\n",
    "brandsList\n",
    "\n",
    "prodTags_p3 = driver.find_elements_by_xpath(\"//a[@class='IRpwTa']\")\n",
    "for i in prodTags_p3:\n",
    "    prod3=i.text\n",
    "    productDesc.append(prod3)\n",
    "productDesc\n",
    "\n",
    "priceTags_p3 = driver.find_elements_by_xpath(\"//div[@class='_30jeq3']\")\n",
    "for i in priceTags_p3:\n",
    "    prc3=i.text\n",
    "    priceList.append(prc3)\n",
    "priceList\n",
    "\n",
    "offtags_p3 = driver.find_elements_by_xpath(\"//div[@class='_3Ay6Sb']\")\n",
    "for i in offtags_p3:\n",
    "    offs3=i.text\n",
    "    offList.append(offs3)\n",
    "offList"
   ]
  },
  {
   "cell_type": "code",
   "execution_count": 179,
   "id": "fa171263",
   "metadata": {},
   "outputs": [],
   "source": [
    "#slicing the lists and adjusting their size for 100"
   ]
  },
  {
   "cell_type": "code",
   "execution_count": 41,
   "id": "010ab2ca",
   "metadata": {},
   "outputs": [],
   "source": [
    "brandsList = brandsList[0:100]\n",
    "productDesc = productDesc[0:100]\n",
    "priceList=priceList[0:100]\n",
    "offList=offList[0:100]"
   ]
  },
  {
   "cell_type": "code",
   "execution_count": 42,
   "id": "106ee8a0",
   "metadata": {},
   "outputs": [
    {
     "name": "stdout",
     "output_type": "stream",
     "text": [
      "100 100 100 100\n"
     ]
    }
   ],
   "source": [
    "print(len(brandsList), len(productDesc), len(priceList), len(offList))"
   ]
  },
  {
   "cell_type": "code",
   "execution_count": 178,
   "id": "6f2b9170",
   "metadata": {},
   "outputs": [],
   "source": [
    "# Making the DataFrame"
   ]
  },
  {
   "cell_type": "code",
   "execution_count": 43,
   "id": "0594323a",
   "metadata": {},
   "outputs": [
    {
     "data": {
      "text/html": [
       "<div>\n",
       "<style scoped>\n",
       "    .dataframe tbody tr th:only-of-type {\n",
       "        vertical-align: middle;\n",
       "    }\n",
       "\n",
       "    .dataframe tbody tr th {\n",
       "        vertical-align: top;\n",
       "    }\n",
       "\n",
       "    .dataframe thead th {\n",
       "        text-align: right;\n",
       "    }\n",
       "</style>\n",
       "<table border=\"1\" class=\"dataframe\">\n",
       "  <thead>\n",
       "    <tr style=\"text-align: right;\">\n",
       "      <th></th>\n",
       "      <th>Brand</th>\n",
       "      <th>Product_Description</th>\n",
       "      <th>Price</th>\n",
       "      <th>Offs</th>\n",
       "    </tr>\n",
       "  </thead>\n",
       "  <tbody>\n",
       "    <tr>\n",
       "      <th>0</th>\n",
       "      <td>VINCENT CHASE</td>\n",
       "      <td>UV Protection Aviator Sunglasses (53)</td>\n",
       "      <td>₹999</td>\n",
       "      <td>50% off</td>\n",
       "    </tr>\n",
       "    <tr>\n",
       "      <th>1</th>\n",
       "      <td>VINCENT CHASE</td>\n",
       "      <td>by Lenskart Polarized, UV Protection Wayfarer ...</td>\n",
       "      <td>₹999</td>\n",
       "      <td>50% off</td>\n",
       "    </tr>\n",
       "    <tr>\n",
       "      <th>2</th>\n",
       "      <td>Elligator</td>\n",
       "      <td>UV Protection Round Sunglasses (54)</td>\n",
       "      <td>₹264</td>\n",
       "      <td>89% off</td>\n",
       "    </tr>\n",
       "    <tr>\n",
       "      <th>3</th>\n",
       "      <td>Fastrack</td>\n",
       "      <td>UV Protection Rectangular Sunglasses (Free Size)</td>\n",
       "      <td>₹513</td>\n",
       "      <td>35% off</td>\n",
       "    </tr>\n",
       "    <tr>\n",
       "      <th>4</th>\n",
       "      <td>PIRASO</td>\n",
       "      <td>UV Protection Aviator Sunglasses (54)</td>\n",
       "      <td>₹200</td>\n",
       "      <td>87% off</td>\n",
       "    </tr>\n",
       "    <tr>\n",
       "      <th>...</th>\n",
       "      <td>...</td>\n",
       "      <td>...</td>\n",
       "      <td>...</td>\n",
       "      <td>...</td>\n",
       "    </tr>\n",
       "    <tr>\n",
       "      <th>95</th>\n",
       "      <td>VINCENT CHASE</td>\n",
       "      <td>UV Protection Aviator Sunglasses (53)</td>\n",
       "      <td>₹999</td>\n",
       "      <td>50% off</td>\n",
       "    </tr>\n",
       "    <tr>\n",
       "      <th>96</th>\n",
       "      <td>ROYAL SON</td>\n",
       "      <td>UV Protection Round Sunglasses (50)</td>\n",
       "      <td>₹359</td>\n",
       "      <td>76% off</td>\n",
       "    </tr>\n",
       "    <tr>\n",
       "      <th>97</th>\n",
       "      <td>GANSTA</td>\n",
       "      <td>UV Protection, Gradient, Riding Glasses Wayfar...</td>\n",
       "      <td>₹257</td>\n",
       "      <td>87% off</td>\n",
       "    </tr>\n",
       "    <tr>\n",
       "      <th>98</th>\n",
       "      <td>ROZZETTA CRAFT</td>\n",
       "      <td>UV Protection Rectangular Sunglasses (Free Size)</td>\n",
       "      <td>₹379</td>\n",
       "      <td>74% off</td>\n",
       "    </tr>\n",
       "    <tr>\n",
       "      <th>99</th>\n",
       "      <td>VINCENT CHASE</td>\n",
       "      <td>Polarized, UV Protection Wayfarer Sunglasses (57)</td>\n",
       "      <td>₹999</td>\n",
       "      <td>50% off</td>\n",
       "    </tr>\n",
       "  </tbody>\n",
       "</table>\n",
       "<p>100 rows × 4 columns</p>\n",
       "</div>"
      ],
      "text/plain": [
       "             Brand                                Product_Description Price  \\\n",
       "0    VINCENT CHASE              UV Protection Aviator Sunglasses (53)  ₹999   \n",
       "1    VINCENT CHASE  by Lenskart Polarized, UV Protection Wayfarer ...  ₹999   \n",
       "2        Elligator                UV Protection Round Sunglasses (54)  ₹264   \n",
       "3         Fastrack   UV Protection Rectangular Sunglasses (Free Size)  ₹513   \n",
       "4           PIRASO              UV Protection Aviator Sunglasses (54)  ₹200   \n",
       "..             ...                                                ...   ...   \n",
       "95   VINCENT CHASE              UV Protection Aviator Sunglasses (53)  ₹999   \n",
       "96       ROYAL SON                UV Protection Round Sunglasses (50)  ₹359   \n",
       "97          GANSTA  UV Protection, Gradient, Riding Glasses Wayfar...  ₹257   \n",
       "98  ROZZETTA CRAFT   UV Protection Rectangular Sunglasses (Free Size)  ₹379   \n",
       "99   VINCENT CHASE  Polarized, UV Protection Wayfarer Sunglasses (57)  ₹999   \n",
       "\n",
       "       Offs  \n",
       "0   50% off  \n",
       "1   50% off  \n",
       "2   89% off  \n",
       "3   35% off  \n",
       "4   87% off  \n",
       "..      ...  \n",
       "95  50% off  \n",
       "96  76% off  \n",
       "97  87% off  \n",
       "98  74% off  \n",
       "99  50% off  \n",
       "\n",
       "[100 rows x 4 columns]"
      ]
     },
     "execution_count": 43,
     "metadata": {},
     "output_type": "execute_result"
    }
   ],
   "source": [
    "sunglss_attributes = pd.DataFrame({'Brand':brandsList, 'Product_Description':productDesc, 'Price':priceList, 'Offs':offList})\n",
    "sunglss_attributes"
   ]
  },
  {
   "cell_type": "code",
   "execution_count": null,
   "id": "155e3410",
   "metadata": {},
   "outputs": [],
   "source": []
  },
  {
   "cell_type": "code",
   "execution_count": null,
   "id": "faa79afd",
   "metadata": {},
   "outputs": [],
   "source": []
  },
  {
   "cell_type": "markdown",
   "id": "1ac66249",
   "metadata": {},
   "source": [
    "## Selenium Q5 "
   ]
  },
  {
   "cell_type": "code",
   "execution_count": 176,
   "id": "d4ece99b",
   "metadata": {},
   "outputs": [],
   "source": [
    "# getting on the web url with the help of webdriver"
   ]
  },
  {
   "cell_type": "code",
   "execution_count": 44,
   "id": "18db0603",
   "metadata": {},
   "outputs": [],
   "source": [
    "url=\"https://www.flipkart.com/apple-iphone-11-black-64-gb-includes- earpods-poweradapter/p/itm0f37c2240b217?pid=MOBFKCTSVZAXUHGR&lid=LSTMOBFKCTSVZAXUHGREPBFGI&marketplace.\""
   ]
  },
  {
   "cell_type": "code",
   "execution_count": 45,
   "id": "c6aec740",
   "metadata": {},
   "outputs": [],
   "source": [
    "driver.get(url)"
   ]
  },
  {
   "cell_type": "code",
   "execution_count": 46,
   "id": "2aa25efa",
   "metadata": {},
   "outputs": [],
   "source": [
    "ratings = []\n",
    "revw_summ = []\n",
    "full_revw = []"
   ]
  },
  {
   "cell_type": "code",
   "execution_count": 177,
   "id": "d3db00e6",
   "metadata": {},
   "outputs": [],
   "source": [
    "# opening the 'all reviews' page using the xpath"
   ]
  },
  {
   "cell_type": "code",
   "execution_count": 47,
   "id": "8c5dbf99",
   "metadata": {},
   "outputs": [],
   "source": [
    "clk_all_revws = driver.find_element_by_xpath(\"//div[@class='_3UAT2v _16PBlm']/span\").click()"
   ]
  },
  {
   "cell_type": "code",
   "execution_count": 48,
   "id": "cb293f33",
   "metadata": {
    "scrolled": true
   },
   "outputs": [
    {
     "name": "stdout",
     "output_type": "stream",
     "text": [
      "['5', '5', '5', '5', '5', '5', '5', '4', '5', '5']\n",
      "['Brilliant', 'Simply awesome', 'Perfect product!', 'Worth every penny', 'Fabulous!', 'Best in the market!', 'Great product', 'Good choice', 'Worth every penny', 'Highly recommended']\n",
      "['The Best Phone for the Money\\n\\nThe iPhone 11 offers superb cameras, a more durable design and excellent battery life for an affordable price.\\n\\nCompelling ultra-wide camera\\nNew Night mode is excellent\\nLong battery life', 'Really satisfied with the Product I received... It’s totally genuine and the packaging was also really good so if ur planning to buy just go for it.', 'Amazing phone with great cameras and better battery which gives you the best performance. I just love the camera .', 'Previously I was using one plus 3t it was a great phone\\nAnd then I decided to upgrade I am stuck between Samsung s10 plus or iPhone 11\\nI have seen the specs and everything were good except the display it’s somewhere between 720-1080 and it’s not even an amoled it’s an LCD display\\nBut I decided to go with iPhone because I have never used an IOS device I have Been an android user from the past 9 years I ordered IPhone 11 (128gb) product red\\nMy experience after using 3 weeks\\n1. The delivery ...\\nREAD MORE', 'This is my first iOS phone. I am very happy with this product. Very much satisfied with this. I love this phone.', 'Great iPhone very snappy experience as apple kind. Upgraded from iPhone 7.\\nPros\\n-Camera top class\\n- Battery top performed\\n-Chipset no need to say as apple kind\\n-Security as you expect from apple\\n- Display super bright industry leading colour\\naccuracy and super responsive\\n-Build quality as expect from apple sturdy\\npremium durable beautiful stylish.\\n-Os most stable os in smartphone industry\\n\\nCons\\n-No 5G\\n-Display is not based on OLED technology\\n-Charger headphones and 1 apple stic...\\nREAD MORE', 'Amazing Powerful and Durable Gadget.\\n\\nI’m am very happy with the camera picture quality, Amazing face id unlocked in dark room, Strong battery with perfect screen size as you can carry easily in pocket. This is my third iPhone.\\n\\nI shifted from android Samsung Note series to iPhone because of the strong build quality and peace of mind for next 3-4 years.\\n\\nDon’t think to much just go for it and I suggest you to go for minimum 128gb variant or more 256gb.\\n\\nI’ve attached my puppy pics and no fi...\\nREAD MORE', 'So far it’s been an AMAZING experience coming back to iOS after nearly a decade but it’s not as versatile as android though phone is sturdy dropped it accidentally a couple of times and nothing happened fortunately camera is awesome', 'i11 is worthy to buy, too much happy with the product. Thank u flipkart I received the item on time..loved it..', 'iphone 11 is a very good phone to buy only if you can compromise for the display. The display on this is device is pretty good but you can get other options with better displays in this price segment.\\nIf you can survive with an HD+ LCD panel with thicker bezels and a notch up top then this is a very good phone for you.\\nCameras are awesome, battery backup excellent, great performance and a decent premium look. Good job Apple !']\n"
     ]
    }
   ],
   "source": [
    "# getting all the attributes of the product from page 1\n",
    "\n",
    "#scraping all the tags from the page 1\n",
    "rtng_tags_p1=driver.find_elements_by_xpath(\"//div[@class='_3LWZlK _1BLPMq']\")\n",
    "\n",
    "revw_summ_tags_p1=driver.find_elements_by_xpath(\"//p[@class='_2-N8zT']\")\n",
    "\n",
    "full_revw_tags_p1=driver.find_elements_by_xpath(\"//div[@class='t-ZTKy']\")\n",
    "\n",
    "\n",
    "#iterating the tags and appending into the list\n",
    "for i in rtng_tags_p1:\n",
    "    rtng1=i.text\n",
    "    ratings.append(rtng1)\n",
    "print(ratings)\n",
    "\n",
    "for i in revw_summ_tags_p1:\n",
    "    revw1=i.text\n",
    "    revw_summ.append(revw1)\n",
    "print(revw_summ)\n",
    "\n",
    "for i in full_revw_tags_p1:\n",
    "    summ1=i.text\n",
    "    full_revw.append(summ1)\n",
    "print(full_revw)"
   ]
  },
  {
   "cell_type": "code",
   "execution_count": 49,
   "id": "b61feab9",
   "metadata": {},
   "outputs": [],
   "source": [
    "# getting on page 2\n",
    "page2 = driver.get('https://www.flipkart.com/apple-iphone-11-black-64-gb-includes-earpods-power-adapter/product-reviews/itm0f37c2240b217?pid=MOBFKCTSVZAXUHGR&lid=LSTMOBFKCTSVZAXUHGREPBFGI&marketplace=FLIPKART&page=2')\n",
    "page2"
   ]
  },
  {
   "cell_type": "code",
   "execution_count": 50,
   "id": "0698918b",
   "metadata": {
    "scrolled": true
   },
   "outputs": [
    {
     "name": "stdout",
     "output_type": "stream",
     "text": [
      "['5', '5', '5', '5', '5', '5', '5', '4', '5', '5', '5', '5', '5', '5', '5', '5', '5', '5', '5', '5']\n",
      "['Brilliant', 'Simply awesome', 'Perfect product!', 'Worth every penny', 'Fabulous!', 'Best in the market!', 'Great product', 'Good choice', 'Worth every penny', 'Highly recommended', 'Highly recommended', 'Perfect product!', 'Perfect product!', 'Classy product', 'Worth every penny', 'Simply awesome', 'Perfect product!', 'Highly recommended', 'Worth every penny', 'Worth every penny']\n",
      "['The Best Phone for the Money\\n\\nThe iPhone 11 offers superb cameras, a more durable design and excellent battery life for an affordable price.\\n\\nCompelling ultra-wide camera\\nNew Night mode is excellent\\nLong battery life', 'Really satisfied with the Product I received... It’s totally genuine and the packaging was also really good so if ur planning to buy just go for it.', 'Amazing phone with great cameras and better battery which gives you the best performance. I just love the camera .', 'Previously I was using one plus 3t it was a great phone\\nAnd then I decided to upgrade I am stuck between Samsung s10 plus or iPhone 11\\nI have seen the specs and everything were good except the display it’s somewhere between 720-1080 and it’s not even an amoled it’s an LCD display\\nBut I decided to go with iPhone because I have never used an IOS device I have Been an android user from the past 9 years I ordered IPhone 11 (128gb) product red\\nMy experience after using 3 weeks\\n1. The delivery ...\\nREAD MORE', 'This is my first iOS phone. I am very happy with this product. Very much satisfied with this. I love this phone.', 'Great iPhone very snappy experience as apple kind. Upgraded from iPhone 7.\\nPros\\n-Camera top class\\n- Battery top performed\\n-Chipset no need to say as apple kind\\n-Security as you expect from apple\\n- Display super bright industry leading colour\\naccuracy and super responsive\\n-Build quality as expect from apple sturdy\\npremium durable beautiful stylish.\\n-Os most stable os in smartphone industry\\n\\nCons\\n-No 5G\\n-Display is not based on OLED technology\\n-Charger headphones and 1 apple stic...\\nREAD MORE', 'Amazing Powerful and Durable Gadget.\\n\\nI’m am very happy with the camera picture quality, Amazing face id unlocked in dark room, Strong battery with perfect screen size as you can carry easily in pocket. This is my third iPhone.\\n\\nI shifted from android Samsung Note series to iPhone because of the strong build quality and peace of mind for next 3-4 years.\\n\\nDon’t think to much just go for it and I suggest you to go for minimum 128gb variant or more 256gb.\\n\\nI’ve attached my puppy pics and no fi...\\nREAD MORE', 'So far it’s been an AMAZING experience coming back to iOS after nearly a decade but it’s not as versatile as android though phone is sturdy dropped it accidentally a couple of times and nothing happened fortunately camera is awesome', 'i11 is worthy to buy, too much happy with the product. Thank u flipkart I received the item on time..loved it..', 'iphone 11 is a very good phone to buy only if you can compromise for the display. The display on this is device is pretty good but you can get other options with better displays in this price segment.\\nIf you can survive with an HD+ LCD panel with thicker bezels and a notch up top then this is a very good phone for you.\\nCameras are awesome, battery backup excellent, great performance and a decent premium look. Good job Apple !', 'What a camera .....just awesome ..you can feel this iPhone just awesome . Good for gaming also ...try pubg in hd it’s just wow', 'It’s a must buy who is looking for an upgrade from previous generation of iPhones. If you are using XR then still you can hold on for sometime and upgrade to 2020 model else this phone is a must buy . Camera quality is amazing and wide angle is something to count upon. Performance wise it’s amazing and feels premium while holding in hand. So a big YES for this device. Go for 128 GB variant as the 4K videos will occupy lots of space and the storage can get over very quickly. Try to buy it with...\\nREAD MORE', 'Value for money❤️❤️\\nIts awesome mobile phone in the world ...\\nDisplay was very good and bright ..\\nTrust me freinds you r never regret after Buying..\\nJust go for it....\\nI love this phone and i switch to iphone x to 11', 'Totally in love with this ❤ the camera quality is amazing just love it 😘😘😘 itsss dammnnnnnn amazing... Must buy iPhone 11 this is my best experience ever ☀👌👌🧡🧡🧡🧡🧡 thanku apple ❤', 'Best budget Iphone till date ❤️ go for it guys without second thought. Let me explain you guys about Camera, Display, battery, and performance.\\n\\nCamera: at this price range there is no comparison of camera, you’ll love the picture quality as well as video quality. I am a Vlogger I wanted an iPhone with 4k video by front camera and I got this phone and I am more than happy 😃\\n\\nBattery: I use this phone roughly as I am active social media person and I have a youtube channel. so the battery ba...\\nREAD MORE', 'Excellent camera, good performance, no lag. The lcd display is also good.. but difference come when we watch movie in prime and Netflix, the colours are not vibrant.. as we see in amoled display.. and the charger in box is of 5 watts.. takes more than 3 hours to charge from 0 to 100.. so guys be prepare to buy 18 watts charger . Finally I am an android user, it was my first Iapple phone, I promise u guys the iOS is so smooth.. overall the phone is damn good.... close eyes to buy it.. thanks t...\\nREAD MORE', \"Iphone is just awesome.. battery backup is very very nice.. continuously for 10 hours we can use it.camera is just awesome.. display is just fab.i love it alot..i had to wait 15 days for it as i pre ordered it..overalll it's worth the price..these all images are clicked by my iPhone..and i love it.\", \"It's my first time to use iOS phone and I am loving my upgradation 😍😍 I love the color, I love the assebility of the phone....I need to learn more about its functionality, but as far as I have seen, it's quite easy and it has a lot of functions to work on, specially if you are a content writer or a blogger you get a lot of content creation platforms and they are really amazing.\\n\\nThis phone not only for good quality photography but a lot of other task too.😍💯\", 'It’s been almost a month since I have been using this phone. I upgraded from an iPhone 8. The main issue with my 8 was battery and this phone is just awesome when it comes to battery. It lasts a day and a half for me with my regular use , internet connected always with 4g\\nCan’t move forward without saying this. Battery of this phone is a life saver when I am traveling or at work when I don’t get the option to charge\\nCamera is superb. Front cam selfies and back cam photos are just awesome.\\n...\\nREAD MORE', 'Smooth like butter, camera like fantabulous, sound is crystal clear & its red color is damn attractive, i am just loving it. Must buy if you love photography.\\n\\nLucky to get it in sale, thank you Flipkart.']\n"
     ]
    }
   ],
   "source": [
    "#getting all the attributes of the product from page 2\n",
    "\n",
    "#scraping all the tags from the page 2\n",
    "rtng_tags_p2=driver.find_elements_by_xpath(\"//div[@class='_3LWZlK _1BLPMq']\")\n",
    "\n",
    "revw_summ_tags_p2=driver.find_elements_by_xpath(\"//p[@class='_2-N8zT']\")\n",
    "\n",
    "full_revw_tags_p2=driver.find_elements_by_xpath(\"//div[@class='t-ZTKy']\")\n",
    "\n",
    "\n",
    "\n",
    "for i in rtng_tags_p2:\n",
    "    rtng2=i.text\n",
    "    ratings.append(rtng2)\n",
    "print(ratings)\n",
    "\n",
    "for i in revw_summ_tags_p2:\n",
    "    revw2=i.text\n",
    "    revw_summ.append(revw2)\n",
    "print(revw_summ)\n",
    "\n",
    "for i in full_revw_tags_p2:\n",
    "    summ2=i.text\n",
    "    full_revw.append(summ2)\n",
    "print(full_revw)"
   ]
  },
  {
   "cell_type": "code",
   "execution_count": 51,
   "id": "ae6ef946",
   "metadata": {},
   "outputs": [],
   "source": [
    "page3 = driver.get('https://www.flipkart.com/apple-iphone-11-black-64-gb-includes-earpods-power-adapter/product-reviews/itm0f37c2240b217?pid=MOBFKCTSVZAXUHGR&lid=LSTMOBFKCTSVZAXUHGREPBFGI&marketplace=FLIPKART&page=3')\n",
    "page3"
   ]
  },
  {
   "cell_type": "code",
   "execution_count": 52,
   "id": "91868280",
   "metadata": {
    "scrolled": true
   },
   "outputs": [
    {
     "name": "stdout",
     "output_type": "stream",
     "text": [
      "['5', '5', '5', '5', '5', '5', '5', '4', '5', '5', '5', '5', '5', '5', '5', '5', '5', '5', '5', '5', '5', '5', '4', '5', '5', '5', '5', '5', '4', '5']\n",
      "['Brilliant', 'Simply awesome', 'Perfect product!', 'Worth every penny', 'Fabulous!', 'Best in the market!', 'Great product', 'Good choice', 'Worth every penny', 'Highly recommended', 'Highly recommended', 'Perfect product!', 'Perfect product!', 'Classy product', 'Worth every penny', 'Simply awesome', 'Perfect product!', 'Highly recommended', 'Worth every penny', 'Worth every penny', 'Terrific', 'Wonderful', 'Nice product', 'Perfect product!', 'Brilliant', 'Classy product', 'Must buy!', 'Wonderful', 'Good choice', 'Perfect product!']\n",
      "['The Best Phone for the Money\\n\\nThe iPhone 11 offers superb cameras, a more durable design and excellent battery life for an affordable price.\\n\\nCompelling ultra-wide camera\\nNew Night mode is excellent\\nLong battery life', 'Really satisfied with the Product I received... It’s totally genuine and the packaging was also really good so if ur planning to buy just go for it.', 'Amazing phone with great cameras and better battery which gives you the best performance. I just love the camera .', 'Previously I was using one plus 3t it was a great phone\\nAnd then I decided to upgrade I am stuck between Samsung s10 plus or iPhone 11\\nI have seen the specs and everything were good except the display it’s somewhere between 720-1080 and it’s not even an amoled it’s an LCD display\\nBut I decided to go with iPhone because I have never used an IOS device I have Been an android user from the past 9 years I ordered IPhone 11 (128gb) product red\\nMy experience after using 3 weeks\\n1. The delivery ...\\nREAD MORE', 'This is my first iOS phone. I am very happy with this product. Very much satisfied with this. I love this phone.', 'Great iPhone very snappy experience as apple kind. Upgraded from iPhone 7.\\nPros\\n-Camera top class\\n- Battery top performed\\n-Chipset no need to say as apple kind\\n-Security as you expect from apple\\n- Display super bright industry leading colour\\naccuracy and super responsive\\n-Build quality as expect from apple sturdy\\npremium durable beautiful stylish.\\n-Os most stable os in smartphone industry\\n\\nCons\\n-No 5G\\n-Display is not based on OLED technology\\n-Charger headphones and 1 apple stic...\\nREAD MORE', 'Amazing Powerful and Durable Gadget.\\n\\nI’m am very happy with the camera picture quality, Amazing face id unlocked in dark room, Strong battery with perfect screen size as you can carry easily in pocket. This is my third iPhone.\\n\\nI shifted from android Samsung Note series to iPhone because of the strong build quality and peace of mind for next 3-4 years.\\n\\nDon’t think to much just go for it and I suggest you to go for minimum 128gb variant or more 256gb.\\n\\nI’ve attached my puppy pics and no fi...\\nREAD MORE', 'So far it’s been an AMAZING experience coming back to iOS after nearly a decade but it’s not as versatile as android though phone is sturdy dropped it accidentally a couple of times and nothing happened fortunately camera is awesome', 'i11 is worthy to buy, too much happy with the product. Thank u flipkart I received the item on time..loved it..', 'iphone 11 is a very good phone to buy only if you can compromise for the display. The display on this is device is pretty good but you can get other options with better displays in this price segment.\\nIf you can survive with an HD+ LCD panel with thicker bezels and a notch up top then this is a very good phone for you.\\nCameras are awesome, battery backup excellent, great performance and a decent premium look. Good job Apple !', 'What a camera .....just awesome ..you can feel this iPhone just awesome . Good for gaming also ...try pubg in hd it’s just wow', 'It’s a must buy who is looking for an upgrade from previous generation of iPhones. If you are using XR then still you can hold on for sometime and upgrade to 2020 model else this phone is a must buy . Camera quality is amazing and wide angle is something to count upon. Performance wise it’s amazing and feels premium while holding in hand. So a big YES for this device. Go for 128 GB variant as the 4K videos will occupy lots of space and the storage can get over very quickly. Try to buy it with...\\nREAD MORE', 'Value for money❤️❤️\\nIts awesome mobile phone in the world ...\\nDisplay was very good and bright ..\\nTrust me freinds you r never regret after Buying..\\nJust go for it....\\nI love this phone and i switch to iphone x to 11', 'Totally in love with this ❤ the camera quality is amazing just love it 😘😘😘 itsss dammnnnnnn amazing... Must buy iPhone 11 this is my best experience ever ☀👌👌🧡🧡🧡🧡🧡 thanku apple ❤', 'Best budget Iphone till date ❤️ go for it guys without second thought. Let me explain you guys about Camera, Display, battery, and performance.\\n\\nCamera: at this price range there is no comparison of camera, you’ll love the picture quality as well as video quality. I am a Vlogger I wanted an iPhone with 4k video by front camera and I got this phone and I am more than happy 😃\\n\\nBattery: I use this phone roughly as I am active social media person and I have a youtube channel. so the battery ba...\\nREAD MORE', 'Excellent camera, good performance, no lag. The lcd display is also good.. but difference come when we watch movie in prime and Netflix, the colours are not vibrant.. as we see in amoled display.. and the charger in box is of 5 watts.. takes more than 3 hours to charge from 0 to 100.. so guys be prepare to buy 18 watts charger . Finally I am an android user, it was my first Iapple phone, I promise u guys the iOS is so smooth.. overall the phone is damn good.... close eyes to buy it.. thanks t...\\nREAD MORE', \"Iphone is just awesome.. battery backup is very very nice.. continuously for 10 hours we can use it.camera is just awesome.. display is just fab.i love it alot..i had to wait 15 days for it as i pre ordered it..overalll it's worth the price..these all images are clicked by my iPhone..and i love it.\", \"It's my first time to use iOS phone and I am loving my upgradation 😍😍 I love the color, I love the assebility of the phone....I need to learn more about its functionality, but as far as I have seen, it's quite easy and it has a lot of functions to work on, specially if you are a content writer or a blogger you get a lot of content creation platforms and they are really amazing.\\n\\nThis phone not only for good quality photography but a lot of other task too.😍💯\", 'It’s been almost a month since I have been using this phone. I upgraded from an iPhone 8. The main issue with my 8 was battery and this phone is just awesome when it comes to battery. It lasts a day and a half for me with my regular use , internet connected always with 4g\\nCan’t move forward without saying this. Battery of this phone is a life saver when I am traveling or at work when I don’t get the option to charge\\nCamera is superb. Front cam selfies and back cam photos are just awesome.\\n...\\nREAD MORE', 'Smooth like butter, camera like fantabulous, sound is crystal clear & its red color is damn attractive, i am just loving it. Must buy if you love photography.\\n\\nLucky to get it in sale, thank you Flipkart.', 'Really worth of money. i just love it. It is the best phone ever.', 'This is my first ever I phone. Before this I was using my google nexus 5. But moving from android to iOS is a great experience. It’s worth at this price. I will highly recommend it if you want to move to iOS. The best part of this phone is it’s camera and it’s battery life. This two things have won my heart. I loved it. Happy to have it in my hand. Still exploring its features. And can’t forget to mention Flipkart service. Very prompt service and fast delivery.', 'Awesome Phone. Slightly high price but worth. Better than iPhone XR.\\nCamera is superb and wide angle camera is very clear.\\n12MP selfie camera is also very good.\\nA13 Chip gives a very good and smooth performance.', 'Battery backup is extraordinary, camera is decent & performance offered by A13 bionic is awsome. The display is good in practical usage like the visibility of display is very good in direct sun light compare to pro models. Iam extremely satisfied for the money I spent.', 'I have migrated from OP 7pro... and trust me, iPhone 11 is totally worth it.. following are the reasons:-\\n1)there is ABSOLUTELY NO ISSUE WITH THE DISPLAY... its crisp, sharp and I found it to be much much better than OP7 pro. Netflix, Prime video all run crisply... you won’t miss a thing. True Tone works flawlessly...the display brightness is perfect. OP have not calibrated their screens properly.\\n2) iPhone 11 series have really good cameras... others have spoken in depth about them.\\n3) bat...\\nREAD MORE', 'Superb Product !!!\\nA big and worthy upgrade from mi 3S to iphone 11 .\\nTotally loved it !', 'It’s an amazing product from apple and the camera is simply superb. Phone is faster.Night shot is simply superb and detailing and colour differentiation from camera is an added advantage\\n\\nThis review I have written from iPhone 11 only and I am glad to say outside.\\n\\nCons wise if we see HD+ display only, no battery percentage indicator as in older iPhone 8.\\nNo assistive touch control button in it\\nNo oleophobic coating on back panel glass and finger prints are visible but since I bought mint gr...\\nREAD MORE', 'I just directly switch from iphone 6s to iphone 11 .The best premium smartphone I recommend to everyone. Excellent quality and colors the iphone have in 11 series.\\nCamera quality is just awesome and the major feel when we hold in our hands. The sound quality and volume is also higher then the previous models.\\nI will recommend to buy iphone 11 instead of pro models , there is nothing much difference as this model contains everything which fulfill our needs.\\n\\nOnly one thing that I dislike abo...\\nREAD MORE', 'Looking so good 👍 😍 super 👌 stylish 😎 phone\\nClean box 📦 good 👍 delivery 👌 fast delivery\\nOriginal box Original iphone 📱 👌 😍😍😍', 'After 1 month use I found camera quality best compared to my previous Samsung note 10+.Display not good as note 10 also charging too slow.Apple should add fast charger like 11 plus and pro.Best phone for daily use']\n"
     ]
    }
   ],
   "source": [
    "#page3\n",
    "\n",
    "rtng_tags_p3=driver.find_elements_by_xpath(\"//div[@class='_3LWZlK _1BLPMq']\")\n",
    "\n",
    "revw_summ_tags_p3=driver.find_elements_by_xpath(\"//p[@class='_2-N8zT']\")\n",
    "\n",
    "full_revw_tags_p3=driver.find_elements_by_xpath(\"//div[@class='t-ZTKy']\")\n",
    "\n",
    "\n",
    "for i in rtng_tags_p3:\n",
    "    rtng3=i.text\n",
    "    ratings.append(rtng3)\n",
    "print(ratings)\n",
    "\n",
    "for i in revw_summ_tags_p3:\n",
    "    revw3=i.text\n",
    "    revw_summ.append(revw3)\n",
    "print(revw_summ)\n",
    "\n",
    "for i in full_revw_tags_p3:\n",
    "    summ3=i.text\n",
    "    full_revw.append(summ3)\n",
    "print(full_revw)"
   ]
  },
  {
   "cell_type": "code",
   "execution_count": 53,
   "id": "c9422250",
   "metadata": {},
   "outputs": [],
   "source": [
    "page4 = driver.get('https://www.flipkart.com/apple-iphone-11-black-64-gb-includes-earpods-power-adapter/product-reviews/itm0f37c2240b217?pid=MOBFKCTSVZAXUHGR&lid=LSTMOBFKCTSVZAXUHGREPBFGI&marketplace=FLIPKART&page=4')\n",
    "page4"
   ]
  },
  {
   "cell_type": "code",
   "execution_count": 54,
   "id": "7699dad3",
   "metadata": {},
   "outputs": [
    {
     "name": "stdout",
     "output_type": "stream",
     "text": [
      "['5', '5', '5', '5', '5', '5', '5', '4', '5', '5', '5', '5', '5', '5', '5', '5', '5', '5', '5', '5', '5', '5', '4', '5', '5', '5', '5', '5', '4', '5', '5', '5', '5', '5', '5', '5', '5', '4', '5']\n",
      "['Brilliant', 'Simply awesome', 'Perfect product!', 'Worth every penny', 'Fabulous!', 'Best in the market!', 'Great product', 'Good choice', 'Worth every penny', 'Highly recommended', 'Highly recommended', 'Perfect product!', 'Perfect product!', 'Classy product', 'Worth every penny', 'Simply awesome', 'Perfect product!', 'Highly recommended', 'Worth every penny', 'Worth every penny', 'Terrific', 'Wonderful', 'Nice product', 'Perfect product!', 'Brilliant', 'Classy product', 'Must buy!', 'Wonderful', 'Good choice', 'Perfect product!', 'Terrific purchase', 'Simply awesome', 'Great product', 'Terrific purchase', 'Mind-blowing purchase', 'Excellent', 'Simply awesome', 'Good quality product', 'Very poor', 'Classy product']\n",
      "['The Best Phone for the Money\\n\\nThe iPhone 11 offers superb cameras, a more durable design and excellent battery life for an affordable price.\\n\\nCompelling ultra-wide camera\\nNew Night mode is excellent\\nLong battery life', 'Really satisfied with the Product I received... It’s totally genuine and the packaging was also really good so if ur planning to buy just go for it.', 'Amazing phone with great cameras and better battery which gives you the best performance. I just love the camera .', 'Previously I was using one plus 3t it was a great phone\\nAnd then I decided to upgrade I am stuck between Samsung s10 plus or iPhone 11\\nI have seen the specs and everything were good except the display it’s somewhere between 720-1080 and it’s not even an amoled it’s an LCD display\\nBut I decided to go with iPhone because I have never used an IOS device I have Been an android user from the past 9 years I ordered IPhone 11 (128gb) product red\\nMy experience after using 3 weeks\\n1. The delivery ...\\nREAD MORE', 'This is my first iOS phone. I am very happy with this product. Very much satisfied with this. I love this phone.', 'Great iPhone very snappy experience as apple kind. Upgraded from iPhone 7.\\nPros\\n-Camera top class\\n- Battery top performed\\n-Chipset no need to say as apple kind\\n-Security as you expect from apple\\n- Display super bright industry leading colour\\naccuracy and super responsive\\n-Build quality as expect from apple sturdy\\npremium durable beautiful stylish.\\n-Os most stable os in smartphone industry\\n\\nCons\\n-No 5G\\n-Display is not based on OLED technology\\n-Charger headphones and 1 apple stic...\\nREAD MORE', 'Amazing Powerful and Durable Gadget.\\n\\nI’m am very happy with the camera picture quality, Amazing face id unlocked in dark room, Strong battery with perfect screen size as you can carry easily in pocket. This is my third iPhone.\\n\\nI shifted from android Samsung Note series to iPhone because of the strong build quality and peace of mind for next 3-4 years.\\n\\nDon’t think to much just go for it and I suggest you to go for minimum 128gb variant or more 256gb.\\n\\nI’ve attached my puppy pics and no fi...\\nREAD MORE', 'So far it’s been an AMAZING experience coming back to iOS after nearly a decade but it’s not as versatile as android though phone is sturdy dropped it accidentally a couple of times and nothing happened fortunately camera is awesome', 'i11 is worthy to buy, too much happy with the product. Thank u flipkart I received the item on time..loved it..', 'iphone 11 is a very good phone to buy only if you can compromise for the display. The display on this is device is pretty good but you can get other options with better displays in this price segment.\\nIf you can survive with an HD+ LCD panel with thicker bezels and a notch up top then this is a very good phone for you.\\nCameras are awesome, battery backup excellent, great performance and a decent premium look. Good job Apple !', 'What a camera .....just awesome ..you can feel this iPhone just awesome . Good for gaming also ...try pubg in hd it’s just wow', 'It’s a must buy who is looking for an upgrade from previous generation of iPhones. If you are using XR then still you can hold on for sometime and upgrade to 2020 model else this phone is a must buy . Camera quality is amazing and wide angle is something to count upon. Performance wise it’s amazing and feels premium while holding in hand. So a big YES for this device. Go for 128 GB variant as the 4K videos will occupy lots of space and the storage can get over very quickly. Try to buy it with...\\nREAD MORE', 'Value for money❤️❤️\\nIts awesome mobile phone in the world ...\\nDisplay was very good and bright ..\\nTrust me freinds you r never regret after Buying..\\nJust go for it....\\nI love this phone and i switch to iphone x to 11', 'Totally in love with this ❤ the camera quality is amazing just love it 😘😘😘 itsss dammnnnnnn amazing... Must buy iPhone 11 this is my best experience ever ☀👌👌🧡🧡🧡🧡🧡 thanku apple ❤', 'Best budget Iphone till date ❤️ go for it guys without second thought. Let me explain you guys about Camera, Display, battery, and performance.\\n\\nCamera: at this price range there is no comparison of camera, you’ll love the picture quality as well as video quality. I am a Vlogger I wanted an iPhone with 4k video by front camera and I got this phone and I am more than happy 😃\\n\\nBattery: I use this phone roughly as I am active social media person and I have a youtube channel. so the battery ba...\\nREAD MORE', 'Excellent camera, good performance, no lag. The lcd display is also good.. but difference come when we watch movie in prime and Netflix, the colours are not vibrant.. as we see in amoled display.. and the charger in box is of 5 watts.. takes more than 3 hours to charge from 0 to 100.. so guys be prepare to buy 18 watts charger . Finally I am an android user, it was my first Iapple phone, I promise u guys the iOS is so smooth.. overall the phone is damn good.... close eyes to buy it.. thanks t...\\nREAD MORE', \"Iphone is just awesome.. battery backup is very very nice.. continuously for 10 hours we can use it.camera is just awesome.. display is just fab.i love it alot..i had to wait 15 days for it as i pre ordered it..overalll it's worth the price..these all images are clicked by my iPhone..and i love it.\", \"It's my first time to use iOS phone and I am loving my upgradation 😍😍 I love the color, I love the assebility of the phone....I need to learn more about its functionality, but as far as I have seen, it's quite easy and it has a lot of functions to work on, specially if you are a content writer or a blogger you get a lot of content creation platforms and they are really amazing.\\n\\nThis phone not only for good quality photography but a lot of other task too.😍💯\", 'It’s been almost a month since I have been using this phone. I upgraded from an iPhone 8. The main issue with my 8 was battery and this phone is just awesome when it comes to battery. It lasts a day and a half for me with my regular use , internet connected always with 4g\\nCan’t move forward without saying this. Battery of this phone is a life saver when I am traveling or at work when I don’t get the option to charge\\nCamera is superb. Front cam selfies and back cam photos are just awesome.\\n...\\nREAD MORE', 'Smooth like butter, camera like fantabulous, sound is crystal clear & its red color is damn attractive, i am just loving it. Must buy if you love photography.\\n\\nLucky to get it in sale, thank you Flipkart.', 'Really worth of money. i just love it. It is the best phone ever.', 'This is my first ever I phone. Before this I was using my google nexus 5. But moving from android to iOS is a great experience. It’s worth at this price. I will highly recommend it if you want to move to iOS. The best part of this phone is it’s camera and it’s battery life. This two things have won my heart. I loved it. Happy to have it in my hand. Still exploring its features. And can’t forget to mention Flipkart service. Very prompt service and fast delivery.', 'Awesome Phone. Slightly high price but worth. Better than iPhone XR.\\nCamera is superb and wide angle camera is very clear.\\n12MP selfie camera is also very good.\\nA13 Chip gives a very good and smooth performance.', 'Battery backup is extraordinary, camera is decent & performance offered by A13 bionic is awsome. The display is good in practical usage like the visibility of display is very good in direct sun light compare to pro models. Iam extremely satisfied for the money I spent.', 'I have migrated from OP 7pro... and trust me, iPhone 11 is totally worth it.. following are the reasons:-\\n1)there is ABSOLUTELY NO ISSUE WITH THE DISPLAY... its crisp, sharp and I found it to be much much better than OP7 pro. Netflix, Prime video all run crisply... you won’t miss a thing. True Tone works flawlessly...the display brightness is perfect. OP have not calibrated their screens properly.\\n2) iPhone 11 series have really good cameras... others have spoken in depth about them.\\n3) bat...\\nREAD MORE', 'Superb Product !!!\\nA big and worthy upgrade from mi 3S to iphone 11 .\\nTotally loved it !', 'It’s an amazing product from apple and the camera is simply superb. Phone is faster.Night shot is simply superb and detailing and colour differentiation from camera is an added advantage\\n\\nThis review I have written from iPhone 11 only and I am glad to say outside.\\n\\nCons wise if we see HD+ display only, no battery percentage indicator as in older iPhone 8.\\nNo assistive touch control button in it\\nNo oleophobic coating on back panel glass and finger prints are visible but since I bought mint gr...\\nREAD MORE', 'I just directly switch from iphone 6s to iphone 11 .The best premium smartphone I recommend to everyone. Excellent quality and colors the iphone have in 11 series.\\nCamera quality is just awesome and the major feel when we hold in our hands. The sound quality and volume is also higher then the previous models.\\nI will recommend to buy iphone 11 instead of pro models , there is nothing much difference as this model contains everything which fulfill our needs.\\n\\nOnly one thing that I dislike abo...\\nREAD MORE', 'Looking so good 👍 😍 super 👌 stylish 😎 phone\\nClean box 📦 good 👍 delivery 👌 fast delivery\\nOriginal box Original iphone 📱 👌 😍😍😍', 'After 1 month use I found camera quality best compared to my previous Samsung note 10+.Display not good as note 10 also charging too slow.Apple should add fast charger like 11 plus and pro.Best phone for daily use', 'Upgraded from iphone 6 to 11 best phone for iphone users battery is much better than other iphones camera is awesome love to use it.camera is so clear in night.', \"It's very high performances devise i am like the service of flipkart delevary very fast and packing very nice perfect phone\", 'Well you all know the specifications . One of a kind. Best iPhone till date. Many enhancements to the camera app with many options. Love the glass body with matte finish in the lens area on the back. Lovely colours to choose from. Best battery in an iPhone till date, enough to last more than a day in normal usage. I tested my iPhone 11 battery and lasted for than 24 hours after full charge still with 30% battery charge left. Watched movies for some time. Normal usage on calls, browsing, musi...\\nREAD MORE', 'The built quality is not very premium.\\nThe battery back is great .\\nThe LCD panel is not so sharp but the brightness level is very High .\\nCamera is super duper awesome.\\nThe red colour which people think is bright is actually very soothing and excellent colour to choose from .\\nThe A13 Bionic chip is really a flagship processor and can beat any phone which even has 12 gb ram .\\nCamera module is very great and looks very stylish.', 'This will help you more. See if you are planning to buy iPhone 11. I will say. Yes. But there are some plans I just want to disclose before you buy. 1) If you are an existing iPhone X/XS/XS Max/ XR user, better you guys do not think it to buy. You guys have more or less better gadget. 2) If you are an android user and planning to buy premium phone. I will suggest them to please buy iPhone instead of buying an Android. I bet you will never go back to android after using IOS. Now I want to shar...\\nREAD MORE', 'Amazing camera and feel super machine I am not describe my feeling but this is amazing Phone I am so lucky I have this', 'Really good actually this is my first apple product am using its really awesome performance wise excellent. Am really happy with this iphone11', 'it is very good at performance. Camera is best like before and very smooth response even in water. Don’t buy 12 mini buy iPhone 11 , it is far better than 12 mini believe me ! Have a nice day \\uf8ff ☺️', 'Reviewing again after 5 months. At the beginning the battery and performance was good but it degraded soon. Also I was facing heating issues. The mobile will heat up like a stove sometimes. You cannot even play Pubg even in low settings properly, performance is not a problem but heating is. Also if you play that game for 10 mins the brightness will be automatically down due to over heating even when the auto brightness is set to off. This will not be solved even if u manually increase the bri...\\nREAD MORE', 'We are on apple ecosystem for almost eight years now with couple of iPads and iPhones, including Xr.\\n\\nBought iPhone 11 as a gift to my daughter who loves it. We chose for a purple coloured one. Believe me it is gorgeous and towards the lighter shade. Dazzling and brilliant!\\n\\nThe phone is great and does excellent RAM management like any other Apple device.\\n\\nThe screen, though a LCD and lesser ppi as compared to other flagship phones of competitor brands, is a delight to watch with perfect re...\\nREAD MORE']\n"
     ]
    }
   ],
   "source": [
    "#page4\n",
    "\n",
    "rtng_tags_p4=driver.find_elements_by_xpath(\"//div[@class='_3LWZlK _1BLPMq']\")\n",
    "\n",
    "revw_summ_tags_p4=driver.find_elements_by_xpath(\"//p[@class='_2-N8zT']\")\n",
    "\n",
    "full_revw_tags_p4=driver.find_elements_by_xpath(\"//div[@class='t-ZTKy']\")\n",
    "\n",
    "\n",
    "\n",
    "for i in rtng_tags_p4:\n",
    "    rtng4=i.text\n",
    "    ratings.append(rtng4)\n",
    "print(ratings)\n",
    "\n",
    "for i in revw_summ_tags_p4:\n",
    "    revw4=i.text\n",
    "    revw_summ.append(revw4)\n",
    "print(revw_summ)\n",
    "\n",
    "for i in full_revw_tags_p4:\n",
    "    summ4=i.text\n",
    "    full_revw.append(summ4)\n",
    "print(full_revw)"
   ]
  },
  {
   "cell_type": "code",
   "execution_count": 55,
   "id": "614c7e90",
   "metadata": {},
   "outputs": [
    {
     "name": "stdout",
     "output_type": "stream",
     "text": [
      "1\n"
     ]
    }
   ],
   "source": [
    "# including the bad rating of the product into the list by using the same method\n",
    "\n",
    "page4_bad_rating = driver.find_elements_by_xpath(\"//div[@class='_3LWZlK _1rdVr6 _1BLPMq']\")\n",
    "\n",
    "for i in page4_bad_rating:\n",
    "    bad_rating=i.text\n",
    "print(bad_rating)"
   ]
  },
  {
   "cell_type": "code",
   "execution_count": 56,
   "id": "85ba9ebc",
   "metadata": {},
   "outputs": [],
   "source": [
    "ratings.insert(38,bad_rating)"
   ]
  },
  {
   "cell_type": "code",
   "execution_count": 57,
   "id": "a476069c",
   "metadata": {},
   "outputs": [
    {
     "name": "stdout",
     "output_type": "stream",
     "text": [
      "40 40 40\n"
     ]
    }
   ],
   "source": [
    "print(len(ratings),len(revw_summ),len(full_revw))"
   ]
  },
  {
   "cell_type": "code",
   "execution_count": 58,
   "id": "946bd8df",
   "metadata": {},
   "outputs": [],
   "source": [
    "page5 = driver.get('https://www.flipkart.com/apple-iphone-11-black-64-gb-includes-earpods-power-adapter/product-reviews/itm0f37c2240b217?pid=MOBFKCTSVZAXUHGR&lid=LSTMOBFKCTSVZAXUHGREPBFGI&marketplace=FLIPKART&page=5')\n",
    "page5"
   ]
  },
  {
   "cell_type": "code",
   "execution_count": 59,
   "id": "62d4c9bb",
   "metadata": {},
   "outputs": [
    {
     "name": "stdout",
     "output_type": "stream",
     "text": [
      "['5', '5', '5', '5', '5', '5', '5', '4', '5', '5', '5', '5', '5', '5', '5', '5', '5', '5', '5', '5', '5', '5', '4', '5', '5', '5', '5', '5', '4', '5', '5', '5', '5', '5', '5', '5', '5', '4', '1', '5', '5', '5', '5', '5', '5', '5', '5', '4', '5', '5']\n",
      "['Brilliant', 'Simply awesome', 'Perfect product!', 'Worth every penny', 'Fabulous!', 'Best in the market!', 'Great product', 'Good choice', 'Worth every penny', 'Highly recommended', 'Highly recommended', 'Perfect product!', 'Perfect product!', 'Classy product', 'Worth every penny', 'Simply awesome', 'Perfect product!', 'Highly recommended', 'Worth every penny', 'Worth every penny', 'Terrific', 'Wonderful', 'Nice product', 'Perfect product!', 'Brilliant', 'Classy product', 'Must buy!', 'Wonderful', 'Good choice', 'Perfect product!', 'Terrific purchase', 'Simply awesome', 'Great product', 'Terrific purchase', 'Mind-blowing purchase', 'Excellent', 'Simply awesome', 'Good quality product', 'Very poor', 'Classy product', 'Perfect product!', 'Must buy!', 'Fabulous!', 'Mind-blowing purchase', 'Mind-blowing purchase', 'Wonderful', 'Great product', 'Very Good', 'Classy product', 'Perfect product!']\n",
      "['The Best Phone for the Money\\n\\nThe iPhone 11 offers superb cameras, a more durable design and excellent battery life for an affordable price.\\n\\nCompelling ultra-wide camera\\nNew Night mode is excellent\\nLong battery life', 'Really satisfied with the Product I received... It’s totally genuine and the packaging was also really good so if ur planning to buy just go for it.', 'Amazing phone with great cameras and better battery which gives you the best performance. I just love the camera .', 'Previously I was using one plus 3t it was a great phone\\nAnd then I decided to upgrade I am stuck between Samsung s10 plus or iPhone 11\\nI have seen the specs and everything were good except the display it’s somewhere between 720-1080 and it’s not even an amoled it’s an LCD display\\nBut I decided to go with iPhone because I have never used an IOS device I have Been an android user from the past 9 years I ordered IPhone 11 (128gb) product red\\nMy experience after using 3 weeks\\n1. The delivery ...\\nREAD MORE', 'This is my first iOS phone. I am very happy with this product. Very much satisfied with this. I love this phone.', 'Great iPhone very snappy experience as apple kind. Upgraded from iPhone 7.\\nPros\\n-Camera top class\\n- Battery top performed\\n-Chipset no need to say as apple kind\\n-Security as you expect from apple\\n- Display super bright industry leading colour\\naccuracy and super responsive\\n-Build quality as expect from apple sturdy\\npremium durable beautiful stylish.\\n-Os most stable os in smartphone industry\\n\\nCons\\n-No 5G\\n-Display is not based on OLED technology\\n-Charger headphones and 1 apple stic...\\nREAD MORE', 'Amazing Powerful and Durable Gadget.\\n\\nI’m am very happy with the camera picture quality, Amazing face id unlocked in dark room, Strong battery with perfect screen size as you can carry easily in pocket. This is my third iPhone.\\n\\nI shifted from android Samsung Note series to iPhone because of the strong build quality and peace of mind for next 3-4 years.\\n\\nDon’t think to much just go for it and I suggest you to go for minimum 128gb variant or more 256gb.\\n\\nI’ve attached my puppy pics and no fi...\\nREAD MORE', 'So far it’s been an AMAZING experience coming back to iOS after nearly a decade but it’s not as versatile as android though phone is sturdy dropped it accidentally a couple of times and nothing happened fortunately camera is awesome', 'i11 is worthy to buy, too much happy with the product. Thank u flipkart I received the item on time..loved it..', 'iphone 11 is a very good phone to buy only if you can compromise for the display. The display on this is device is pretty good but you can get other options with better displays in this price segment.\\nIf you can survive with an HD+ LCD panel with thicker bezels and a notch up top then this is a very good phone for you.\\nCameras are awesome, battery backup excellent, great performance and a decent premium look. Good job Apple !', 'What a camera .....just awesome ..you can feel this iPhone just awesome . Good for gaming also ...try pubg in hd it’s just wow', 'It’s a must buy who is looking for an upgrade from previous generation of iPhones. If you are using XR then still you can hold on for sometime and upgrade to 2020 model else this phone is a must buy . Camera quality is amazing and wide angle is something to count upon. Performance wise it’s amazing and feels premium while holding in hand. So a big YES for this device. Go for 128 GB variant as the 4K videos will occupy lots of space and the storage can get over very quickly. Try to buy it with...\\nREAD MORE', 'Value for money❤️❤️\\nIts awesome mobile phone in the world ...\\nDisplay was very good and bright ..\\nTrust me freinds you r never regret after Buying..\\nJust go for it....\\nI love this phone and i switch to iphone x to 11', 'Totally in love with this ❤ the camera quality is amazing just love it 😘😘😘 itsss dammnnnnnn amazing... Must buy iPhone 11 this is my best experience ever ☀👌👌🧡🧡🧡🧡🧡 thanku apple ❤', 'Best budget Iphone till date ❤️ go for it guys without second thought. Let me explain you guys about Camera, Display, battery, and performance.\\n\\nCamera: at this price range there is no comparison of camera, you’ll love the picture quality as well as video quality. I am a Vlogger I wanted an iPhone with 4k video by front camera and I got this phone and I am more than happy 😃\\n\\nBattery: I use this phone roughly as I am active social media person and I have a youtube channel. so the battery ba...\\nREAD MORE', 'Excellent camera, good performance, no lag. The lcd display is also good.. but difference come when we watch movie in prime and Netflix, the colours are not vibrant.. as we see in amoled display.. and the charger in box is of 5 watts.. takes more than 3 hours to charge from 0 to 100.. so guys be prepare to buy 18 watts charger . Finally I am an android user, it was my first Iapple phone, I promise u guys the iOS is so smooth.. overall the phone is damn good.... close eyes to buy it.. thanks t...\\nREAD MORE', \"Iphone is just awesome.. battery backup is very very nice.. continuously for 10 hours we can use it.camera is just awesome.. display is just fab.i love it alot..i had to wait 15 days for it as i pre ordered it..overalll it's worth the price..these all images are clicked by my iPhone..and i love it.\", \"It's my first time to use iOS phone and I am loving my upgradation 😍😍 I love the color, I love the assebility of the phone....I need to learn more about its functionality, but as far as I have seen, it's quite easy and it has a lot of functions to work on, specially if you are a content writer or a blogger you get a lot of content creation platforms and they are really amazing.\\n\\nThis phone not only for good quality photography but a lot of other task too.😍💯\", 'It’s been almost a month since I have been using this phone. I upgraded from an iPhone 8. The main issue with my 8 was battery and this phone is just awesome when it comes to battery. It lasts a day and a half for me with my regular use , internet connected always with 4g\\nCan’t move forward without saying this. Battery of this phone is a life saver when I am traveling or at work when I don’t get the option to charge\\nCamera is superb. Front cam selfies and back cam photos are just awesome.\\n...\\nREAD MORE', 'Smooth like butter, camera like fantabulous, sound is crystal clear & its red color is damn attractive, i am just loving it. Must buy if you love photography.\\n\\nLucky to get it in sale, thank you Flipkart.', 'Really worth of money. i just love it. It is the best phone ever.', 'This is my first ever I phone. Before this I was using my google nexus 5. But moving from android to iOS is a great experience. It’s worth at this price. I will highly recommend it if you want to move to iOS. The best part of this phone is it’s camera and it’s battery life. This two things have won my heart. I loved it. Happy to have it in my hand. Still exploring its features. And can’t forget to mention Flipkart service. Very prompt service and fast delivery.', 'Awesome Phone. Slightly high price but worth. Better than iPhone XR.\\nCamera is superb and wide angle camera is very clear.\\n12MP selfie camera is also very good.\\nA13 Chip gives a very good and smooth performance.', 'Battery backup is extraordinary, camera is decent & performance offered by A13 bionic is awsome. The display is good in practical usage like the visibility of display is very good in direct sun light compare to pro models. Iam extremely satisfied for the money I spent.', 'I have migrated from OP 7pro... and trust me, iPhone 11 is totally worth it.. following are the reasons:-\\n1)there is ABSOLUTELY NO ISSUE WITH THE DISPLAY... its crisp, sharp and I found it to be much much better than OP7 pro. Netflix, Prime video all run crisply... you won’t miss a thing. True Tone works flawlessly...the display brightness is perfect. OP have not calibrated their screens properly.\\n2) iPhone 11 series have really good cameras... others have spoken in depth about them.\\n3) bat...\\nREAD MORE', 'Superb Product !!!\\nA big and worthy upgrade from mi 3S to iphone 11 .\\nTotally loved it !', 'It’s an amazing product from apple and the camera is simply superb. Phone is faster.Night shot is simply superb and detailing and colour differentiation from camera is an added advantage\\n\\nThis review I have written from iPhone 11 only and I am glad to say outside.\\n\\nCons wise if we see HD+ display only, no battery percentage indicator as in older iPhone 8.\\nNo assistive touch control button in it\\nNo oleophobic coating on back panel glass and finger prints are visible but since I bought mint gr...\\nREAD MORE', 'I just directly switch from iphone 6s to iphone 11 .The best premium smartphone I recommend to everyone. Excellent quality and colors the iphone have in 11 series.\\nCamera quality is just awesome and the major feel when we hold in our hands. The sound quality and volume is also higher then the previous models.\\nI will recommend to buy iphone 11 instead of pro models , there is nothing much difference as this model contains everything which fulfill our needs.\\n\\nOnly one thing that I dislike abo...\\nREAD MORE', 'Looking so good 👍 😍 super 👌 stylish 😎 phone\\nClean box 📦 good 👍 delivery 👌 fast delivery\\nOriginal box Original iphone 📱 👌 😍😍😍', 'After 1 month use I found camera quality best compared to my previous Samsung note 10+.Display not good as note 10 also charging too slow.Apple should add fast charger like 11 plus and pro.Best phone for daily use', 'Upgraded from iphone 6 to 11 best phone for iphone users battery is much better than other iphones camera is awesome love to use it.camera is so clear in night.', \"It's very high performances devise i am like the service of flipkart delevary very fast and packing very nice perfect phone\", 'Well you all know the specifications . One of a kind. Best iPhone till date. Many enhancements to the camera app with many options. Love the glass body with matte finish in the lens area on the back. Lovely colours to choose from. Best battery in an iPhone till date, enough to last more than a day in normal usage. I tested my iPhone 11 battery and lasted for than 24 hours after full charge still with 30% battery charge left. Watched movies for some time. Normal usage on calls, browsing, musi...\\nREAD MORE', 'The built quality is not very premium.\\nThe battery back is great .\\nThe LCD panel is not so sharp but the brightness level is very High .\\nCamera is super duper awesome.\\nThe red colour which people think is bright is actually very soothing and excellent colour to choose from .\\nThe A13 Bionic chip is really a flagship processor and can beat any phone which even has 12 gb ram .\\nCamera module is very great and looks very stylish.', 'This will help you more. See if you are planning to buy iPhone 11. I will say. Yes. But there are some plans I just want to disclose before you buy. 1) If you are an existing iPhone X/XS/XS Max/ XR user, better you guys do not think it to buy. You guys have more or less better gadget. 2) If you are an android user and planning to buy premium phone. I will suggest them to please buy iPhone instead of buying an Android. I bet you will never go back to android after using IOS. Now I want to shar...\\nREAD MORE', 'Amazing camera and feel super machine I am not describe my feeling but this is amazing Phone I am so lucky I have this', 'Really good actually this is my first apple product am using its really awesome performance wise excellent. Am really happy with this iphone11', 'it is very good at performance. Camera is best like before and very smooth response even in water. Don’t buy 12 mini buy iPhone 11 , it is far better than 12 mini believe me ! Have a nice day \\uf8ff ☺️', 'Reviewing again after 5 months. At the beginning the battery and performance was good but it degraded soon. Also I was facing heating issues. The mobile will heat up like a stove sometimes. You cannot even play Pubg even in low settings properly, performance is not a problem but heating is. Also if you play that game for 10 mins the brightness will be automatically down due to over heating even when the auto brightness is set to off. This will not be solved even if u manually increase the bri...\\nREAD MORE', 'We are on apple ecosystem for almost eight years now with couple of iPads and iPhones, including Xr.\\n\\nBought iPhone 11 as a gift to my daughter who loves it. We chose for a purple coloured one. Believe me it is gorgeous and towards the lighter shade. Dazzling and brilliant!\\n\\nThe phone is great and does excellent RAM management like any other Apple device.\\n\\nThe screen, though a LCD and lesser ppi as compared to other flagship phones of competitor brands, is a delight to watch with perfect re...\\nREAD MORE', 'It is just awesome mobile for this price from Apple,\\n\\nAfter 10 days review\\n\\nBattery enough for 1 day even 24*7 Internet will be on and mostly internet usage\\n\\nCamera is just awesome cool , android 64 MP is equal to this just 12 MP\\n\\nA13 Bionic chip will give more high performance without hanging\\n\\nAudio stereo speakers will give Dolby atoms sound with crystal clear\\n\\nVideo recording is like cinematic shots of every sec can be a 4K 60fps. Just awesome this phone\\niPhone 11 loved one', 'Best Apple iPhone that i have bought at a very reasonable price, camera quality is next level just awesome n of superior quality android phones not even close(RIP) to that and also battery is really good but packaging by Flipkart of iPhone was very poor of such a expensive product, firstly im bit worried about the quality of product if i purchased it through online how was the product but i think now this was mine best decision to bought it through Flipkart online because i got genuine Apple...\\nREAD MORE', \"I can say I'm damn impressed with iPhone 11. As they says iPhone 11 have the toughest glass ever in the smartphone which you'll find on the front and back and it's totally smooth. The fit and finish is full apple quality - there's no sense that any cheaping out has happened in the construction. Without saying it's camera features this review won't complete. The iPhone 11 has a dual camera system, consisting of a wide angle len's that's pretty much same as found on the iPhone XR last year, but...\\nREAD MORE\", 'Best Quality Product OF iPhone Series , Sound Quality & Camera quality is very awesome, Battery Life is very Sufficient for 24 hr Backup With Full Internet Access , I love this this Product too much , It is very fast & making me Very fast in all my daily Routine\\nHighlights;\\n1.Camera: 5 STAR\\n2.Video Recording: 5 star\\n3.Night mODE sHOOTING & Camera:4 star\\n4. Audio Quality: Awesome\\n5. Battery : 5 Star\\n6. Touch:5 Star\\n7. Processor: Very Fast\\nThe M...\\nREAD MORE', 'First thanks to Flipkart for this amazing deal and phone is outstanding. I upgraded from iPhone 7 and this is like very big upgrade. But the packaging was very basic I expected a good packaging as they only wrapped one layer of bubble wrap which I don’t think is enough to protect this expensive phone. And I recommend this phone and seller as well.\\n\\nAnd I’m posting this review after using it for 4 days.', 'Superfast delivery by Flipkart. Thanks.\\n\\n1. iPhone 11 is a pretty solid phone for the money you are paying.\\n2. All the bad reviews about the display is confusing. It’s not that bad.\\n3. I switched from a Oneplus 7t. I have no complaints about the display quality of iPhone. Yes, it’s not OLED, so, we are missing on the deep blacks. But that’s it. It is a very colour accurate display. Gets adequately bright and I could not find any pixelation.\\n4. Performance is one of the best, if not best, in ...\\nREAD MORE', \"Again back to apple iphone after a gap of 2-3 years. It's pleasure to use iOS and the quality product by Apple. Iphone 11 still works like a beast in 2021 also. It really capable of doing day to day usage as well as hard core gaming. Battery is awesome. I'm really too much satisfied with it. Apart fto the very gorgious IPS LCD (AMOLED will be better) everything is mind boggling. Iphone💕.\", 'impressive super phone and best in class camera ,sound and face unlock is super fast just see and phone is unlock and fast in daily apps use', 'Well while switching from android to iOS the first thing you need to be careful about is that you will loose all your whatsapp chat backups as both are different operating systems. Camera clarity is awesome and though being an lcd screen clarity and resolution is good. Battery backup is also good unlike previous gen iPhone. So far the experience is good will Padre after a few months of usage.\\n\\nP.S the black is more of a dark grey shade and not jet black', 'In love with this iphone great performance,camera ,battery everything. Go for it have a uncompareble battery backup, no doubts in iPhone camera here You can see the picture which is shot on my iPhone In love with this iphone great performance,camera ,battery everything. Go for it have a uncompareble battery backup, no doubts in iPhone camera here You can see the picture which is shot on my iPhone In love with this iphone great performance,camera ,battery everything. Go for it have a uncompare...\\nREAD MORE']\n"
     ]
    }
   ],
   "source": [
    "#page5\n",
    "\n",
    "rtng_tags_p5=driver.find_elements_by_xpath(\"//div[@class='_3LWZlK _1BLPMq']\")\n",
    "\n",
    "revw_summ_tags_p5=driver.find_elements_by_xpath(\"//p[@class='_2-N8zT']\")\n",
    "\n",
    "full_revw_tags_p5=driver.find_elements_by_xpath(\"//div[@class='t-ZTKy']\")\n",
    "\n",
    "\n",
    "\n",
    "for i in rtng_tags_p5:\n",
    "    rtng5=i.text\n",
    "    ratings.append(rtng5)\n",
    "print(ratings)\n",
    "\n",
    "for i in revw_summ_tags_p5:\n",
    "    revw5=i.text\n",
    "    revw_summ.append(revw5)\n",
    "print(revw_summ)\n",
    "\n",
    "for i in full_revw_tags_p5:\n",
    "    summ5=i.text\n",
    "    full_revw.append(summ5)\n",
    "print(full_revw)"
   ]
  },
  {
   "cell_type": "code",
   "execution_count": 60,
   "id": "4861497e",
   "metadata": {},
   "outputs": [],
   "source": [
    "page6 = driver.get('https://www.flipkart.com/apple-iphone-11-black-64-gb-includes-earpods-power-adapter/product-reviews/itm0f37c2240b217?pid=MOBFKCTSVZAXUHGR&lid=LSTMOBFKCTSVZAXUHGREPBFGI&marketplace=FLIPKART&page=6')\n",
    "page6"
   ]
  },
  {
   "cell_type": "code",
   "execution_count": 61,
   "id": "bcae899e",
   "metadata": {},
   "outputs": [
    {
     "name": "stdout",
     "output_type": "stream",
     "text": [
      "['5', '5', '5', '5', '5', '5', '5', '4', '5', '5', '5', '5', '5', '5', '5', '5', '5', '5', '5', '5', '5', '5', '4', '5', '5', '5', '5', '5', '4', '5', '5', '5', '5', '5', '5', '5', '5', '4', '1', '5', '5', '5', '5', '5', '5', '5', '5', '4', '5', '5', '5', '5', '4', '5', '5', '5', '5', '5', '5', '5']\n",
      "['Brilliant', 'Simply awesome', 'Perfect product!', 'Worth every penny', 'Fabulous!', 'Best in the market!', 'Great product', 'Good choice', 'Worth every penny', 'Highly recommended', 'Highly recommended', 'Perfect product!', 'Perfect product!', 'Classy product', 'Worth every penny', 'Simply awesome', 'Perfect product!', 'Highly recommended', 'Worth every penny', 'Worth every penny', 'Terrific', 'Wonderful', 'Nice product', 'Perfect product!', 'Brilliant', 'Classy product', 'Must buy!', 'Wonderful', 'Good choice', 'Perfect product!', 'Terrific purchase', 'Simply awesome', 'Great product', 'Terrific purchase', 'Mind-blowing purchase', 'Excellent', 'Simply awesome', 'Good quality product', 'Very poor', 'Classy product', 'Perfect product!', 'Must buy!', 'Fabulous!', 'Mind-blowing purchase', 'Mind-blowing purchase', 'Wonderful', 'Great product', 'Very Good', 'Classy product', 'Perfect product!', 'Just wow!', 'Awesome', 'Pretty good', 'Terrific purchase', 'Awesome', 'Classy product', 'Brilliant', 'Terrific', 'Perfect product!', 'Awesome']\n",
      "['The Best Phone for the Money\\n\\nThe iPhone 11 offers superb cameras, a more durable design and excellent battery life for an affordable price.\\n\\nCompelling ultra-wide camera\\nNew Night mode is excellent\\nLong battery life', 'Really satisfied with the Product I received... It’s totally genuine and the packaging was also really good so if ur planning to buy just go for it.', 'Amazing phone with great cameras and better battery which gives you the best performance. I just love the camera .', 'Previously I was using one plus 3t it was a great phone\\nAnd then I decided to upgrade I am stuck between Samsung s10 plus or iPhone 11\\nI have seen the specs and everything were good except the display it’s somewhere between 720-1080 and it’s not even an amoled it’s an LCD display\\nBut I decided to go with iPhone because I have never used an IOS device I have Been an android user from the past 9 years I ordered IPhone 11 (128gb) product red\\nMy experience after using 3 weeks\\n1. The delivery ...\\nREAD MORE', 'This is my first iOS phone. I am very happy with this product. Very much satisfied with this. I love this phone.', 'Great iPhone very snappy experience as apple kind. Upgraded from iPhone 7.\\nPros\\n-Camera top class\\n- Battery top performed\\n-Chipset no need to say as apple kind\\n-Security as you expect from apple\\n- Display super bright industry leading colour\\naccuracy and super responsive\\n-Build quality as expect from apple sturdy\\npremium durable beautiful stylish.\\n-Os most stable os in smartphone industry\\n\\nCons\\n-No 5G\\n-Display is not based on OLED technology\\n-Charger headphones and 1 apple stic...\\nREAD MORE', 'Amazing Powerful and Durable Gadget.\\n\\nI’m am very happy with the camera picture quality, Amazing face id unlocked in dark room, Strong battery with perfect screen size as you can carry easily in pocket. This is my third iPhone.\\n\\nI shifted from android Samsung Note series to iPhone because of the strong build quality and peace of mind for next 3-4 years.\\n\\nDon’t think to much just go for it and I suggest you to go for minimum 128gb variant or more 256gb.\\n\\nI’ve attached my puppy pics and no fi...\\nREAD MORE', 'So far it’s been an AMAZING experience coming back to iOS after nearly a decade but it’s not as versatile as android though phone is sturdy dropped it accidentally a couple of times and nothing happened fortunately camera is awesome', 'i11 is worthy to buy, too much happy with the product. Thank u flipkart I received the item on time..loved it..', 'iphone 11 is a very good phone to buy only if you can compromise for the display. The display on this is device is pretty good but you can get other options with better displays in this price segment.\\nIf you can survive with an HD+ LCD panel with thicker bezels and a notch up top then this is a very good phone for you.\\nCameras are awesome, battery backup excellent, great performance and a decent premium look. Good job Apple !', 'What a camera .....just awesome ..you can feel this iPhone just awesome . Good for gaming also ...try pubg in hd it’s just wow', 'It’s a must buy who is looking for an upgrade from previous generation of iPhones. If you are using XR then still you can hold on for sometime and upgrade to 2020 model else this phone is a must buy . Camera quality is amazing and wide angle is something to count upon. Performance wise it’s amazing and feels premium while holding in hand. So a big YES for this device. Go for 128 GB variant as the 4K videos will occupy lots of space and the storage can get over very quickly. Try to buy it with...\\nREAD MORE', 'Value for money❤️❤️\\nIts awesome mobile phone in the world ...\\nDisplay was very good and bright ..\\nTrust me freinds you r never regret after Buying..\\nJust go for it....\\nI love this phone and i switch to iphone x to 11', 'Totally in love with this ❤ the camera quality is amazing just love it 😘😘😘 itsss dammnnnnnn amazing... Must buy iPhone 11 this is my best experience ever ☀👌👌🧡🧡🧡🧡🧡 thanku apple ❤', 'Best budget Iphone till date ❤️ go for it guys without second thought. Let me explain you guys about Camera, Display, battery, and performance.\\n\\nCamera: at this price range there is no comparison of camera, you’ll love the picture quality as well as video quality. I am a Vlogger I wanted an iPhone with 4k video by front camera and I got this phone and I am more than happy 😃\\n\\nBattery: I use this phone roughly as I am active social media person and I have a youtube channel. so the battery ba...\\nREAD MORE', 'Excellent camera, good performance, no lag. The lcd display is also good.. but difference come when we watch movie in prime and Netflix, the colours are not vibrant.. as we see in amoled display.. and the charger in box is of 5 watts.. takes more than 3 hours to charge from 0 to 100.. so guys be prepare to buy 18 watts charger . Finally I am an android user, it was my first Iapple phone, I promise u guys the iOS is so smooth.. overall the phone is damn good.... close eyes to buy it.. thanks t...\\nREAD MORE', \"Iphone is just awesome.. battery backup is very very nice.. continuously for 10 hours we can use it.camera is just awesome.. display is just fab.i love it alot..i had to wait 15 days for it as i pre ordered it..overalll it's worth the price..these all images are clicked by my iPhone..and i love it.\", \"It's my first time to use iOS phone and I am loving my upgradation 😍😍 I love the color, I love the assebility of the phone....I need to learn more about its functionality, but as far as I have seen, it's quite easy and it has a lot of functions to work on, specially if you are a content writer or a blogger you get a lot of content creation platforms and they are really amazing.\\n\\nThis phone not only for good quality photography but a lot of other task too.😍💯\", 'It’s been almost a month since I have been using this phone. I upgraded from an iPhone 8. The main issue with my 8 was battery and this phone is just awesome when it comes to battery. It lasts a day and a half for me with my regular use , internet connected always with 4g\\nCan’t move forward without saying this. Battery of this phone is a life saver when I am traveling or at work when I don’t get the option to charge\\nCamera is superb. Front cam selfies and back cam photos are just awesome.\\n...\\nREAD MORE', 'Smooth like butter, camera like fantabulous, sound is crystal clear & its red color is damn attractive, i am just loving it. Must buy if you love photography.\\n\\nLucky to get it in sale, thank you Flipkart.', 'Really worth of money. i just love it. It is the best phone ever.', 'This is my first ever I phone. Before this I was using my google nexus 5. But moving from android to iOS is a great experience. It’s worth at this price. I will highly recommend it if you want to move to iOS. The best part of this phone is it’s camera and it’s battery life. This two things have won my heart. I loved it. Happy to have it in my hand. Still exploring its features. And can’t forget to mention Flipkart service. Very prompt service and fast delivery.', 'Awesome Phone. Slightly high price but worth. Better than iPhone XR.\\nCamera is superb and wide angle camera is very clear.\\n12MP selfie camera is also very good.\\nA13 Chip gives a very good and smooth performance.', 'Battery backup is extraordinary, camera is decent & performance offered by A13 bionic is awsome. The display is good in practical usage like the visibility of display is very good in direct sun light compare to pro models. Iam extremely satisfied for the money I spent.', 'I have migrated from OP 7pro... and trust me, iPhone 11 is totally worth it.. following are the reasons:-\\n1)there is ABSOLUTELY NO ISSUE WITH THE DISPLAY... its crisp, sharp and I found it to be much much better than OP7 pro. Netflix, Prime video all run crisply... you won’t miss a thing. True Tone works flawlessly...the display brightness is perfect. OP have not calibrated their screens properly.\\n2) iPhone 11 series have really good cameras... others have spoken in depth about them.\\n3) bat...\\nREAD MORE', 'Superb Product !!!\\nA big and worthy upgrade from mi 3S to iphone 11 .\\nTotally loved it !', 'It’s an amazing product from apple and the camera is simply superb. Phone is faster.Night shot is simply superb and detailing and colour differentiation from camera is an added advantage\\n\\nThis review I have written from iPhone 11 only and I am glad to say outside.\\n\\nCons wise if we see HD+ display only, no battery percentage indicator as in older iPhone 8.\\nNo assistive touch control button in it\\nNo oleophobic coating on back panel glass and finger prints are visible but since I bought mint gr...\\nREAD MORE', 'I just directly switch from iphone 6s to iphone 11 .The best premium smartphone I recommend to everyone. Excellent quality and colors the iphone have in 11 series.\\nCamera quality is just awesome and the major feel when we hold in our hands. The sound quality and volume is also higher then the previous models.\\nI will recommend to buy iphone 11 instead of pro models , there is nothing much difference as this model contains everything which fulfill our needs.\\n\\nOnly one thing that I dislike abo...\\nREAD MORE', 'Looking so good 👍 😍 super 👌 stylish 😎 phone\\nClean box 📦 good 👍 delivery 👌 fast delivery\\nOriginal box Original iphone 📱 👌 😍😍😍', 'After 1 month use I found camera quality best compared to my previous Samsung note 10+.Display not good as note 10 also charging too slow.Apple should add fast charger like 11 plus and pro.Best phone for daily use', 'Upgraded from iphone 6 to 11 best phone for iphone users battery is much better than other iphones camera is awesome love to use it.camera is so clear in night.', \"It's very high performances devise i am like the service of flipkart delevary very fast and packing very nice perfect phone\", 'Well you all know the specifications . One of a kind. Best iPhone till date. Many enhancements to the camera app with many options. Love the glass body with matte finish in the lens area on the back. Lovely colours to choose from. Best battery in an iPhone till date, enough to last more than a day in normal usage. I tested my iPhone 11 battery and lasted for than 24 hours after full charge still with 30% battery charge left. Watched movies for some time. Normal usage on calls, browsing, musi...\\nREAD MORE', 'The built quality is not very premium.\\nThe battery back is great .\\nThe LCD panel is not so sharp but the brightness level is very High .\\nCamera is super duper awesome.\\nThe red colour which people think is bright is actually very soothing and excellent colour to choose from .\\nThe A13 Bionic chip is really a flagship processor and can beat any phone which even has 12 gb ram .\\nCamera module is very great and looks very stylish.', 'This will help you more. See if you are planning to buy iPhone 11. I will say. Yes. But there are some plans I just want to disclose before you buy. 1) If you are an existing iPhone X/XS/XS Max/ XR user, better you guys do not think it to buy. You guys have more or less better gadget. 2) If you are an android user and planning to buy premium phone. I will suggest them to please buy iPhone instead of buying an Android. I bet you will never go back to android after using IOS. Now I want to shar...\\nREAD MORE', 'Amazing camera and feel super machine I am not describe my feeling but this is amazing Phone I am so lucky I have this', 'Really good actually this is my first apple product am using its really awesome performance wise excellent. Am really happy with this iphone11', 'it is very good at performance. Camera is best like before and very smooth response even in water. Don’t buy 12 mini buy iPhone 11 , it is far better than 12 mini believe me ! Have a nice day \\uf8ff ☺️', 'Reviewing again after 5 months. At the beginning the battery and performance was good but it degraded soon. Also I was facing heating issues. The mobile will heat up like a stove sometimes. You cannot even play Pubg even in low settings properly, performance is not a problem but heating is. Also if you play that game for 10 mins the brightness will be automatically down due to over heating even when the auto brightness is set to off. This will not be solved even if u manually increase the bri...\\nREAD MORE', 'We are on apple ecosystem for almost eight years now with couple of iPads and iPhones, including Xr.\\n\\nBought iPhone 11 as a gift to my daughter who loves it. We chose for a purple coloured one. Believe me it is gorgeous and towards the lighter shade. Dazzling and brilliant!\\n\\nThe phone is great and does excellent RAM management like any other Apple device.\\n\\nThe screen, though a LCD and lesser ppi as compared to other flagship phones of competitor brands, is a delight to watch with perfect re...\\nREAD MORE', 'It is just awesome mobile for this price from Apple,\\n\\nAfter 10 days review\\n\\nBattery enough for 1 day even 24*7 Internet will be on and mostly internet usage\\n\\nCamera is just awesome cool , android 64 MP is equal to this just 12 MP\\n\\nA13 Bionic chip will give more high performance without hanging\\n\\nAudio stereo speakers will give Dolby atoms sound with crystal clear\\n\\nVideo recording is like cinematic shots of every sec can be a 4K 60fps. Just awesome this phone\\niPhone 11 loved one', 'Best Apple iPhone that i have bought at a very reasonable price, camera quality is next level just awesome n of superior quality android phones not even close(RIP) to that and also battery is really good but packaging by Flipkart of iPhone was very poor of such a expensive product, firstly im bit worried about the quality of product if i purchased it through online how was the product but i think now this was mine best decision to bought it through Flipkart online because i got genuine Apple...\\nREAD MORE', \"I can say I'm damn impressed with iPhone 11. As they says iPhone 11 have the toughest glass ever in the smartphone which you'll find on the front and back and it's totally smooth. The fit and finish is full apple quality - there's no sense that any cheaping out has happened in the construction. Without saying it's camera features this review won't complete. The iPhone 11 has a dual camera system, consisting of a wide angle len's that's pretty much same as found on the iPhone XR last year, but...\\nREAD MORE\", 'Best Quality Product OF iPhone Series , Sound Quality & Camera quality is very awesome, Battery Life is very Sufficient for 24 hr Backup With Full Internet Access , I love this this Product too much , It is very fast & making me Very fast in all my daily Routine\\nHighlights;\\n1.Camera: 5 STAR\\n2.Video Recording: 5 star\\n3.Night mODE sHOOTING & Camera:4 star\\n4. Audio Quality: Awesome\\n5. Battery : 5 Star\\n6. Touch:5 Star\\n7. Processor: Very Fast\\nThe M...\\nREAD MORE', 'First thanks to Flipkart for this amazing deal and phone is outstanding. I upgraded from iPhone 7 and this is like very big upgrade. But the packaging was very basic I expected a good packaging as they only wrapped one layer of bubble wrap which I don’t think is enough to protect this expensive phone. And I recommend this phone and seller as well.\\n\\nAnd I’m posting this review after using it for 4 days.', 'Superfast delivery by Flipkart. Thanks.\\n\\n1. iPhone 11 is a pretty solid phone for the money you are paying.\\n2. All the bad reviews about the display is confusing. It’s not that bad.\\n3. I switched from a Oneplus 7t. I have no complaints about the display quality of iPhone. Yes, it’s not OLED, so, we are missing on the deep blacks. But that’s it. It is a very colour accurate display. Gets adequately bright and I could not find any pixelation.\\n4. Performance is one of the best, if not best, in ...\\nREAD MORE', \"Again back to apple iphone after a gap of 2-3 years. It's pleasure to use iOS and the quality product by Apple. Iphone 11 still works like a beast in 2021 also. It really capable of doing day to day usage as well as hard core gaming. Battery is awesome. I'm really too much satisfied with it. Apart fto the very gorgious IPS LCD (AMOLED will be better) everything is mind boggling. Iphone💕.\", 'impressive super phone and best in class camera ,sound and face unlock is super fast just see and phone is unlock and fast in daily apps use', 'Well while switching from android to iOS the first thing you need to be careful about is that you will loose all your whatsapp chat backups as both are different operating systems. Camera clarity is awesome and though being an lcd screen clarity and resolution is good. Battery backup is also good unlike previous gen iPhone. So far the experience is good will Padre after a few months of usage.\\n\\nP.S the black is more of a dark grey shade and not jet black', 'In love with this iphone great performance,camera ,battery everything. Go for it have a uncompareble battery backup, no doubts in iPhone camera here You can see the picture which is shot on my iPhone In love with this iphone great performance,camera ,battery everything. Go for it have a uncompareble battery backup, no doubts in iPhone camera here You can see the picture which is shot on my iPhone In love with this iphone great performance,camera ,battery everything. Go for it have a uncompare...\\nREAD MORE', 'Best in class. Battery backup is good especially when you play games like Pubg COD. But it is sort of heavy when you hold in hands. Portrait mode is best to click pictures. Stage light effect is awesome. Try to click photos outside in nature because photos inside home or room will not give you the quality in any phone even in DSLR.', 'Very excited to have this phone. This phone has the real power unlike the android phones having SD 855 . The battery life is very good and the camera quality is excellent as comapred to redmi and other phones except google pixel. I M enjoying every single bit of it. Would recommed only if you have the budget.', 'I was using Iphone 6s and also Oneplus 6t. Both mobiles were perfectly alright in Photos, gaming, and smooth interface . My 6s mobile getting battery issue. thought upgrade to 11. Really like this mobile of its Internal storage (compare to 6s) , camera and its touch feeling. Its a worth buying mobile for me.', 'Its Very awesome product working and good camera quality and all about best product and also flipkart is very great deal and offer nice price', 'I am using this phone for 5 days and its one of the best camera out there ❤️ the screen is not oled and i am coming from iphone xs so its little bit not up to the mark i would say\\nBut overall value for money💕😍the battery back up is far better than my iphone xs and its worth in my apple ecosystem💫❤️if u are an apple User and have the eco system then go for it❤️though i will be getting the new iphone but its pretty good💫', 'Best and amazing product.....phone looks so premium.... battary is also good as expected .... Wide angle camera is so addictive ...if you are a IOS lover....then this phone will be the best choice for you all!!💯🔥', 'Excellent camera and display touching very nice and smooth very improvement against iPhone XR and new processor is very fast', \"I got this beast today. And I must say the picture quality of its camera is awesome. Both the cameras works fine.\\n\\nAs for as the processing is concerned, it runs without any lag. You can play and do whatever you want without a glitch.\\n\\nThe battery runs for a day with medium and high workload.\\n\\nThe display is good and the speakers are working fine.\\n\\nThe earphones doesn't have any base and you can use it for calling mostly.\\n\\nThe charging time is approximately for 90 minutes for full charging...\\nREAD MORE\", 'Awesome purchase. Amazing phone with good battery backup. It’s a top notch device. White colour looks amazing. Phone has a few extra feature than iPhone XR. Overall, this is value for money', 'Always love the apple products, upgraded from old iPhone 6S plus to this after having my first baby. I just love to click baby’s photos with it. Overall I just love this phone. Battery back up is okay, sound quality is good. Haven’t tested yet waterproof yet. Only one thing I hate is apple could have given charger & headphones in box.']\n"
     ]
    }
   ],
   "source": [
    "# page 6\n",
    "\n",
    "rtng_tags_p6=driver.find_elements_by_xpath(\"//div[@class='_3LWZlK _1BLPMq']\")\n",
    "\n",
    "revw_summ_tags_p6=driver.find_elements_by_xpath(\"//p[@class='_2-N8zT']\")\n",
    "\n",
    "full_revw_tags_p6=driver.find_elements_by_xpath(\"//div[@class='t-ZTKy']\")\n",
    "\n",
    "\n",
    "\n",
    "for i in rtng_tags_p6:\n",
    "    rtng6=i.text\n",
    "    ratings.append(rtng6)\n",
    "print(ratings)\n",
    "\n",
    "for i in revw_summ_tags_p6:\n",
    "    revw6=i.text\n",
    "    revw_summ.append(revw6)\n",
    "print(revw_summ)\n",
    "\n",
    "for i in full_revw_tags_p6:\n",
    "    summ6=i.text\n",
    "    full_revw.append(summ6)\n",
    "print(full_revw)"
   ]
  },
  {
   "cell_type": "code",
   "execution_count": 62,
   "id": "62dd401e",
   "metadata": {},
   "outputs": [],
   "source": [
    "page7 = driver.get('https://www.flipkart.com/apple-iphone-11-black-64-gb-includes-earpods-power-adapter/product-reviews/itm0f37c2240b217?pid=MOBFKCTSVZAXUHGR&lid=LSTMOBFKCTSVZAXUHGREPBFGI&marketplace=FLIPKART&page=7')\n",
    "page7"
   ]
  },
  {
   "cell_type": "code",
   "execution_count": 63,
   "id": "084cbd6a",
   "metadata": {},
   "outputs": [
    {
     "name": "stdout",
     "output_type": "stream",
     "text": [
      "['5', '5', '5', '5', '5', '5', '5', '4', '5', '5', '5', '5', '5', '5', '5', '5', '5', '5', '5', '5', '5', '5', '4', '5', '5', '5', '5', '5', '4', '5', '5', '5', '5', '5', '5', '5', '5', '4', '1', '5', '5', '5', '5', '5', '5', '5', '5', '4', '5', '5', '5', '5', '4', '5', '5', '5', '5', '5', '5', '5', '5', '5', '5', '5', '4', '5', '5', '5', '4']\n",
      "['Brilliant', 'Simply awesome', 'Perfect product!', 'Worth every penny', 'Fabulous!', 'Best in the market!', 'Great product', 'Good choice', 'Worth every penny', 'Highly recommended', 'Highly recommended', 'Perfect product!', 'Perfect product!', 'Classy product', 'Worth every penny', 'Simply awesome', 'Perfect product!', 'Highly recommended', 'Worth every penny', 'Worth every penny', 'Terrific', 'Wonderful', 'Nice product', 'Perfect product!', 'Brilliant', 'Classy product', 'Must buy!', 'Wonderful', 'Good choice', 'Perfect product!', 'Terrific purchase', 'Simply awesome', 'Great product', 'Terrific purchase', 'Mind-blowing purchase', 'Excellent', 'Simply awesome', 'Good quality product', 'Very poor', 'Classy product', 'Perfect product!', 'Must buy!', 'Fabulous!', 'Mind-blowing purchase', 'Mind-blowing purchase', 'Wonderful', 'Great product', 'Very Good', 'Classy product', 'Perfect product!', 'Just wow!', 'Awesome', 'Pretty good', 'Terrific purchase', 'Awesome', 'Classy product', 'Brilliant', 'Terrific', 'Perfect product!', 'Awesome', 'Perfect product!', 'Very poor', 'Fabulous!', 'Excellent', 'Must buy!', 'Value-for-money', 'Best in the market!', 'Brilliant', 'Terrific purchase', 'Good quality product']\n",
      "['The Best Phone for the Money\\n\\nThe iPhone 11 offers superb cameras, a more durable design and excellent battery life for an affordable price.\\n\\nCompelling ultra-wide camera\\nNew Night mode is excellent\\nLong battery life', 'Really satisfied with the Product I received... It’s totally genuine and the packaging was also really good so if ur planning to buy just go for it.', 'Amazing phone with great cameras and better battery which gives you the best performance. I just love the camera .', 'Previously I was using one plus 3t it was a great phone\\nAnd then I decided to upgrade I am stuck between Samsung s10 plus or iPhone 11\\nI have seen the specs and everything were good except the display it’s somewhere between 720-1080 and it’s not even an amoled it’s an LCD display\\nBut I decided to go with iPhone because I have never used an IOS device I have Been an android user from the past 9 years I ordered IPhone 11 (128gb) product red\\nMy experience after using 3 weeks\\n1. The delivery ...\\nREAD MORE', 'This is my first iOS phone. I am very happy with this product. Very much satisfied with this. I love this phone.', 'Great iPhone very snappy experience as apple kind. Upgraded from iPhone 7.\\nPros\\n-Camera top class\\n- Battery top performed\\n-Chipset no need to say as apple kind\\n-Security as you expect from apple\\n- Display super bright industry leading colour\\naccuracy and super responsive\\n-Build quality as expect from apple sturdy\\npremium durable beautiful stylish.\\n-Os most stable os in smartphone industry\\n\\nCons\\n-No 5G\\n-Display is not based on OLED technology\\n-Charger headphones and 1 apple stic...\\nREAD MORE', 'Amazing Powerful and Durable Gadget.\\n\\nI’m am very happy with the camera picture quality, Amazing face id unlocked in dark room, Strong battery with perfect screen size as you can carry easily in pocket. This is my third iPhone.\\n\\nI shifted from android Samsung Note series to iPhone because of the strong build quality and peace of mind for next 3-4 years.\\n\\nDon’t think to much just go for it and I suggest you to go for minimum 128gb variant or more 256gb.\\n\\nI’ve attached my puppy pics and no fi...\\nREAD MORE', 'So far it’s been an AMAZING experience coming back to iOS after nearly a decade but it’s not as versatile as android though phone is sturdy dropped it accidentally a couple of times and nothing happened fortunately camera is awesome', 'i11 is worthy to buy, too much happy with the product. Thank u flipkart I received the item on time..loved it..', 'iphone 11 is a very good phone to buy only if you can compromise for the display. The display on this is device is pretty good but you can get other options with better displays in this price segment.\\nIf you can survive with an HD+ LCD panel with thicker bezels and a notch up top then this is a very good phone for you.\\nCameras are awesome, battery backup excellent, great performance and a decent premium look. Good job Apple !', 'What a camera .....just awesome ..you can feel this iPhone just awesome . Good for gaming also ...try pubg in hd it’s just wow', 'It’s a must buy who is looking for an upgrade from previous generation of iPhones. If you are using XR then still you can hold on for sometime and upgrade to 2020 model else this phone is a must buy . Camera quality is amazing and wide angle is something to count upon. Performance wise it’s amazing and feels premium while holding in hand. So a big YES for this device. Go for 128 GB variant as the 4K videos will occupy lots of space and the storage can get over very quickly. Try to buy it with...\\nREAD MORE', 'Value for money❤️❤️\\nIts awesome mobile phone in the world ...\\nDisplay was very good and bright ..\\nTrust me freinds you r never regret after Buying..\\nJust go for it....\\nI love this phone and i switch to iphone x to 11', 'Totally in love with this ❤ the camera quality is amazing just love it 😘😘😘 itsss dammnnnnnn amazing... Must buy iPhone 11 this is my best experience ever ☀👌👌🧡🧡🧡🧡🧡 thanku apple ❤', 'Best budget Iphone till date ❤️ go for it guys without second thought. Let me explain you guys about Camera, Display, battery, and performance.\\n\\nCamera: at this price range there is no comparison of camera, you’ll love the picture quality as well as video quality. I am a Vlogger I wanted an iPhone with 4k video by front camera and I got this phone and I am more than happy 😃\\n\\nBattery: I use this phone roughly as I am active social media person and I have a youtube channel. so the battery ba...\\nREAD MORE', 'Excellent camera, good performance, no lag. The lcd display is also good.. but difference come when we watch movie in prime and Netflix, the colours are not vibrant.. as we see in amoled display.. and the charger in box is of 5 watts.. takes more than 3 hours to charge from 0 to 100.. so guys be prepare to buy 18 watts charger . Finally I am an android user, it was my first Iapple phone, I promise u guys the iOS is so smooth.. overall the phone is damn good.... close eyes to buy it.. thanks t...\\nREAD MORE', \"Iphone is just awesome.. battery backup is very very nice.. continuously for 10 hours we can use it.camera is just awesome.. display is just fab.i love it alot..i had to wait 15 days for it as i pre ordered it..overalll it's worth the price..these all images are clicked by my iPhone..and i love it.\", \"It's my first time to use iOS phone and I am loving my upgradation 😍😍 I love the color, I love the assebility of the phone....I need to learn more about its functionality, but as far as I have seen, it's quite easy and it has a lot of functions to work on, specially if you are a content writer or a blogger you get a lot of content creation platforms and they are really amazing.\\n\\nThis phone not only for good quality photography but a lot of other task too.😍💯\", 'It’s been almost a month since I have been using this phone. I upgraded from an iPhone 8. The main issue with my 8 was battery and this phone is just awesome when it comes to battery. It lasts a day and a half for me with my regular use , internet connected always with 4g\\nCan’t move forward without saying this. Battery of this phone is a life saver when I am traveling or at work when I don’t get the option to charge\\nCamera is superb. Front cam selfies and back cam photos are just awesome.\\n...\\nREAD MORE', 'Smooth like butter, camera like fantabulous, sound is crystal clear & its red color is damn attractive, i am just loving it. Must buy if you love photography.\\n\\nLucky to get it in sale, thank you Flipkart.', 'Really worth of money. i just love it. It is the best phone ever.', 'This is my first ever I phone. Before this I was using my google nexus 5. But moving from android to iOS is a great experience. It’s worth at this price. I will highly recommend it if you want to move to iOS. The best part of this phone is it’s camera and it’s battery life. This two things have won my heart. I loved it. Happy to have it in my hand. Still exploring its features. And can’t forget to mention Flipkart service. Very prompt service and fast delivery.', 'Awesome Phone. Slightly high price but worth. Better than iPhone XR.\\nCamera is superb and wide angle camera is very clear.\\n12MP selfie camera is also very good.\\nA13 Chip gives a very good and smooth performance.', 'Battery backup is extraordinary, camera is decent & performance offered by A13 bionic is awsome. The display is good in practical usage like the visibility of display is very good in direct sun light compare to pro models. Iam extremely satisfied for the money I spent.', 'I have migrated from OP 7pro... and trust me, iPhone 11 is totally worth it.. following are the reasons:-\\n1)there is ABSOLUTELY NO ISSUE WITH THE DISPLAY... its crisp, sharp and I found it to be much much better than OP7 pro. Netflix, Prime video all run crisply... you won’t miss a thing. True Tone works flawlessly...the display brightness is perfect. OP have not calibrated their screens properly.\\n2) iPhone 11 series have really good cameras... others have spoken in depth about them.\\n3) bat...\\nREAD MORE', 'Superb Product !!!\\nA big and worthy upgrade from mi 3S to iphone 11 .\\nTotally loved it !', 'It’s an amazing product from apple and the camera is simply superb. Phone is faster.Night shot is simply superb and detailing and colour differentiation from camera is an added advantage\\n\\nThis review I have written from iPhone 11 only and I am glad to say outside.\\n\\nCons wise if we see HD+ display only, no battery percentage indicator as in older iPhone 8.\\nNo assistive touch control button in it\\nNo oleophobic coating on back panel glass and finger prints are visible but since I bought mint gr...\\nREAD MORE', 'I just directly switch from iphone 6s to iphone 11 .The best premium smartphone I recommend to everyone. Excellent quality and colors the iphone have in 11 series.\\nCamera quality is just awesome and the major feel when we hold in our hands. The sound quality and volume is also higher then the previous models.\\nI will recommend to buy iphone 11 instead of pro models , there is nothing much difference as this model contains everything which fulfill our needs.\\n\\nOnly one thing that I dislike abo...\\nREAD MORE', 'Looking so good 👍 😍 super 👌 stylish 😎 phone\\nClean box 📦 good 👍 delivery 👌 fast delivery\\nOriginal box Original iphone 📱 👌 😍😍😍', 'After 1 month use I found camera quality best compared to my previous Samsung note 10+.Display not good as note 10 also charging too slow.Apple should add fast charger like 11 plus and pro.Best phone for daily use', 'Upgraded from iphone 6 to 11 best phone for iphone users battery is much better than other iphones camera is awesome love to use it.camera is so clear in night.', \"It's very high performances devise i am like the service of flipkart delevary very fast and packing very nice perfect phone\", 'Well you all know the specifications . One of a kind. Best iPhone till date. Many enhancements to the camera app with many options. Love the glass body with matte finish in the lens area on the back. Lovely colours to choose from. Best battery in an iPhone till date, enough to last more than a day in normal usage. I tested my iPhone 11 battery and lasted for than 24 hours after full charge still with 30% battery charge left. Watched movies for some time. Normal usage on calls, browsing, musi...\\nREAD MORE', 'The built quality is not very premium.\\nThe battery back is great .\\nThe LCD panel is not so sharp but the brightness level is very High .\\nCamera is super duper awesome.\\nThe red colour which people think is bright is actually very soothing and excellent colour to choose from .\\nThe A13 Bionic chip is really a flagship processor and can beat any phone which even has 12 gb ram .\\nCamera module is very great and looks very stylish.', 'This will help you more. See if you are planning to buy iPhone 11. I will say. Yes. But there are some plans I just want to disclose before you buy. 1) If you are an existing iPhone X/XS/XS Max/ XR user, better you guys do not think it to buy. You guys have more or less better gadget. 2) If you are an android user and planning to buy premium phone. I will suggest them to please buy iPhone instead of buying an Android. I bet you will never go back to android after using IOS. Now I want to shar...\\nREAD MORE', 'Amazing camera and feel super machine I am not describe my feeling but this is amazing Phone I am so lucky I have this', 'Really good actually this is my first apple product am using its really awesome performance wise excellent. Am really happy with this iphone11', 'it is very good at performance. Camera is best like before and very smooth response even in water. Don’t buy 12 mini buy iPhone 11 , it is far better than 12 mini believe me ! Have a nice day \\uf8ff ☺️', 'Reviewing again after 5 months. At the beginning the battery and performance was good but it degraded soon. Also I was facing heating issues. The mobile will heat up like a stove sometimes. You cannot even play Pubg even in low settings properly, performance is not a problem but heating is. Also if you play that game for 10 mins the brightness will be automatically down due to over heating even when the auto brightness is set to off. This will not be solved even if u manually increase the bri...\\nREAD MORE', 'We are on apple ecosystem for almost eight years now with couple of iPads and iPhones, including Xr.\\n\\nBought iPhone 11 as a gift to my daughter who loves it. We chose for a purple coloured one. Believe me it is gorgeous and towards the lighter shade. Dazzling and brilliant!\\n\\nThe phone is great and does excellent RAM management like any other Apple device.\\n\\nThe screen, though a LCD and lesser ppi as compared to other flagship phones of competitor brands, is a delight to watch with perfect re...\\nREAD MORE', 'It is just awesome mobile for this price from Apple,\\n\\nAfter 10 days review\\n\\nBattery enough for 1 day even 24*7 Internet will be on and mostly internet usage\\n\\nCamera is just awesome cool , android 64 MP is equal to this just 12 MP\\n\\nA13 Bionic chip will give more high performance without hanging\\n\\nAudio stereo speakers will give Dolby atoms sound with crystal clear\\n\\nVideo recording is like cinematic shots of every sec can be a 4K 60fps. Just awesome this phone\\niPhone 11 loved one', 'Best Apple iPhone that i have bought at a very reasonable price, camera quality is next level just awesome n of superior quality android phones not even close(RIP) to that and also battery is really good but packaging by Flipkart of iPhone was very poor of such a expensive product, firstly im bit worried about the quality of product if i purchased it through online how was the product but i think now this was mine best decision to bought it through Flipkart online because i got genuine Apple...\\nREAD MORE', \"I can say I'm damn impressed with iPhone 11. As they says iPhone 11 have the toughest glass ever in the smartphone which you'll find on the front and back and it's totally smooth. The fit and finish is full apple quality - there's no sense that any cheaping out has happened in the construction. Without saying it's camera features this review won't complete. The iPhone 11 has a dual camera system, consisting of a wide angle len's that's pretty much same as found on the iPhone XR last year, but...\\nREAD MORE\", 'Best Quality Product OF iPhone Series , Sound Quality & Camera quality is very awesome, Battery Life is very Sufficient for 24 hr Backup With Full Internet Access , I love this this Product too much , It is very fast & making me Very fast in all my daily Routine\\nHighlights;\\n1.Camera: 5 STAR\\n2.Video Recording: 5 star\\n3.Night mODE sHOOTING & Camera:4 star\\n4. Audio Quality: Awesome\\n5. Battery : 5 Star\\n6. Touch:5 Star\\n7. Processor: Very Fast\\nThe M...\\nREAD MORE', 'First thanks to Flipkart for this amazing deal and phone is outstanding. I upgraded from iPhone 7 and this is like very big upgrade. But the packaging was very basic I expected a good packaging as they only wrapped one layer of bubble wrap which I don’t think is enough to protect this expensive phone. And I recommend this phone and seller as well.\\n\\nAnd I’m posting this review after using it for 4 days.', 'Superfast delivery by Flipkart. Thanks.\\n\\n1. iPhone 11 is a pretty solid phone for the money you are paying.\\n2. All the bad reviews about the display is confusing. It’s not that bad.\\n3. I switched from a Oneplus 7t. I have no complaints about the display quality of iPhone. Yes, it’s not OLED, so, we are missing on the deep blacks. But that’s it. It is a very colour accurate display. Gets adequately bright and I could not find any pixelation.\\n4. Performance is one of the best, if not best, in ...\\nREAD MORE', \"Again back to apple iphone after a gap of 2-3 years. It's pleasure to use iOS and the quality product by Apple. Iphone 11 still works like a beast in 2021 also. It really capable of doing day to day usage as well as hard core gaming. Battery is awesome. I'm really too much satisfied with it. Apart fto the very gorgious IPS LCD (AMOLED will be better) everything is mind boggling. Iphone💕.\", 'impressive super phone and best in class camera ,sound and face unlock is super fast just see and phone is unlock and fast in daily apps use', 'Well while switching from android to iOS the first thing you need to be careful about is that you will loose all your whatsapp chat backups as both are different operating systems. Camera clarity is awesome and though being an lcd screen clarity and resolution is good. Battery backup is also good unlike previous gen iPhone. So far the experience is good will Padre after a few months of usage.\\n\\nP.S the black is more of a dark grey shade and not jet black', 'In love with this iphone great performance,camera ,battery everything. Go for it have a uncompareble battery backup, no doubts in iPhone camera here You can see the picture which is shot on my iPhone In love with this iphone great performance,camera ,battery everything. Go for it have a uncompareble battery backup, no doubts in iPhone camera here You can see the picture which is shot on my iPhone In love with this iphone great performance,camera ,battery everything. Go for it have a uncompare...\\nREAD MORE', 'Best in class. Battery backup is good especially when you play games like Pubg COD. But it is sort of heavy when you hold in hands. Portrait mode is best to click pictures. Stage light effect is awesome. Try to click photos outside in nature because photos inside home or room will not give you the quality in any phone even in DSLR.', 'Very excited to have this phone. This phone has the real power unlike the android phones having SD 855 . The battery life is very good and the camera quality is excellent as comapred to redmi and other phones except google pixel. I M enjoying every single bit of it. Would recommed only if you have the budget.', 'I was using Iphone 6s and also Oneplus 6t. Both mobiles were perfectly alright in Photos, gaming, and smooth interface . My 6s mobile getting battery issue. thought upgrade to 11. Really like this mobile of its Internal storage (compare to 6s) , camera and its touch feeling. Its a worth buying mobile for me.', 'Its Very awesome product working and good camera quality and all about best product and also flipkart is very great deal and offer nice price', 'I am using this phone for 5 days and its one of the best camera out there ❤️ the screen is not oled and i am coming from iphone xs so its little bit not up to the mark i would say\\nBut overall value for money💕😍the battery back up is far better than my iphone xs and its worth in my apple ecosystem💫❤️if u are an apple User and have the eco system then go for it❤️though i will be getting the new iphone but its pretty good💫', 'Best and amazing product.....phone looks so premium.... battary is also good as expected .... Wide angle camera is so addictive ...if you are a IOS lover....then this phone will be the best choice for you all!!💯🔥', 'Excellent camera and display touching very nice and smooth very improvement against iPhone XR and new processor is very fast', \"I got this beast today. And I must say the picture quality of its camera is awesome. Both the cameras works fine.\\n\\nAs for as the processing is concerned, it runs without any lag. You can play and do whatever you want without a glitch.\\n\\nThe battery runs for a day with medium and high workload.\\n\\nThe display is good and the speakers are working fine.\\n\\nThe earphones doesn't have any base and you can use it for calling mostly.\\n\\nThe charging time is approximately for 90 minutes for full charging...\\nREAD MORE\", 'Awesome purchase. Amazing phone with good battery backup. It’s a top notch device. White colour looks amazing. Phone has a few extra feature than iPhone XR. Overall, this is value for money', 'Always love the apple products, upgraded from old iPhone 6S plus to this after having my first baby. I just love to click baby’s photos with it. Overall I just love this phone. Battery back up is okay, sound quality is good. Haven’t tested yet waterproof yet. Only one thing I hate is apple could have given charger & headphones in box.', 'Value for money\\n5 star rating\\nExcellent camera\\nBattery backup full day in single charge.\\n\\nTougher and water resistant design, glossy back.\\nThe screen has excellent brightness and contrast.\\nApple A13 Bionic is the fastest smartphone chip on the planet.\\nExcellent battery life, fast charging support.\\nStereo speakers with great quality.', 'Please DONT buy from here,\\n\\nI purchased Apple iPhone 11. with an exchange of IPhone 7, the exchange did not go well, iPhone 7 had a small scratch out side screen which i could never identify till date, but the FLIPKART person could, so he reduced 50% from exchange rate. I decided not to trade in, but paid money.\\n\\niPhone 11 Detail Below\\n---------------------------------------------\\nIt came with no charging, then i have put for charging, it took lot of time for charging, the phone also showe...\\nREAD MORE', 'awesome phone to have. it has got many smart features apart from mind blowing looks, camera, display, battery and sound. have fallen in love with this phone. must buy phone if you have got enough money. thanks to flipkart and apple of course..', 'Its a fabulous mobile look awesome performance unbeaten camera like dslr battery good i think this is a beast of mobile', 'Dear friends... I want to share my experience with you about this amazing I phone 11....this is my first iPhone and special things about this mobile is it has great camera, battery backup and awesome display.... I mean everything is perfect.loved it 👍👍👍', \"Just got this iphone 11\\nAnd it is most powerful mobile phone I have used ever\\n\\nSo,go for it if you want a phone with best specification like camera,battery backup,display, A13 bionic chip\\n\\nThat's my review about this phone but yours can be differ from me....\", \"The best all rounder iphone. Flipkart is doing a great job. They're delivery services are blazing fast. I got delivery on the same day. Genuine Apple Product. Working great. Talking about review There's no need of review for iphones. They're simply the best.\", 'Amazing phone and on great deal I received with super fast delivery by Flipkart...', 'finally an iPhone with very nice battery backup. update from iPhone 7 and happy to have it. camera is not up to the mark in low light but overall a recommended phone if your budget allows 😀', \"I'm switching this phone to oppo reno 10x zoom\\nIt's really impressive\\nRarely I'm missing smooth display touch response like oppo reno but\\nI really loved it.\\nCamera really impressive\"]\n"
     ]
    }
   ],
   "source": [
    "# page7\n",
    "\n",
    "rtng_tags_p7=driver.find_elements_by_xpath(\"//div[@class='_3LWZlK _1BLPMq']\")\n",
    "\n",
    "revw_summ_tags_p7=driver.find_elements_by_xpath(\"//p[@class='_2-N8zT']\")\n",
    "\n",
    "full_revw_tags_p7=driver.find_elements_by_xpath(\"//div[@class='t-ZTKy']\")\n",
    "\n",
    "\n",
    "for i in rtng_tags_p7:\n",
    "    rtng7=i.text\n",
    "    ratings.append(rtng7)\n",
    "print(ratings)\n",
    "\n",
    "for i in revw_summ_tags_p7:\n",
    "    revw7=i.text\n",
    "    revw_summ.append(revw7)\n",
    "print(revw_summ)\n",
    "\n",
    "for i in full_revw_tags_p7:\n",
    "    summ7=i.text\n",
    "    full_revw.append(summ7)\n",
    "print(full_revw)"
   ]
  },
  {
   "cell_type": "code",
   "execution_count": 64,
   "id": "6dabe86c",
   "metadata": {},
   "outputs": [
    {
     "name": "stdout",
     "output_type": "stream",
     "text": [
      "1\n"
     ]
    }
   ],
   "source": [
    "# including the bad rating of the product into the list by using the same method\n",
    "\n",
    "page7_bad_rating = driver.find_elements_by_xpath(\"//div[@class='_3LWZlK _1rdVr6 _1BLPMq']\")\n",
    "\n",
    "for i in page7_bad_rating:\n",
    "    bad_rating=i.text\n",
    "print(bad_rating)"
   ]
  },
  {
   "cell_type": "code",
   "execution_count": 65,
   "id": "c02220b4",
   "metadata": {},
   "outputs": [],
   "source": [
    "ratings.insert(61,bad_rating)"
   ]
  },
  {
   "cell_type": "code",
   "execution_count": 66,
   "id": "e0f1867b",
   "metadata": {},
   "outputs": [
    {
     "name": "stdout",
     "output_type": "stream",
     "text": [
      "70 70 70\n"
     ]
    }
   ],
   "source": [
    "print(len(ratings),len(revw_summ),len(full_revw))"
   ]
  },
  {
   "cell_type": "code",
   "execution_count": 67,
   "id": "0559b9c5",
   "metadata": {},
   "outputs": [],
   "source": [
    "page8 = driver.get('https://www.flipkart.com/apple-iphone-11-black-64-gb-includes-earpods-power-adapter/product-reviews/itm0f37c2240b217?pid=MOBFKCTSVZAXUHGR&lid=LSTMOBFKCTSVZAXUHGREPBFGI&marketplace=FLIPKART&page=8')\n",
    "page8"
   ]
  },
  {
   "cell_type": "code",
   "execution_count": 68,
   "id": "9bf38501",
   "metadata": {},
   "outputs": [
    {
     "name": "stdout",
     "output_type": "stream",
     "text": [
      "['5', '5', '5', '5', '5', '5', '5', '4', '5', '5', '5', '5', '5', '5', '5', '5', '5', '5', '5', '5', '5', '5', '4', '5', '5', '5', '5', '5', '4', '5', '5', '5', '5', '5', '5', '5', '5', '4', '1', '5', '5', '5', '5', '5', '5', '5', '5', '4', '5', '5', '5', '5', '4', '5', '5', '5', '5', '5', '5', '5', '5', '1', '5', '5', '5', '4', '5', '5', '5', '4', '5', '5', '5', '4', '5', '5', '5', '5', '5']\n",
      "['Brilliant', 'Simply awesome', 'Perfect product!', 'Worth every penny', 'Fabulous!', 'Best in the market!', 'Great product', 'Good choice', 'Worth every penny', 'Highly recommended', 'Highly recommended', 'Perfect product!', 'Perfect product!', 'Classy product', 'Worth every penny', 'Simply awesome', 'Perfect product!', 'Highly recommended', 'Worth every penny', 'Worth every penny', 'Terrific', 'Wonderful', 'Nice product', 'Perfect product!', 'Brilliant', 'Classy product', 'Must buy!', 'Wonderful', 'Good choice', 'Perfect product!', 'Terrific purchase', 'Simply awesome', 'Great product', 'Terrific purchase', 'Mind-blowing purchase', 'Excellent', 'Simply awesome', 'Good quality product', 'Very poor', 'Classy product', 'Perfect product!', 'Must buy!', 'Fabulous!', 'Mind-blowing purchase', 'Mind-blowing purchase', 'Wonderful', 'Great product', 'Very Good', 'Classy product', 'Perfect product!', 'Just wow!', 'Awesome', 'Pretty good', 'Terrific purchase', 'Awesome', 'Classy product', 'Brilliant', 'Terrific', 'Perfect product!', 'Awesome', 'Perfect product!', 'Very poor', 'Fabulous!', 'Excellent', 'Must buy!', 'Value-for-money', 'Best in the market!', 'Brilliant', 'Terrific purchase', 'Good quality product', 'Best in the market!', 'Perfect product!', 'Awesome', 'Value-for-money', 'Just wow!', 'Worthless', 'Super!', 'Classy product', 'Must buy!', 'Excellent']\n",
      "['The Best Phone for the Money\\n\\nThe iPhone 11 offers superb cameras, a more durable design and excellent battery life for an affordable price.\\n\\nCompelling ultra-wide camera\\nNew Night mode is excellent\\nLong battery life', 'Really satisfied with the Product I received... It’s totally genuine and the packaging was also really good so if ur planning to buy just go for it.', 'Amazing phone with great cameras and better battery which gives you the best performance. I just love the camera .', 'Previously I was using one plus 3t it was a great phone\\nAnd then I decided to upgrade I am stuck between Samsung s10 plus or iPhone 11\\nI have seen the specs and everything were good except the display it’s somewhere between 720-1080 and it’s not even an amoled it’s an LCD display\\nBut I decided to go with iPhone because I have never used an IOS device I have Been an android user from the past 9 years I ordered IPhone 11 (128gb) product red\\nMy experience after using 3 weeks\\n1. The delivery ...\\nREAD MORE', 'This is my first iOS phone. I am very happy with this product. Very much satisfied with this. I love this phone.', 'Great iPhone very snappy experience as apple kind. Upgraded from iPhone 7.\\nPros\\n-Camera top class\\n- Battery top performed\\n-Chipset no need to say as apple kind\\n-Security as you expect from apple\\n- Display super bright industry leading colour\\naccuracy and super responsive\\n-Build quality as expect from apple sturdy\\npremium durable beautiful stylish.\\n-Os most stable os in smartphone industry\\n\\nCons\\n-No 5G\\n-Display is not based on OLED technology\\n-Charger headphones and 1 apple stic...\\nREAD MORE', 'Amazing Powerful and Durable Gadget.\\n\\nI’m am very happy with the camera picture quality, Amazing face id unlocked in dark room, Strong battery with perfect screen size as you can carry easily in pocket. This is my third iPhone.\\n\\nI shifted from android Samsung Note series to iPhone because of the strong build quality and peace of mind for next 3-4 years.\\n\\nDon’t think to much just go for it and I suggest you to go for minimum 128gb variant or more 256gb.\\n\\nI’ve attached my puppy pics and no fi...\\nREAD MORE', 'So far it’s been an AMAZING experience coming back to iOS after nearly a decade but it’s not as versatile as android though phone is sturdy dropped it accidentally a couple of times and nothing happened fortunately camera is awesome', 'i11 is worthy to buy, too much happy with the product. Thank u flipkart I received the item on time..loved it..', 'iphone 11 is a very good phone to buy only if you can compromise for the display. The display on this is device is pretty good but you can get other options with better displays in this price segment.\\nIf you can survive with an HD+ LCD panel with thicker bezels and a notch up top then this is a very good phone for you.\\nCameras are awesome, battery backup excellent, great performance and a decent premium look. Good job Apple !', 'What a camera .....just awesome ..you can feel this iPhone just awesome . Good for gaming also ...try pubg in hd it’s just wow', 'It’s a must buy who is looking for an upgrade from previous generation of iPhones. If you are using XR then still you can hold on for sometime and upgrade to 2020 model else this phone is a must buy . Camera quality is amazing and wide angle is something to count upon. Performance wise it’s amazing and feels premium while holding in hand. So a big YES for this device. Go for 128 GB variant as the 4K videos will occupy lots of space and the storage can get over very quickly. Try to buy it with...\\nREAD MORE', 'Value for money❤️❤️\\nIts awesome mobile phone in the world ...\\nDisplay was very good and bright ..\\nTrust me freinds you r never regret after Buying..\\nJust go for it....\\nI love this phone and i switch to iphone x to 11', 'Totally in love with this ❤ the camera quality is amazing just love it 😘😘😘 itsss dammnnnnnn amazing... Must buy iPhone 11 this is my best experience ever ☀👌👌🧡🧡🧡🧡🧡 thanku apple ❤', 'Best budget Iphone till date ❤️ go for it guys without second thought. Let me explain you guys about Camera, Display, battery, and performance.\\n\\nCamera: at this price range there is no comparison of camera, you’ll love the picture quality as well as video quality. I am a Vlogger I wanted an iPhone with 4k video by front camera and I got this phone and I am more than happy 😃\\n\\nBattery: I use this phone roughly as I am active social media person and I have a youtube channel. so the battery ba...\\nREAD MORE', 'Excellent camera, good performance, no lag. The lcd display is also good.. but difference come when we watch movie in prime and Netflix, the colours are not vibrant.. as we see in amoled display.. and the charger in box is of 5 watts.. takes more than 3 hours to charge from 0 to 100.. so guys be prepare to buy 18 watts charger . Finally I am an android user, it was my first Iapple phone, I promise u guys the iOS is so smooth.. overall the phone is damn good.... close eyes to buy it.. thanks t...\\nREAD MORE', \"Iphone is just awesome.. battery backup is very very nice.. continuously for 10 hours we can use it.camera is just awesome.. display is just fab.i love it alot..i had to wait 15 days for it as i pre ordered it..overalll it's worth the price..these all images are clicked by my iPhone..and i love it.\", \"It's my first time to use iOS phone and I am loving my upgradation 😍😍 I love the color, I love the assebility of the phone....I need to learn more about its functionality, but as far as I have seen, it's quite easy and it has a lot of functions to work on, specially if you are a content writer or a blogger you get a lot of content creation platforms and they are really amazing.\\n\\nThis phone not only for good quality photography but a lot of other task too.😍💯\", 'It’s been almost a month since I have been using this phone. I upgraded from an iPhone 8. The main issue with my 8 was battery and this phone is just awesome when it comes to battery. It lasts a day and a half for me with my regular use , internet connected always with 4g\\nCan’t move forward without saying this. Battery of this phone is a life saver when I am traveling or at work when I don’t get the option to charge\\nCamera is superb. Front cam selfies and back cam photos are just awesome.\\n...\\nREAD MORE', 'Smooth like butter, camera like fantabulous, sound is crystal clear & its red color is damn attractive, i am just loving it. Must buy if you love photography.\\n\\nLucky to get it in sale, thank you Flipkart.', 'Really worth of money. i just love it. It is the best phone ever.', 'This is my first ever I phone. Before this I was using my google nexus 5. But moving from android to iOS is a great experience. It’s worth at this price. I will highly recommend it if you want to move to iOS. The best part of this phone is it’s camera and it’s battery life. This two things have won my heart. I loved it. Happy to have it in my hand. Still exploring its features. And can’t forget to mention Flipkart service. Very prompt service and fast delivery.', 'Awesome Phone. Slightly high price but worth. Better than iPhone XR.\\nCamera is superb and wide angle camera is very clear.\\n12MP selfie camera is also very good.\\nA13 Chip gives a very good and smooth performance.', 'Battery backup is extraordinary, camera is decent & performance offered by A13 bionic is awsome. The display is good in practical usage like the visibility of display is very good in direct sun light compare to pro models. Iam extremely satisfied for the money I spent.', 'I have migrated from OP 7pro... and trust me, iPhone 11 is totally worth it.. following are the reasons:-\\n1)there is ABSOLUTELY NO ISSUE WITH THE DISPLAY... its crisp, sharp and I found it to be much much better than OP7 pro. Netflix, Prime video all run crisply... you won’t miss a thing. True Tone works flawlessly...the display brightness is perfect. OP have not calibrated their screens properly.\\n2) iPhone 11 series have really good cameras... others have spoken in depth about them.\\n3) bat...\\nREAD MORE', 'Superb Product !!!\\nA big and worthy upgrade from mi 3S to iphone 11 .\\nTotally loved it !', 'It’s an amazing product from apple and the camera is simply superb. Phone is faster.Night shot is simply superb and detailing and colour differentiation from camera is an added advantage\\n\\nThis review I have written from iPhone 11 only and I am glad to say outside.\\n\\nCons wise if we see HD+ display only, no battery percentage indicator as in older iPhone 8.\\nNo assistive touch control button in it\\nNo oleophobic coating on back panel glass and finger prints are visible but since I bought mint gr...\\nREAD MORE', 'I just directly switch from iphone 6s to iphone 11 .The best premium smartphone I recommend to everyone. Excellent quality and colors the iphone have in 11 series.\\nCamera quality is just awesome and the major feel when we hold in our hands. The sound quality and volume is also higher then the previous models.\\nI will recommend to buy iphone 11 instead of pro models , there is nothing much difference as this model contains everything which fulfill our needs.\\n\\nOnly one thing that I dislike abo...\\nREAD MORE', 'Looking so good 👍 😍 super 👌 stylish 😎 phone\\nClean box 📦 good 👍 delivery 👌 fast delivery\\nOriginal box Original iphone 📱 👌 😍😍😍', 'After 1 month use I found camera quality best compared to my previous Samsung note 10+.Display not good as note 10 also charging too slow.Apple should add fast charger like 11 plus and pro.Best phone for daily use', 'Upgraded from iphone 6 to 11 best phone for iphone users battery is much better than other iphones camera is awesome love to use it.camera is so clear in night.', \"It's very high performances devise i am like the service of flipkart delevary very fast and packing very nice perfect phone\", 'Well you all know the specifications . One of a kind. Best iPhone till date. Many enhancements to the camera app with many options. Love the glass body with matte finish in the lens area on the back. Lovely colours to choose from. Best battery in an iPhone till date, enough to last more than a day in normal usage. I tested my iPhone 11 battery and lasted for than 24 hours after full charge still with 30% battery charge left. Watched movies for some time. Normal usage on calls, browsing, musi...\\nREAD MORE', 'The built quality is not very premium.\\nThe battery back is great .\\nThe LCD panel is not so sharp but the brightness level is very High .\\nCamera is super duper awesome.\\nThe red colour which people think is bright is actually very soothing and excellent colour to choose from .\\nThe A13 Bionic chip is really a flagship processor and can beat any phone which even has 12 gb ram .\\nCamera module is very great and looks very stylish.', 'This will help you more. See if you are planning to buy iPhone 11. I will say. Yes. But there are some plans I just want to disclose before you buy. 1) If you are an existing iPhone X/XS/XS Max/ XR user, better you guys do not think it to buy. You guys have more or less better gadget. 2) If you are an android user and planning to buy premium phone. I will suggest them to please buy iPhone instead of buying an Android. I bet you will never go back to android after using IOS. Now I want to shar...\\nREAD MORE', 'Amazing camera and feel super machine I am not describe my feeling but this is amazing Phone I am so lucky I have this', 'Really good actually this is my first apple product am using its really awesome performance wise excellent. Am really happy with this iphone11', 'it is very good at performance. Camera is best like before and very smooth response even in water. Don’t buy 12 mini buy iPhone 11 , it is far better than 12 mini believe me ! Have a nice day \\uf8ff ☺️', 'Reviewing again after 5 months. At the beginning the battery and performance was good but it degraded soon. Also I was facing heating issues. The mobile will heat up like a stove sometimes. You cannot even play Pubg even in low settings properly, performance is not a problem but heating is. Also if you play that game for 10 mins the brightness will be automatically down due to over heating even when the auto brightness is set to off. This will not be solved even if u manually increase the bri...\\nREAD MORE', 'We are on apple ecosystem for almost eight years now with couple of iPads and iPhones, including Xr.\\n\\nBought iPhone 11 as a gift to my daughter who loves it. We chose for a purple coloured one. Believe me it is gorgeous and towards the lighter shade. Dazzling and brilliant!\\n\\nThe phone is great and does excellent RAM management like any other Apple device.\\n\\nThe screen, though a LCD and lesser ppi as compared to other flagship phones of competitor brands, is a delight to watch with perfect re...\\nREAD MORE', 'It is just awesome mobile for this price from Apple,\\n\\nAfter 10 days review\\n\\nBattery enough for 1 day even 24*7 Internet will be on and mostly internet usage\\n\\nCamera is just awesome cool , android 64 MP is equal to this just 12 MP\\n\\nA13 Bionic chip will give more high performance without hanging\\n\\nAudio stereo speakers will give Dolby atoms sound with crystal clear\\n\\nVideo recording is like cinematic shots of every sec can be a 4K 60fps. Just awesome this phone\\niPhone 11 loved one', 'Best Apple iPhone that i have bought at a very reasonable price, camera quality is next level just awesome n of superior quality android phones not even close(RIP) to that and also battery is really good but packaging by Flipkart of iPhone was very poor of such a expensive product, firstly im bit worried about the quality of product if i purchased it through online how was the product but i think now this was mine best decision to bought it through Flipkart online because i got genuine Apple...\\nREAD MORE', \"I can say I'm damn impressed with iPhone 11. As they says iPhone 11 have the toughest glass ever in the smartphone which you'll find on the front and back and it's totally smooth. The fit and finish is full apple quality - there's no sense that any cheaping out has happened in the construction. Without saying it's camera features this review won't complete. The iPhone 11 has a dual camera system, consisting of a wide angle len's that's pretty much same as found on the iPhone XR last year, but...\\nREAD MORE\", 'Best Quality Product OF iPhone Series , Sound Quality & Camera quality is very awesome, Battery Life is very Sufficient for 24 hr Backup With Full Internet Access , I love this this Product too much , It is very fast & making me Very fast in all my daily Routine\\nHighlights;\\n1.Camera: 5 STAR\\n2.Video Recording: 5 star\\n3.Night mODE sHOOTING & Camera:4 star\\n4. Audio Quality: Awesome\\n5. Battery : 5 Star\\n6. Touch:5 Star\\n7. Processor: Very Fast\\nThe M...\\nREAD MORE', 'First thanks to Flipkart for this amazing deal and phone is outstanding. I upgraded from iPhone 7 and this is like very big upgrade. But the packaging was very basic I expected a good packaging as they only wrapped one layer of bubble wrap which I don’t think is enough to protect this expensive phone. And I recommend this phone and seller as well.\\n\\nAnd I’m posting this review after using it for 4 days.', 'Superfast delivery by Flipkart. Thanks.\\n\\n1. iPhone 11 is a pretty solid phone for the money you are paying.\\n2. All the bad reviews about the display is confusing. It’s not that bad.\\n3. I switched from a Oneplus 7t. I have no complaints about the display quality of iPhone. Yes, it’s not OLED, so, we are missing on the deep blacks. But that’s it. It is a very colour accurate display. Gets adequately bright and I could not find any pixelation.\\n4. Performance is one of the best, if not best, in ...\\nREAD MORE', \"Again back to apple iphone after a gap of 2-3 years. It's pleasure to use iOS and the quality product by Apple. Iphone 11 still works like a beast in 2021 also. It really capable of doing day to day usage as well as hard core gaming. Battery is awesome. I'm really too much satisfied with it. Apart fto the very gorgious IPS LCD (AMOLED will be better) everything is mind boggling. Iphone💕.\", 'impressive super phone and best in class camera ,sound and face unlock is super fast just see and phone is unlock and fast in daily apps use', 'Well while switching from android to iOS the first thing you need to be careful about is that you will loose all your whatsapp chat backups as both are different operating systems. Camera clarity is awesome and though being an lcd screen clarity and resolution is good. Battery backup is also good unlike previous gen iPhone. So far the experience is good will Padre after a few months of usage.\\n\\nP.S the black is more of a dark grey shade and not jet black', 'In love with this iphone great performance,camera ,battery everything. Go for it have a uncompareble battery backup, no doubts in iPhone camera here You can see the picture which is shot on my iPhone In love with this iphone great performance,camera ,battery everything. Go for it have a uncompareble battery backup, no doubts in iPhone camera here You can see the picture which is shot on my iPhone In love with this iphone great performance,camera ,battery everything. Go for it have a uncompare...\\nREAD MORE', 'Best in class. Battery backup is good especially when you play games like Pubg COD. But it is sort of heavy when you hold in hands. Portrait mode is best to click pictures. Stage light effect is awesome. Try to click photos outside in nature because photos inside home or room will not give you the quality in any phone even in DSLR.', 'Very excited to have this phone. This phone has the real power unlike the android phones having SD 855 . The battery life is very good and the camera quality is excellent as comapred to redmi and other phones except google pixel. I M enjoying every single bit of it. Would recommed only if you have the budget.', 'I was using Iphone 6s and also Oneplus 6t. Both mobiles were perfectly alright in Photos, gaming, and smooth interface . My 6s mobile getting battery issue. thought upgrade to 11. Really like this mobile of its Internal storage (compare to 6s) , camera and its touch feeling. Its a worth buying mobile for me.', 'Its Very awesome product working and good camera quality and all about best product and also flipkart is very great deal and offer nice price', 'I am using this phone for 5 days and its one of the best camera out there ❤️ the screen is not oled and i am coming from iphone xs so its little bit not up to the mark i would say\\nBut overall value for money💕😍the battery back up is far better than my iphone xs and its worth in my apple ecosystem💫❤️if u are an apple User and have the eco system then go for it❤️though i will be getting the new iphone but its pretty good💫', 'Best and amazing product.....phone looks so premium.... battary is also good as expected .... Wide angle camera is so addictive ...if you are a IOS lover....then this phone will be the best choice for you all!!💯🔥', 'Excellent camera and display touching very nice and smooth very improvement against iPhone XR and new processor is very fast', \"I got this beast today. And I must say the picture quality of its camera is awesome. Both the cameras works fine.\\n\\nAs for as the processing is concerned, it runs without any lag. You can play and do whatever you want without a glitch.\\n\\nThe battery runs for a day with medium and high workload.\\n\\nThe display is good and the speakers are working fine.\\n\\nThe earphones doesn't have any base and you can use it for calling mostly.\\n\\nThe charging time is approximately for 90 minutes for full charging...\\nREAD MORE\", 'Awesome purchase. Amazing phone with good battery backup. It’s a top notch device. White colour looks amazing. Phone has a few extra feature than iPhone XR. Overall, this is value for money', 'Always love the apple products, upgraded from old iPhone 6S plus to this after having my first baby. I just love to click baby’s photos with it. Overall I just love this phone. Battery back up is okay, sound quality is good. Haven’t tested yet waterproof yet. Only one thing I hate is apple could have given charger & headphones in box.', 'Value for money\\n5 star rating\\nExcellent camera\\nBattery backup full day in single charge.\\n\\nTougher and water resistant design, glossy back.\\nThe screen has excellent brightness and contrast.\\nApple A13 Bionic is the fastest smartphone chip on the planet.\\nExcellent battery life, fast charging support.\\nStereo speakers with great quality.', 'Please DONT buy from here,\\n\\nI purchased Apple iPhone 11. with an exchange of IPhone 7, the exchange did not go well, iPhone 7 had a small scratch out side screen which i could never identify till date, but the FLIPKART person could, so he reduced 50% from exchange rate. I decided not to trade in, but paid money.\\n\\niPhone 11 Detail Below\\n---------------------------------------------\\nIt came with no charging, then i have put for charging, it took lot of time for charging, the phone also showe...\\nREAD MORE', 'awesome phone to have. it has got many smart features apart from mind blowing looks, camera, display, battery and sound. have fallen in love with this phone. must buy phone if you have got enough money. thanks to flipkart and apple of course..', 'Its a fabulous mobile look awesome performance unbeaten camera like dslr battery good i think this is a beast of mobile', 'Dear friends... I want to share my experience with you about this amazing I phone 11....this is my first iPhone and special things about this mobile is it has great camera, battery backup and awesome display.... I mean everything is perfect.loved it 👍👍👍', \"Just got this iphone 11\\nAnd it is most powerful mobile phone I have used ever\\n\\nSo,go for it if you want a phone with best specification like camera,battery backup,display, A13 bionic chip\\n\\nThat's my review about this phone but yours can be differ from me....\", \"The best all rounder iphone. Flipkart is doing a great job. They're delivery services are blazing fast. I got delivery on the same day. Genuine Apple Product. Working great. Talking about review There's no need of review for iphones. They're simply the best.\", 'Amazing phone and on great deal I received with super fast delivery by Flipkart...', 'finally an iPhone with very nice battery backup. update from iPhone 7 and happy to have it. camera is not up to the mark in low light but overall a recommended phone if your budget allows 😀', \"I'm switching this phone to oppo reno 10x zoom\\nIt's really impressive\\nRarely I'm missing smooth display touch response like oppo reno but\\nI really loved it.\\nCamera really impressive\", 'Damn this phone is a blast . Upgraded from android to ios and is a duperb experience. Battery backup is top notch and display also pretty good', 'Worth the money’ starting first from its performance it beats out all phones , second the smoothness of camera is awesome, contrast ratio is much than expected. Price will not matter if u r a quality person, if not other phones are available with better discount', 'I dreamt about this day from a long time.... Getting an iPhone with my own money.... Super happy and worth spending every penny', \"I'm Really happy with the product\\nDelivery was fast as well\\n..it was a gift for my sister and she loved it so much.\", 'Great iphone.\\nI am writing this review after 2 months of usage.\\nCamera is excellent, especially the nightmode\\nDisplay perfect\\nBattery backup awesome\\nSound quality very good\\nOverall Apple gives you a perfect iphone in this range.\\nReally in love with iPhone 11', \"Phone is awesome no doubt. But Camera & Display is not great. Performance is mind blowing.\\nBut the phone is heating too much when charging or when you regularly used. It's experience after using 1 week. It's heating extrem when I play PUBG for 30 minutes.\\nGo for iPhone 11 pro or 12. Otherwise go for Android phone you will get much better phone in less price.\", 'Did an upgrade from 6s plus to iphone 11.\\nAo far the experience is well and good. Felt smoother than 6s plus. The camera quality is superb. Battery backup is descent. Not a heavy user, and gets power more than a day. Go for it if you need an alrounder iphone in a competitve price.', 'Gifted my man on his 30th birthday 🎂 He loves it.. Him happy so i am more than happy 😍😘❤️🥰', 'I rate this product 5* as it has got amazing user experience with the best performing A13 bionic processor. The screen responds and graphics rendering is top notch. With casual gaming and internet browsing, the battery lasts for approx. 1 day. Camera is very good. You will fall in love with the portrait mode. You can call me a loyal Apple customer or whatever but I won’t stop praising the products and overall experience. That user experience matters and is worth every penny you pay.\\n\\nBelow ar...\\nREAD MORE', \"It was amazing experience for me. Honestly i am using iPhone first time so I don't have that much past experience about that. But after using 7 days this mobile i want to give some honest feedback.\\n1- Display 9 out of 10\\n2- Camera 9.5 out of 10\\n3- Battery 7 out of 10\\n4- Performance 9.5 out of 10\\n5- Features & Functions 10 out of 10\\n6- Outer looks and colour 10 out of 10\\nRest i think i will understand after using this for few months.\\nI will highly recommend you guys if you have budget then you...\\nREAD MORE\"]\n"
     ]
    }
   ],
   "source": [
    "# page8\n",
    "\n",
    "rtng_tags_p8=driver.find_elements_by_xpath(\"//div[@class='_3LWZlK _1BLPMq']\")\n",
    "\n",
    "revw_summ_tags_p8=driver.find_elements_by_xpath(\"//p[@class='_2-N8zT']\")\n",
    "\n",
    "full_revw_tags_p8=driver.find_elements_by_xpath(\"//div[@class='t-ZTKy']\")\n",
    "\n",
    "\n",
    "\n",
    "\n",
    "\n",
    "for i in rtng_tags_p8:\n",
    "    rtng8=i.text\n",
    "    ratings.append(rtng8)\n",
    "print(ratings)\n",
    "\n",
    "for i in revw_summ_tags_p8:\n",
    "    revw8=i.text\n",
    "    revw_summ.append(revw8)\n",
    "print(revw_summ)\n",
    "\n",
    "for i in full_revw_tags_p8:\n",
    "    summ8=i.text\n",
    "    full_revw.append(summ8)\n",
    "print(full_revw)"
   ]
  },
  {
   "cell_type": "code",
   "execution_count": 69,
   "id": "f108a63c",
   "metadata": {},
   "outputs": [
    {
     "name": "stdout",
     "output_type": "stream",
     "text": [
      "1\n"
     ]
    }
   ],
   "source": [
    "page8_bad_rating = driver.find_elements_by_xpath(\"//div[@class='_3LWZlK _1rdVr6 _1BLPMq']\")\n",
    "\n",
    "for i in page8_bad_rating:\n",
    "    bad_rating=i.text\n",
    "print(bad_rating)"
   ]
  },
  {
   "cell_type": "code",
   "execution_count": 70,
   "id": "dbbb6491",
   "metadata": {},
   "outputs": [],
   "source": [
    "ratings.insert(75,bad_rating)"
   ]
  },
  {
   "cell_type": "code",
   "execution_count": 71,
   "id": "ecb302ca",
   "metadata": {},
   "outputs": [
    {
     "name": "stdout",
     "output_type": "stream",
     "text": [
      "80 80 80\n"
     ]
    }
   ],
   "source": [
    "print(len(ratings),len(revw_summ),len(full_revw))"
   ]
  },
  {
   "cell_type": "code",
   "execution_count": 72,
   "id": "0fbb12ce",
   "metadata": {},
   "outputs": [],
   "source": [
    "page9 = driver.get('https://www.flipkart.com/apple-iphone-11-black-64-gb-includes-earpods-power-adapter/product-reviews/itm0f37c2240b217?pid=MOBFKCTSVZAXUHGR&lid=LSTMOBFKCTSVZAXUHGREPBFGI&marketplace=FLIPKART&page=9')\n",
    "page9"
   ]
  },
  {
   "cell_type": "code",
   "execution_count": 73,
   "id": "b9e823ea",
   "metadata": {},
   "outputs": [
    {
     "name": "stdout",
     "output_type": "stream",
     "text": [
      "['5', '5', '5', '5', '5', '5', '5', '4', '5', '5', '5', '5', '5', '5', '5', '5', '5', '5', '5', '5', '5', '5', '4', '5', '5', '5', '5', '5', '4', '5', '5', '5', '5', '5', '5', '5', '5', '4', '1', '5', '5', '5', '5', '5', '5', '5', '5', '4', '5', '5', '5', '5', '4', '5', '5', '5', '5', '5', '5', '5', '5', '1', '5', '5', '5', '4', '5', '5', '5', '4', '5', '5', '5', '4', '5', '1', '5', '5', '5', '5', '4', '5', '5', '5', '5', '5', '5', '5', '5', '5']\n",
      "['Brilliant', 'Simply awesome', 'Perfect product!', 'Worth every penny', 'Fabulous!', 'Best in the market!', 'Great product', 'Good choice', 'Worth every penny', 'Highly recommended', 'Highly recommended', 'Perfect product!', 'Perfect product!', 'Classy product', 'Worth every penny', 'Simply awesome', 'Perfect product!', 'Highly recommended', 'Worth every penny', 'Worth every penny', 'Terrific', 'Wonderful', 'Nice product', 'Perfect product!', 'Brilliant', 'Classy product', 'Must buy!', 'Wonderful', 'Good choice', 'Perfect product!', 'Terrific purchase', 'Simply awesome', 'Great product', 'Terrific purchase', 'Mind-blowing purchase', 'Excellent', 'Simply awesome', 'Good quality product', 'Very poor', 'Classy product', 'Perfect product!', 'Must buy!', 'Fabulous!', 'Mind-blowing purchase', 'Mind-blowing purchase', 'Wonderful', 'Great product', 'Very Good', 'Classy product', 'Perfect product!', 'Just wow!', 'Awesome', 'Pretty good', 'Terrific purchase', 'Awesome', 'Classy product', 'Brilliant', 'Terrific', 'Perfect product!', 'Awesome', 'Perfect product!', 'Very poor', 'Fabulous!', 'Excellent', 'Must buy!', 'Value-for-money', 'Best in the market!', 'Brilliant', 'Terrific purchase', 'Good quality product', 'Best in the market!', 'Perfect product!', 'Awesome', 'Value-for-money', 'Just wow!', 'Worthless', 'Super!', 'Classy product', 'Must buy!', 'Excellent', 'Nice product', 'Mind-blowing purchase', 'Terrific', 'Excellent', 'Mind-blowing purchase', 'Highly recommended', 'Wonderful', 'Fabulous!', 'Brilliant', 'Worth every penny']\n",
      "['The Best Phone for the Money\\n\\nThe iPhone 11 offers superb cameras, a more durable design and excellent battery life for an affordable price.\\n\\nCompelling ultra-wide camera\\nNew Night mode is excellent\\nLong battery life', 'Really satisfied with the Product I received... It’s totally genuine and the packaging was also really good so if ur planning to buy just go for it.', 'Amazing phone with great cameras and better battery which gives you the best performance. I just love the camera .', 'Previously I was using one plus 3t it was a great phone\\nAnd then I decided to upgrade I am stuck between Samsung s10 plus or iPhone 11\\nI have seen the specs and everything were good except the display it’s somewhere between 720-1080 and it’s not even an amoled it’s an LCD display\\nBut I decided to go with iPhone because I have never used an IOS device I have Been an android user from the past 9 years I ordered IPhone 11 (128gb) product red\\nMy experience after using 3 weeks\\n1. The delivery ...\\nREAD MORE', 'This is my first iOS phone. I am very happy with this product. Very much satisfied with this. I love this phone.', 'Great iPhone very snappy experience as apple kind. Upgraded from iPhone 7.\\nPros\\n-Camera top class\\n- Battery top performed\\n-Chipset no need to say as apple kind\\n-Security as you expect from apple\\n- Display super bright industry leading colour\\naccuracy and super responsive\\n-Build quality as expect from apple sturdy\\npremium durable beautiful stylish.\\n-Os most stable os in smartphone industry\\n\\nCons\\n-No 5G\\n-Display is not based on OLED technology\\n-Charger headphones and 1 apple stic...\\nREAD MORE', 'Amazing Powerful and Durable Gadget.\\n\\nI’m am very happy with the camera picture quality, Amazing face id unlocked in dark room, Strong battery with perfect screen size as you can carry easily in pocket. This is my third iPhone.\\n\\nI shifted from android Samsung Note series to iPhone because of the strong build quality and peace of mind for next 3-4 years.\\n\\nDon’t think to much just go for it and I suggest you to go for minimum 128gb variant or more 256gb.\\n\\nI’ve attached my puppy pics and no fi...\\nREAD MORE', 'So far it’s been an AMAZING experience coming back to iOS after nearly a decade but it’s not as versatile as android though phone is sturdy dropped it accidentally a couple of times and nothing happened fortunately camera is awesome', 'i11 is worthy to buy, too much happy with the product. Thank u flipkart I received the item on time..loved it..', 'iphone 11 is a very good phone to buy only if you can compromise for the display. The display on this is device is pretty good but you can get other options with better displays in this price segment.\\nIf you can survive with an HD+ LCD panel with thicker bezels and a notch up top then this is a very good phone for you.\\nCameras are awesome, battery backup excellent, great performance and a decent premium look. Good job Apple !', 'What a camera .....just awesome ..you can feel this iPhone just awesome . Good for gaming also ...try pubg in hd it’s just wow', 'It’s a must buy who is looking for an upgrade from previous generation of iPhones. If you are using XR then still you can hold on for sometime and upgrade to 2020 model else this phone is a must buy . Camera quality is amazing and wide angle is something to count upon. Performance wise it’s amazing and feels premium while holding in hand. So a big YES for this device. Go for 128 GB variant as the 4K videos will occupy lots of space and the storage can get over very quickly. Try to buy it with...\\nREAD MORE', 'Value for money❤️❤️\\nIts awesome mobile phone in the world ...\\nDisplay was very good and bright ..\\nTrust me freinds you r never regret after Buying..\\nJust go for it....\\nI love this phone and i switch to iphone x to 11', 'Totally in love with this ❤ the camera quality is amazing just love it 😘😘😘 itsss dammnnnnnn amazing... Must buy iPhone 11 this is my best experience ever ☀👌👌🧡🧡🧡🧡🧡 thanku apple ❤', 'Best budget Iphone till date ❤️ go for it guys without second thought. Let me explain you guys about Camera, Display, battery, and performance.\\n\\nCamera: at this price range there is no comparison of camera, you’ll love the picture quality as well as video quality. I am a Vlogger I wanted an iPhone with 4k video by front camera and I got this phone and I am more than happy 😃\\n\\nBattery: I use this phone roughly as I am active social media person and I have a youtube channel. so the battery ba...\\nREAD MORE', 'Excellent camera, good performance, no lag. The lcd display is also good.. but difference come when we watch movie in prime and Netflix, the colours are not vibrant.. as we see in amoled display.. and the charger in box is of 5 watts.. takes more than 3 hours to charge from 0 to 100.. so guys be prepare to buy 18 watts charger . Finally I am an android user, it was my first Iapple phone, I promise u guys the iOS is so smooth.. overall the phone is damn good.... close eyes to buy it.. thanks t...\\nREAD MORE', \"Iphone is just awesome.. battery backup is very very nice.. continuously for 10 hours we can use it.camera is just awesome.. display is just fab.i love it alot..i had to wait 15 days for it as i pre ordered it..overalll it's worth the price..these all images are clicked by my iPhone..and i love it.\", \"It's my first time to use iOS phone and I am loving my upgradation 😍😍 I love the color, I love the assebility of the phone....I need to learn more about its functionality, but as far as I have seen, it's quite easy and it has a lot of functions to work on, specially if you are a content writer or a blogger you get a lot of content creation platforms and they are really amazing.\\n\\nThis phone not only for good quality photography but a lot of other task too.😍💯\", 'It’s been almost a month since I have been using this phone. I upgraded from an iPhone 8. The main issue with my 8 was battery and this phone is just awesome when it comes to battery. It lasts a day and a half for me with my regular use , internet connected always with 4g\\nCan’t move forward without saying this. Battery of this phone is a life saver when I am traveling or at work when I don’t get the option to charge\\nCamera is superb. Front cam selfies and back cam photos are just awesome.\\n...\\nREAD MORE', 'Smooth like butter, camera like fantabulous, sound is crystal clear & its red color is damn attractive, i am just loving it. Must buy if you love photography.\\n\\nLucky to get it in sale, thank you Flipkart.', 'Really worth of money. i just love it. It is the best phone ever.', 'This is my first ever I phone. Before this I was using my google nexus 5. But moving from android to iOS is a great experience. It’s worth at this price. I will highly recommend it if you want to move to iOS. The best part of this phone is it’s camera and it’s battery life. This two things have won my heart. I loved it. Happy to have it in my hand. Still exploring its features. And can’t forget to mention Flipkart service. Very prompt service and fast delivery.', 'Awesome Phone. Slightly high price but worth. Better than iPhone XR.\\nCamera is superb and wide angle camera is very clear.\\n12MP selfie camera is also very good.\\nA13 Chip gives a very good and smooth performance.', 'Battery backup is extraordinary, camera is decent & performance offered by A13 bionic is awsome. The display is good in practical usage like the visibility of display is very good in direct sun light compare to pro models. Iam extremely satisfied for the money I spent.', 'I have migrated from OP 7pro... and trust me, iPhone 11 is totally worth it.. following are the reasons:-\\n1)there is ABSOLUTELY NO ISSUE WITH THE DISPLAY... its crisp, sharp and I found it to be much much better than OP7 pro. Netflix, Prime video all run crisply... you won’t miss a thing. True Tone works flawlessly...the display brightness is perfect. OP have not calibrated their screens properly.\\n2) iPhone 11 series have really good cameras... others have spoken in depth about them.\\n3) bat...\\nREAD MORE', 'Superb Product !!!\\nA big and worthy upgrade from mi 3S to iphone 11 .\\nTotally loved it !', 'It’s an amazing product from apple and the camera is simply superb. Phone is faster.Night shot is simply superb and detailing and colour differentiation from camera is an added advantage\\n\\nThis review I have written from iPhone 11 only and I am glad to say outside.\\n\\nCons wise if we see HD+ display only, no battery percentage indicator as in older iPhone 8.\\nNo assistive touch control button in it\\nNo oleophobic coating on back panel glass and finger prints are visible but since I bought mint gr...\\nREAD MORE', 'I just directly switch from iphone 6s to iphone 11 .The best premium smartphone I recommend to everyone. Excellent quality and colors the iphone have in 11 series.\\nCamera quality is just awesome and the major feel when we hold in our hands. The sound quality and volume is also higher then the previous models.\\nI will recommend to buy iphone 11 instead of pro models , there is nothing much difference as this model contains everything which fulfill our needs.\\n\\nOnly one thing that I dislike abo...\\nREAD MORE', 'Looking so good 👍 😍 super 👌 stylish 😎 phone\\nClean box 📦 good 👍 delivery 👌 fast delivery\\nOriginal box Original iphone 📱 👌 😍😍😍', 'After 1 month use I found camera quality best compared to my previous Samsung note 10+.Display not good as note 10 also charging too slow.Apple should add fast charger like 11 plus and pro.Best phone for daily use', 'Upgraded from iphone 6 to 11 best phone for iphone users battery is much better than other iphones camera is awesome love to use it.camera is so clear in night.', \"It's very high performances devise i am like the service of flipkart delevary very fast and packing very nice perfect phone\", 'Well you all know the specifications . One of a kind. Best iPhone till date. Many enhancements to the camera app with many options. Love the glass body with matte finish in the lens area on the back. Lovely colours to choose from. Best battery in an iPhone till date, enough to last more than a day in normal usage. I tested my iPhone 11 battery and lasted for than 24 hours after full charge still with 30% battery charge left. Watched movies for some time. Normal usage on calls, browsing, musi...\\nREAD MORE', 'The built quality is not very premium.\\nThe battery back is great .\\nThe LCD panel is not so sharp but the brightness level is very High .\\nCamera is super duper awesome.\\nThe red colour which people think is bright is actually very soothing and excellent colour to choose from .\\nThe A13 Bionic chip is really a flagship processor and can beat any phone which even has 12 gb ram .\\nCamera module is very great and looks very stylish.', 'This will help you more. See if you are planning to buy iPhone 11. I will say. Yes. But there are some plans I just want to disclose before you buy. 1) If you are an existing iPhone X/XS/XS Max/ XR user, better you guys do not think it to buy. You guys have more or less better gadget. 2) If you are an android user and planning to buy premium phone. I will suggest them to please buy iPhone instead of buying an Android. I bet you will never go back to android after using IOS. Now I want to shar...\\nREAD MORE', 'Amazing camera and feel super machine I am not describe my feeling but this is amazing Phone I am so lucky I have this', 'Really good actually this is my first apple product am using its really awesome performance wise excellent. Am really happy with this iphone11', 'it is very good at performance. Camera is best like before and very smooth response even in water. Don’t buy 12 mini buy iPhone 11 , it is far better than 12 mini believe me ! Have a nice day \\uf8ff ☺️', 'Reviewing again after 5 months. At the beginning the battery and performance was good but it degraded soon. Also I was facing heating issues. The mobile will heat up like a stove sometimes. You cannot even play Pubg even in low settings properly, performance is not a problem but heating is. Also if you play that game for 10 mins the brightness will be automatically down due to over heating even when the auto brightness is set to off. This will not be solved even if u manually increase the bri...\\nREAD MORE', 'We are on apple ecosystem for almost eight years now with couple of iPads and iPhones, including Xr.\\n\\nBought iPhone 11 as a gift to my daughter who loves it. We chose for a purple coloured one. Believe me it is gorgeous and towards the lighter shade. Dazzling and brilliant!\\n\\nThe phone is great and does excellent RAM management like any other Apple device.\\n\\nThe screen, though a LCD and lesser ppi as compared to other flagship phones of competitor brands, is a delight to watch with perfect re...\\nREAD MORE', 'It is just awesome mobile for this price from Apple,\\n\\nAfter 10 days review\\n\\nBattery enough for 1 day even 24*7 Internet will be on and mostly internet usage\\n\\nCamera is just awesome cool , android 64 MP is equal to this just 12 MP\\n\\nA13 Bionic chip will give more high performance without hanging\\n\\nAudio stereo speakers will give Dolby atoms sound with crystal clear\\n\\nVideo recording is like cinematic shots of every sec can be a 4K 60fps. Just awesome this phone\\niPhone 11 loved one', 'Best Apple iPhone that i have bought at a very reasonable price, camera quality is next level just awesome n of superior quality android phones not even close(RIP) to that and also battery is really good but packaging by Flipkart of iPhone was very poor of such a expensive product, firstly im bit worried about the quality of product if i purchased it through online how was the product but i think now this was mine best decision to bought it through Flipkart online because i got genuine Apple...\\nREAD MORE', \"I can say I'm damn impressed with iPhone 11. As they says iPhone 11 have the toughest glass ever in the smartphone which you'll find on the front and back and it's totally smooth. The fit and finish is full apple quality - there's no sense that any cheaping out has happened in the construction. Without saying it's camera features this review won't complete. The iPhone 11 has a dual camera system, consisting of a wide angle len's that's pretty much same as found on the iPhone XR last year, but...\\nREAD MORE\", 'Best Quality Product OF iPhone Series , Sound Quality & Camera quality is very awesome, Battery Life is very Sufficient for 24 hr Backup With Full Internet Access , I love this this Product too much , It is very fast & making me Very fast in all my daily Routine\\nHighlights;\\n1.Camera: 5 STAR\\n2.Video Recording: 5 star\\n3.Night mODE sHOOTING & Camera:4 star\\n4. Audio Quality: Awesome\\n5. Battery : 5 Star\\n6. Touch:5 Star\\n7. Processor: Very Fast\\nThe M...\\nREAD MORE', 'First thanks to Flipkart for this amazing deal and phone is outstanding. I upgraded from iPhone 7 and this is like very big upgrade. But the packaging was very basic I expected a good packaging as they only wrapped one layer of bubble wrap which I don’t think is enough to protect this expensive phone. And I recommend this phone and seller as well.\\n\\nAnd I’m posting this review after using it for 4 days.', 'Superfast delivery by Flipkart. Thanks.\\n\\n1. iPhone 11 is a pretty solid phone for the money you are paying.\\n2. All the bad reviews about the display is confusing. It’s not that bad.\\n3. I switched from a Oneplus 7t. I have no complaints about the display quality of iPhone. Yes, it’s not OLED, so, we are missing on the deep blacks. But that’s it. It is a very colour accurate display. Gets adequately bright and I could not find any pixelation.\\n4. Performance is one of the best, if not best, in ...\\nREAD MORE', \"Again back to apple iphone after a gap of 2-3 years. It's pleasure to use iOS and the quality product by Apple. Iphone 11 still works like a beast in 2021 also. It really capable of doing day to day usage as well as hard core gaming. Battery is awesome. I'm really too much satisfied with it. Apart fto the very gorgious IPS LCD (AMOLED will be better) everything is mind boggling. Iphone💕.\", 'impressive super phone and best in class camera ,sound and face unlock is super fast just see and phone is unlock and fast in daily apps use', 'Well while switching from android to iOS the first thing you need to be careful about is that you will loose all your whatsapp chat backups as both are different operating systems. Camera clarity is awesome and though being an lcd screen clarity and resolution is good. Battery backup is also good unlike previous gen iPhone. So far the experience is good will Padre after a few months of usage.\\n\\nP.S the black is more of a dark grey shade and not jet black', 'In love with this iphone great performance,camera ,battery everything. Go for it have a uncompareble battery backup, no doubts in iPhone camera here You can see the picture which is shot on my iPhone In love with this iphone great performance,camera ,battery everything. Go for it have a uncompareble battery backup, no doubts in iPhone camera here You can see the picture which is shot on my iPhone In love with this iphone great performance,camera ,battery everything. Go for it have a uncompare...\\nREAD MORE', 'Best in class. Battery backup is good especially when you play games like Pubg COD. But it is sort of heavy when you hold in hands. Portrait mode is best to click pictures. Stage light effect is awesome. Try to click photos outside in nature because photos inside home or room will not give you the quality in any phone even in DSLR.', 'Very excited to have this phone. This phone has the real power unlike the android phones having SD 855 . The battery life is very good and the camera quality is excellent as comapred to redmi and other phones except google pixel. I M enjoying every single bit of it. Would recommed only if you have the budget.', 'I was using Iphone 6s and also Oneplus 6t. Both mobiles were perfectly alright in Photos, gaming, and smooth interface . My 6s mobile getting battery issue. thought upgrade to 11. Really like this mobile of its Internal storage (compare to 6s) , camera and its touch feeling. Its a worth buying mobile for me.', 'Its Very awesome product working and good camera quality and all about best product and also flipkart is very great deal and offer nice price', 'I am using this phone for 5 days and its one of the best camera out there ❤️ the screen is not oled and i am coming from iphone xs so its little bit not up to the mark i would say\\nBut overall value for money💕😍the battery back up is far better than my iphone xs and its worth in my apple ecosystem💫❤️if u are an apple User and have the eco system then go for it❤️though i will be getting the new iphone but its pretty good💫', 'Best and amazing product.....phone looks so premium.... battary is also good as expected .... Wide angle camera is so addictive ...if you are a IOS lover....then this phone will be the best choice for you all!!💯🔥', 'Excellent camera and display touching very nice and smooth very improvement against iPhone XR and new processor is very fast', \"I got this beast today. And I must say the picture quality of its camera is awesome. Both the cameras works fine.\\n\\nAs for as the processing is concerned, it runs without any lag. You can play and do whatever you want without a glitch.\\n\\nThe battery runs for a day with medium and high workload.\\n\\nThe display is good and the speakers are working fine.\\n\\nThe earphones doesn't have any base and you can use it for calling mostly.\\n\\nThe charging time is approximately for 90 minutes for full charging...\\nREAD MORE\", 'Awesome purchase. Amazing phone with good battery backup. It’s a top notch device. White colour looks amazing. Phone has a few extra feature than iPhone XR. Overall, this is value for money', 'Always love the apple products, upgraded from old iPhone 6S plus to this after having my first baby. I just love to click baby’s photos with it. Overall I just love this phone. Battery back up is okay, sound quality is good. Haven’t tested yet waterproof yet. Only one thing I hate is apple could have given charger & headphones in box.', 'Value for money\\n5 star rating\\nExcellent camera\\nBattery backup full day in single charge.\\n\\nTougher and water resistant design, glossy back.\\nThe screen has excellent brightness and contrast.\\nApple A13 Bionic is the fastest smartphone chip on the planet.\\nExcellent battery life, fast charging support.\\nStereo speakers with great quality.', 'Please DONT buy from here,\\n\\nI purchased Apple iPhone 11. with an exchange of IPhone 7, the exchange did not go well, iPhone 7 had a small scratch out side screen which i could never identify till date, but the FLIPKART person could, so he reduced 50% from exchange rate. I decided not to trade in, but paid money.\\n\\niPhone 11 Detail Below\\n---------------------------------------------\\nIt came with no charging, then i have put for charging, it took lot of time for charging, the phone also showe...\\nREAD MORE', 'awesome phone to have. it has got many smart features apart from mind blowing looks, camera, display, battery and sound. have fallen in love with this phone. must buy phone if you have got enough money. thanks to flipkart and apple of course..', 'Its a fabulous mobile look awesome performance unbeaten camera like dslr battery good i think this is a beast of mobile', 'Dear friends... I want to share my experience with you about this amazing I phone 11....this is my first iPhone and special things about this mobile is it has great camera, battery backup and awesome display.... I mean everything is perfect.loved it 👍👍👍', \"Just got this iphone 11\\nAnd it is most powerful mobile phone I have used ever\\n\\nSo,go for it if you want a phone with best specification like camera,battery backup,display, A13 bionic chip\\n\\nThat's my review about this phone but yours can be differ from me....\", \"The best all rounder iphone. Flipkart is doing a great job. They're delivery services are blazing fast. I got delivery on the same day. Genuine Apple Product. Working great. Talking about review There's no need of review for iphones. They're simply the best.\", 'Amazing phone and on great deal I received with super fast delivery by Flipkart...', 'finally an iPhone with very nice battery backup. update from iPhone 7 and happy to have it. camera is not up to the mark in low light but overall a recommended phone if your budget allows 😀', \"I'm switching this phone to oppo reno 10x zoom\\nIt's really impressive\\nRarely I'm missing smooth display touch response like oppo reno but\\nI really loved it.\\nCamera really impressive\", 'Damn this phone is a blast . Upgraded from android to ios and is a duperb experience. Battery backup is top notch and display also pretty good', 'Worth the money’ starting first from its performance it beats out all phones , second the smoothness of camera is awesome, contrast ratio is much than expected. Price will not matter if u r a quality person, if not other phones are available with better discount', 'I dreamt about this day from a long time.... Getting an iPhone with my own money.... Super happy and worth spending every penny', \"I'm Really happy with the product\\nDelivery was fast as well\\n..it was a gift for my sister and she loved it so much.\", 'Great iphone.\\nI am writing this review after 2 months of usage.\\nCamera is excellent, especially the nightmode\\nDisplay perfect\\nBattery backup awesome\\nSound quality very good\\nOverall Apple gives you a perfect iphone in this range.\\nReally in love with iPhone 11', \"Phone is awesome no doubt. But Camera & Display is not great. Performance is mind blowing.\\nBut the phone is heating too much when charging or when you regularly used. It's experience after using 1 week. It's heating extrem when I play PUBG for 30 minutes.\\nGo for iPhone 11 pro or 12. Otherwise go for Android phone you will get much better phone in less price.\", 'Did an upgrade from 6s plus to iphone 11.\\nAo far the experience is well and good. Felt smoother than 6s plus. The camera quality is superb. Battery backup is descent. Not a heavy user, and gets power more than a day. Go for it if you need an alrounder iphone in a competitve price.', 'Gifted my man on his 30th birthday 🎂 He loves it.. Him happy so i am more than happy 😍😘❤️🥰', 'I rate this product 5* as it has got amazing user experience with the best performing A13 bionic processor. The screen responds and graphics rendering is top notch. With casual gaming and internet browsing, the battery lasts for approx. 1 day. Camera is very good. You will fall in love with the portrait mode. You can call me a loyal Apple customer or whatever but I won’t stop praising the products and overall experience. That user experience matters and is worth every penny you pay.\\n\\nBelow ar...\\nREAD MORE', \"It was amazing experience for me. Honestly i am using iPhone first time so I don't have that much past experience about that. But after using 7 days this mobile i want to give some honest feedback.\\n1- Display 9 out of 10\\n2- Camera 9.5 out of 10\\n3- Battery 7 out of 10\\n4- Performance 9.5 out of 10\\n5- Features & Functions 10 out of 10\\n6- Outer looks and colour 10 out of 10\\nRest i think i will understand after using this for few months.\\nI will highly recommend you guys if you have budget then you...\\nREAD MORE\", \"If you are looking for a premium phone under 55k, this is the one for you.Got the iPhone 11 during the Republic day sale. Performance is top notch in this price range. Camera's do a perfect job in taking good quality photos and videos. Battery backup too is satisfactory. Writing this review after using for a week. Any further observations would be updated.\", 'awesome Phone Smooth Touch Too good Sexyy looks one word Awesome', 'I bought iPhone 11 On March 2021, And I am Writing this review after using the phone for 4 Months. I would Say Everything is fine, Top Performance, Nice Camera as Anyone would Expect from any series of iPhone but when the Question comes to Battery it is complicated. The Battery is fully optimised and it comes 3110 mAh capacity but the problem is with the charger. Honestly Apple Removed charger from in Box items in the name of Environment and they are also forcing us to buy any 20W PD 3rd part...\\nREAD MORE', \"Just go for it.\\nThis phone is really amazing. I ordered it for my wife and we click photos on this thing which are better than dslr. I own OnePlus 6t but it's camera sucks. iPhone is really amazing when it comes to camera. It's worth spending 50k on this. Cons- only display is lcd. While using u don't feel it but if u compare with other phone then u can see difference quite easily.\\nChanging from Android to iphone is bit difficult coz most of things u don't know but I liked it. Some of the a...\\nREAD MORE\", 'Absolutely powerful gadget. Loved it’s look! Soo glassy and classy. I would definitely recommend this model of Apple. Only disappointed with the 5W charger, one should purchase an 18W adapter for fast charging. Though battery backup is great. Bought it in September 2020, reviewing after so long so I’m gonna put the genuine review here.✅', 'Thanks Flipkart For this amazing deal! I had a dream of owning a iphone since i had known about.\\nIm very happy with my purchase & it is totally worth it.\\nAmazing experience all over !!\\n\\nAnyone who’s thinking of buying it in 2021, i would simply say go for it without any second thoughts ❤️', 'Super and marvellous phone look very cute and nice sound. I love this phone i think white is good colur.Excellent camer 5*😍😘♥️♥️', 'Everything is perfect pictures come out so clearly and at first I wasn’t sure when I got it then when I started to use it and get the hang of it it was amazing!! I can’t wait to see what the next future phones will be like. The screen display on this bad boy are unbelievable they are so clear and never fail me. The performance is super cool there is a lot of cool features as well I like this phone because I feel that it is easy to use and one of my favorite things about this phone is the Face...\\nREAD MORE', 'A wort full value for money decision it’s . Simply go for it in 2021 its still a good decision . Awesome camera , Super smothered performance, Heck of build quality. And Most important it protects your privacy.', 'Here is the thing\\n\\nThe only reason why you should buy this phone is for the camera, iOS, and if you have headaches looking at AMOLED display.\\n\\nI’m not an avid gamer but watch a lot of movies on smartphone. However, my migraine attacks increased considerably after using AMOLED Smartphone. That’s why I made a calculated decision to buy iPhone 11. It has the best LCD display and the blacks, though not as natural as an AMOLED, is better than some of the other smartphones.\\n\\nAdding to this the ste...\\nREAD MORE']\n"
     ]
    }
   ],
   "source": [
    "# page9\n",
    "\n",
    "rtng_tags_p9=driver.find_elements_by_xpath(\"//div[@class='_3LWZlK _1BLPMq']\")\n",
    "\n",
    "revw_summ_tags_p9=driver.find_elements_by_xpath(\"//p[@class='_2-N8zT']\")\n",
    "\n",
    "full_revw_tags_p9=driver.find_elements_by_xpath(\"//div[@class='t-ZTKy']\")\n",
    "\n",
    "\n",
    "for i in rtng_tags_p9:\n",
    "    rtng9=i.text\n",
    "    ratings.append(rtng9)\n",
    "print(ratings)\n",
    "\n",
    "for i in revw_summ_tags_p9:\n",
    "    revw9=i.text\n",
    "    revw_summ.append(revw9)\n",
    "print(revw_summ)\n",
    "\n",
    "for i in full_revw_tags_p9:\n",
    "    summ9=i.text\n",
    "    full_revw.append(summ9)\n",
    "print(full_revw)"
   ]
  },
  {
   "cell_type": "code",
   "execution_count": 74,
   "id": "c6c76f6c",
   "metadata": {},
   "outputs": [],
   "source": [
    "page10 = driver.get('https://www.flipkart.com/apple-iphone-11-black-64-gb-includes-earpods-power-adapter/product-reviews/itm0f37c2240b217?pid=MOBFKCTSVZAXUHGR&lid=LSTMOBFKCTSVZAXUHGREPBFGI&marketplace=FLIPKART&page=10')\n",
    "page10"
   ]
  },
  {
   "cell_type": "code",
   "execution_count": 75,
   "id": "e586b8ed",
   "metadata": {},
   "outputs": [
    {
     "name": "stdout",
     "output_type": "stream",
     "text": [
      "['5', '5', '5', '5', '5', '5', '5', '4', '5', '5', '5', '5', '5', '5', '5', '5', '5', '5', '5', '5', '5', '5', '4', '5', '5', '5', '5', '5', '4', '5', '5', '5', '5', '5', '5', '5', '5', '4', '1', '5', '5', '5', '5', '5', '5', '5', '5', '4', '5', '5', '5', '5', '4', '5', '5', '5', '5', '5', '5', '5', '5', '1', '5', '5', '5', '4', '5', '5', '5', '4', '5', '5', '5', '4', '5', '1', '5', '5', '5', '5', '4', '5', '5', '5', '5', '5', '5', '5', '5', '5', '5', '4', '5', '5', '5', '5', '5', '5', '5', '3']\n",
      "['Brilliant', 'Simply awesome', 'Perfect product!', 'Worth every penny', 'Fabulous!', 'Best in the market!', 'Great product', 'Good choice', 'Worth every penny', 'Highly recommended', 'Highly recommended', 'Perfect product!', 'Perfect product!', 'Classy product', 'Worth every penny', 'Simply awesome', 'Perfect product!', 'Highly recommended', 'Worth every penny', 'Worth every penny', 'Terrific', 'Wonderful', 'Nice product', 'Perfect product!', 'Brilliant', 'Classy product', 'Must buy!', 'Wonderful', 'Good choice', 'Perfect product!', 'Terrific purchase', 'Simply awesome', 'Great product', 'Terrific purchase', 'Mind-blowing purchase', 'Excellent', 'Simply awesome', 'Good quality product', 'Very poor', 'Classy product', 'Perfect product!', 'Must buy!', 'Fabulous!', 'Mind-blowing purchase', 'Mind-blowing purchase', 'Wonderful', 'Great product', 'Very Good', 'Classy product', 'Perfect product!', 'Just wow!', 'Awesome', 'Pretty good', 'Terrific purchase', 'Awesome', 'Classy product', 'Brilliant', 'Terrific', 'Perfect product!', 'Awesome', 'Perfect product!', 'Very poor', 'Fabulous!', 'Excellent', 'Must buy!', 'Value-for-money', 'Best in the market!', 'Brilliant', 'Terrific purchase', 'Good quality product', 'Best in the market!', 'Perfect product!', 'Awesome', 'Value-for-money', 'Just wow!', 'Worthless', 'Super!', 'Classy product', 'Must buy!', 'Excellent', 'Nice product', 'Mind-blowing purchase', 'Terrific', 'Excellent', 'Mind-blowing purchase', 'Highly recommended', 'Wonderful', 'Fabulous!', 'Brilliant', 'Worth every penny', 'Worth every penny', 'Pretty good', 'Fabulous!', 'Mind-blowing purchase', 'Excellent', 'Super!', 'Just wow!', 'Terrific purchase', 'Awesome', 'Decent product']\n",
      "['The Best Phone for the Money\\n\\nThe iPhone 11 offers superb cameras, a more durable design and excellent battery life for an affordable price.\\n\\nCompelling ultra-wide camera\\nNew Night mode is excellent\\nLong battery life', 'Really satisfied with the Product I received... It’s totally genuine and the packaging was also really good so if ur planning to buy just go for it.', 'Amazing phone with great cameras and better battery which gives you the best performance. I just love the camera .', 'Previously I was using one plus 3t it was a great phone\\nAnd then I decided to upgrade I am stuck between Samsung s10 plus or iPhone 11\\nI have seen the specs and everything were good except the display it’s somewhere between 720-1080 and it’s not even an amoled it’s an LCD display\\nBut I decided to go with iPhone because I have never used an IOS device I have Been an android user from the past 9 years I ordered IPhone 11 (128gb) product red\\nMy experience after using 3 weeks\\n1. The delivery ...\\nREAD MORE', 'This is my first iOS phone. I am very happy with this product. Very much satisfied with this. I love this phone.', 'Great iPhone very snappy experience as apple kind. Upgraded from iPhone 7.\\nPros\\n-Camera top class\\n- Battery top performed\\n-Chipset no need to say as apple kind\\n-Security as you expect from apple\\n- Display super bright industry leading colour\\naccuracy and super responsive\\n-Build quality as expect from apple sturdy\\npremium durable beautiful stylish.\\n-Os most stable os in smartphone industry\\n\\nCons\\n-No 5G\\n-Display is not based on OLED technology\\n-Charger headphones and 1 apple stic...\\nREAD MORE', 'Amazing Powerful and Durable Gadget.\\n\\nI’m am very happy with the camera picture quality, Amazing face id unlocked in dark room, Strong battery with perfect screen size as you can carry easily in pocket. This is my third iPhone.\\n\\nI shifted from android Samsung Note series to iPhone because of the strong build quality and peace of mind for next 3-4 years.\\n\\nDon’t think to much just go for it and I suggest you to go for minimum 128gb variant or more 256gb.\\n\\nI’ve attached my puppy pics and no fi...\\nREAD MORE', 'So far it’s been an AMAZING experience coming back to iOS after nearly a decade but it’s not as versatile as android though phone is sturdy dropped it accidentally a couple of times and nothing happened fortunately camera is awesome', 'i11 is worthy to buy, too much happy with the product. Thank u flipkart I received the item on time..loved it..', 'iphone 11 is a very good phone to buy only if you can compromise for the display. The display on this is device is pretty good but you can get other options with better displays in this price segment.\\nIf you can survive with an HD+ LCD panel with thicker bezels and a notch up top then this is a very good phone for you.\\nCameras are awesome, battery backup excellent, great performance and a decent premium look. Good job Apple !', 'What a camera .....just awesome ..you can feel this iPhone just awesome . Good for gaming also ...try pubg in hd it’s just wow', 'It’s a must buy who is looking for an upgrade from previous generation of iPhones. If you are using XR then still you can hold on for sometime and upgrade to 2020 model else this phone is a must buy . Camera quality is amazing and wide angle is something to count upon. Performance wise it’s amazing and feels premium while holding in hand. So a big YES for this device. Go for 128 GB variant as the 4K videos will occupy lots of space and the storage can get over very quickly. Try to buy it with...\\nREAD MORE', 'Value for money❤️❤️\\nIts awesome mobile phone in the world ...\\nDisplay was very good and bright ..\\nTrust me freinds you r never regret after Buying..\\nJust go for it....\\nI love this phone and i switch to iphone x to 11', 'Totally in love with this ❤ the camera quality is amazing just love it 😘😘😘 itsss dammnnnnnn amazing... Must buy iPhone 11 this is my best experience ever ☀👌👌🧡🧡🧡🧡🧡 thanku apple ❤', 'Best budget Iphone till date ❤️ go for it guys without second thought. Let me explain you guys about Camera, Display, battery, and performance.\\n\\nCamera: at this price range there is no comparison of camera, you’ll love the picture quality as well as video quality. I am a Vlogger I wanted an iPhone with 4k video by front camera and I got this phone and I am more than happy 😃\\n\\nBattery: I use this phone roughly as I am active social media person and I have a youtube channel. so the battery ba...\\nREAD MORE', 'Excellent camera, good performance, no lag. The lcd display is also good.. but difference come when we watch movie in prime and Netflix, the colours are not vibrant.. as we see in amoled display.. and the charger in box is of 5 watts.. takes more than 3 hours to charge from 0 to 100.. so guys be prepare to buy 18 watts charger . Finally I am an android user, it was my first Iapple phone, I promise u guys the iOS is so smooth.. overall the phone is damn good.... close eyes to buy it.. thanks t...\\nREAD MORE', \"Iphone is just awesome.. battery backup is very very nice.. continuously for 10 hours we can use it.camera is just awesome.. display is just fab.i love it alot..i had to wait 15 days for it as i pre ordered it..overalll it's worth the price..these all images are clicked by my iPhone..and i love it.\", \"It's my first time to use iOS phone and I am loving my upgradation 😍😍 I love the color, I love the assebility of the phone....I need to learn more about its functionality, but as far as I have seen, it's quite easy and it has a lot of functions to work on, specially if you are a content writer or a blogger you get a lot of content creation platforms and they are really amazing.\\n\\nThis phone not only for good quality photography but a lot of other task too.😍💯\", 'It’s been almost a month since I have been using this phone. I upgraded from an iPhone 8. The main issue with my 8 was battery and this phone is just awesome when it comes to battery. It lasts a day and a half for me with my regular use , internet connected always with 4g\\nCan’t move forward without saying this. Battery of this phone is a life saver when I am traveling or at work when I don’t get the option to charge\\nCamera is superb. Front cam selfies and back cam photos are just awesome.\\n...\\nREAD MORE', 'Smooth like butter, camera like fantabulous, sound is crystal clear & its red color is damn attractive, i am just loving it. Must buy if you love photography.\\n\\nLucky to get it in sale, thank you Flipkart.', 'Really worth of money. i just love it. It is the best phone ever.', 'This is my first ever I phone. Before this I was using my google nexus 5. But moving from android to iOS is a great experience. It’s worth at this price. I will highly recommend it if you want to move to iOS. The best part of this phone is it’s camera and it’s battery life. This two things have won my heart. I loved it. Happy to have it in my hand. Still exploring its features. And can’t forget to mention Flipkart service. Very prompt service and fast delivery.', 'Awesome Phone. Slightly high price but worth. Better than iPhone XR.\\nCamera is superb and wide angle camera is very clear.\\n12MP selfie camera is also very good.\\nA13 Chip gives a very good and smooth performance.', 'Battery backup is extraordinary, camera is decent & performance offered by A13 bionic is awsome. The display is good in practical usage like the visibility of display is very good in direct sun light compare to pro models. Iam extremely satisfied for the money I spent.', 'I have migrated from OP 7pro... and trust me, iPhone 11 is totally worth it.. following are the reasons:-\\n1)there is ABSOLUTELY NO ISSUE WITH THE DISPLAY... its crisp, sharp and I found it to be much much better than OP7 pro. Netflix, Prime video all run crisply... you won’t miss a thing. True Tone works flawlessly...the display brightness is perfect. OP have not calibrated their screens properly.\\n2) iPhone 11 series have really good cameras... others have spoken in depth about them.\\n3) bat...\\nREAD MORE', 'Superb Product !!!\\nA big and worthy upgrade from mi 3S to iphone 11 .\\nTotally loved it !', 'It’s an amazing product from apple and the camera is simply superb. Phone is faster.Night shot is simply superb and detailing and colour differentiation from camera is an added advantage\\n\\nThis review I have written from iPhone 11 only and I am glad to say outside.\\n\\nCons wise if we see HD+ display only, no battery percentage indicator as in older iPhone 8.\\nNo assistive touch control button in it\\nNo oleophobic coating on back panel glass and finger prints are visible but since I bought mint gr...\\nREAD MORE', 'I just directly switch from iphone 6s to iphone 11 .The best premium smartphone I recommend to everyone. Excellent quality and colors the iphone have in 11 series.\\nCamera quality is just awesome and the major feel when we hold in our hands. The sound quality and volume is also higher then the previous models.\\nI will recommend to buy iphone 11 instead of pro models , there is nothing much difference as this model contains everything which fulfill our needs.\\n\\nOnly one thing that I dislike abo...\\nREAD MORE', 'Looking so good 👍 😍 super 👌 stylish 😎 phone\\nClean box 📦 good 👍 delivery 👌 fast delivery\\nOriginal box Original iphone 📱 👌 😍😍😍', 'After 1 month use I found camera quality best compared to my previous Samsung note 10+.Display not good as note 10 also charging too slow.Apple should add fast charger like 11 plus and pro.Best phone for daily use', 'Upgraded from iphone 6 to 11 best phone for iphone users battery is much better than other iphones camera is awesome love to use it.camera is so clear in night.', \"It's very high performances devise i am like the service of flipkart delevary very fast and packing very nice perfect phone\", 'Well you all know the specifications . One of a kind. Best iPhone till date. Many enhancements to the camera app with many options. Love the glass body with matte finish in the lens area on the back. Lovely colours to choose from. Best battery in an iPhone till date, enough to last more than a day in normal usage. I tested my iPhone 11 battery and lasted for than 24 hours after full charge still with 30% battery charge left. Watched movies for some time. Normal usage on calls, browsing, musi...\\nREAD MORE', 'The built quality is not very premium.\\nThe battery back is great .\\nThe LCD panel is not so sharp but the brightness level is very High .\\nCamera is super duper awesome.\\nThe red colour which people think is bright is actually very soothing and excellent colour to choose from .\\nThe A13 Bionic chip is really a flagship processor and can beat any phone which even has 12 gb ram .\\nCamera module is very great and looks very stylish.', 'This will help you more. See if you are planning to buy iPhone 11. I will say. Yes. But there are some plans I just want to disclose before you buy. 1) If you are an existing iPhone X/XS/XS Max/ XR user, better you guys do not think it to buy. You guys have more or less better gadget. 2) If you are an android user and planning to buy premium phone. I will suggest them to please buy iPhone instead of buying an Android. I bet you will never go back to android after using IOS. Now I want to shar...\\nREAD MORE', 'Amazing camera and feel super machine I am not describe my feeling but this is amazing Phone I am so lucky I have this', 'Really good actually this is my first apple product am using its really awesome performance wise excellent. Am really happy with this iphone11', 'it is very good at performance. Camera is best like before and very smooth response even in water. Don’t buy 12 mini buy iPhone 11 , it is far better than 12 mini believe me ! Have a nice day \\uf8ff ☺️', 'Reviewing again after 5 months. At the beginning the battery and performance was good but it degraded soon. Also I was facing heating issues. The mobile will heat up like a stove sometimes. You cannot even play Pubg even in low settings properly, performance is not a problem but heating is. Also if you play that game for 10 mins the brightness will be automatically down due to over heating even when the auto brightness is set to off. This will not be solved even if u manually increase the bri...\\nREAD MORE', 'We are on apple ecosystem for almost eight years now with couple of iPads and iPhones, including Xr.\\n\\nBought iPhone 11 as a gift to my daughter who loves it. We chose for a purple coloured one. Believe me it is gorgeous and towards the lighter shade. Dazzling and brilliant!\\n\\nThe phone is great and does excellent RAM management like any other Apple device.\\n\\nThe screen, though a LCD and lesser ppi as compared to other flagship phones of competitor brands, is a delight to watch with perfect re...\\nREAD MORE', 'It is just awesome mobile for this price from Apple,\\n\\nAfter 10 days review\\n\\nBattery enough for 1 day even 24*7 Internet will be on and mostly internet usage\\n\\nCamera is just awesome cool , android 64 MP is equal to this just 12 MP\\n\\nA13 Bionic chip will give more high performance without hanging\\n\\nAudio stereo speakers will give Dolby atoms sound with crystal clear\\n\\nVideo recording is like cinematic shots of every sec can be a 4K 60fps. Just awesome this phone\\niPhone 11 loved one', 'Best Apple iPhone that i have bought at a very reasonable price, camera quality is next level just awesome n of superior quality android phones not even close(RIP) to that and also battery is really good but packaging by Flipkart of iPhone was very poor of such a expensive product, firstly im bit worried about the quality of product if i purchased it through online how was the product but i think now this was mine best decision to bought it through Flipkart online because i got genuine Apple...\\nREAD MORE', \"I can say I'm damn impressed with iPhone 11. As they says iPhone 11 have the toughest glass ever in the smartphone which you'll find on the front and back and it's totally smooth. The fit and finish is full apple quality - there's no sense that any cheaping out has happened in the construction. Without saying it's camera features this review won't complete. The iPhone 11 has a dual camera system, consisting of a wide angle len's that's pretty much same as found on the iPhone XR last year, but...\\nREAD MORE\", 'Best Quality Product OF iPhone Series , Sound Quality & Camera quality is very awesome, Battery Life is very Sufficient for 24 hr Backup With Full Internet Access , I love this this Product too much , It is very fast & making me Very fast in all my daily Routine\\nHighlights;\\n1.Camera: 5 STAR\\n2.Video Recording: 5 star\\n3.Night mODE sHOOTING & Camera:4 star\\n4. Audio Quality: Awesome\\n5. Battery : 5 Star\\n6. Touch:5 Star\\n7. Processor: Very Fast\\nThe M...\\nREAD MORE', 'First thanks to Flipkart for this amazing deal and phone is outstanding. I upgraded from iPhone 7 and this is like very big upgrade. But the packaging was very basic I expected a good packaging as they only wrapped one layer of bubble wrap which I don’t think is enough to protect this expensive phone. And I recommend this phone and seller as well.\\n\\nAnd I’m posting this review after using it for 4 days.', 'Superfast delivery by Flipkart. Thanks.\\n\\n1. iPhone 11 is a pretty solid phone for the money you are paying.\\n2. All the bad reviews about the display is confusing. It’s not that bad.\\n3. I switched from a Oneplus 7t. I have no complaints about the display quality of iPhone. Yes, it’s not OLED, so, we are missing on the deep blacks. But that’s it. It is a very colour accurate display. Gets adequately bright and I could not find any pixelation.\\n4. Performance is one of the best, if not best, in ...\\nREAD MORE', \"Again back to apple iphone after a gap of 2-3 years. It's pleasure to use iOS and the quality product by Apple. Iphone 11 still works like a beast in 2021 also. It really capable of doing day to day usage as well as hard core gaming. Battery is awesome. I'm really too much satisfied with it. Apart fto the very gorgious IPS LCD (AMOLED will be better) everything is mind boggling. Iphone💕.\", 'impressive super phone and best in class camera ,sound and face unlock is super fast just see and phone is unlock and fast in daily apps use', 'Well while switching from android to iOS the first thing you need to be careful about is that you will loose all your whatsapp chat backups as both are different operating systems. Camera clarity is awesome and though being an lcd screen clarity and resolution is good. Battery backup is also good unlike previous gen iPhone. So far the experience is good will Padre after a few months of usage.\\n\\nP.S the black is more of a dark grey shade and not jet black', 'In love with this iphone great performance,camera ,battery everything. Go for it have a uncompareble battery backup, no doubts in iPhone camera here You can see the picture which is shot on my iPhone In love with this iphone great performance,camera ,battery everything. Go for it have a uncompareble battery backup, no doubts in iPhone camera here You can see the picture which is shot on my iPhone In love with this iphone great performance,camera ,battery everything. Go for it have a uncompare...\\nREAD MORE', 'Best in class. Battery backup is good especially when you play games like Pubg COD. But it is sort of heavy when you hold in hands. Portrait mode is best to click pictures. Stage light effect is awesome. Try to click photos outside in nature because photos inside home or room will not give you the quality in any phone even in DSLR.', 'Very excited to have this phone. This phone has the real power unlike the android phones having SD 855 . The battery life is very good and the camera quality is excellent as comapred to redmi and other phones except google pixel. I M enjoying every single bit of it. Would recommed only if you have the budget.', 'I was using Iphone 6s and also Oneplus 6t. Both mobiles were perfectly alright in Photos, gaming, and smooth interface . My 6s mobile getting battery issue. thought upgrade to 11. Really like this mobile of its Internal storage (compare to 6s) , camera and its touch feeling. Its a worth buying mobile for me.', 'Its Very awesome product working and good camera quality and all about best product and also flipkart is very great deal and offer nice price', 'I am using this phone for 5 days and its one of the best camera out there ❤️ the screen is not oled and i am coming from iphone xs so its little bit not up to the mark i would say\\nBut overall value for money💕😍the battery back up is far better than my iphone xs and its worth in my apple ecosystem💫❤️if u are an apple User and have the eco system then go for it❤️though i will be getting the new iphone but its pretty good💫', 'Best and amazing product.....phone looks so premium.... battary is also good as expected .... Wide angle camera is so addictive ...if you are a IOS lover....then this phone will be the best choice for you all!!💯🔥', 'Excellent camera and display touching very nice and smooth very improvement against iPhone XR and new processor is very fast', \"I got this beast today. And I must say the picture quality of its camera is awesome. Both the cameras works fine.\\n\\nAs for as the processing is concerned, it runs without any lag. You can play and do whatever you want without a glitch.\\n\\nThe battery runs for a day with medium and high workload.\\n\\nThe display is good and the speakers are working fine.\\n\\nThe earphones doesn't have any base and you can use it for calling mostly.\\n\\nThe charging time is approximately for 90 minutes for full charging...\\nREAD MORE\", 'Awesome purchase. Amazing phone with good battery backup. It’s a top notch device. White colour looks amazing. Phone has a few extra feature than iPhone XR. Overall, this is value for money', 'Always love the apple products, upgraded from old iPhone 6S plus to this after having my first baby. I just love to click baby’s photos with it. Overall I just love this phone. Battery back up is okay, sound quality is good. Haven’t tested yet waterproof yet. Only one thing I hate is apple could have given charger & headphones in box.', 'Value for money\\n5 star rating\\nExcellent camera\\nBattery backup full day in single charge.\\n\\nTougher and water resistant design, glossy back.\\nThe screen has excellent brightness and contrast.\\nApple A13 Bionic is the fastest smartphone chip on the planet.\\nExcellent battery life, fast charging support.\\nStereo speakers with great quality.', 'Please DONT buy from here,\\n\\nI purchased Apple iPhone 11. with an exchange of IPhone 7, the exchange did not go well, iPhone 7 had a small scratch out side screen which i could never identify till date, but the FLIPKART person could, so he reduced 50% from exchange rate. I decided not to trade in, but paid money.\\n\\niPhone 11 Detail Below\\n---------------------------------------------\\nIt came with no charging, then i have put for charging, it took lot of time for charging, the phone also showe...\\nREAD MORE', 'awesome phone to have. it has got many smart features apart from mind blowing looks, camera, display, battery and sound. have fallen in love with this phone. must buy phone if you have got enough money. thanks to flipkart and apple of course..', 'Its a fabulous mobile look awesome performance unbeaten camera like dslr battery good i think this is a beast of mobile', 'Dear friends... I want to share my experience with you about this amazing I phone 11....this is my first iPhone and special things about this mobile is it has great camera, battery backup and awesome display.... I mean everything is perfect.loved it 👍👍👍', \"Just got this iphone 11\\nAnd it is most powerful mobile phone I have used ever\\n\\nSo,go for it if you want a phone with best specification like camera,battery backup,display, A13 bionic chip\\n\\nThat's my review about this phone but yours can be differ from me....\", \"The best all rounder iphone. Flipkart is doing a great job. They're delivery services are blazing fast. I got delivery on the same day. Genuine Apple Product. Working great. Talking about review There's no need of review for iphones. They're simply the best.\", 'Amazing phone and on great deal I received with super fast delivery by Flipkart...', 'finally an iPhone with very nice battery backup. update from iPhone 7 and happy to have it. camera is not up to the mark in low light but overall a recommended phone if your budget allows 😀', \"I'm switching this phone to oppo reno 10x zoom\\nIt's really impressive\\nRarely I'm missing smooth display touch response like oppo reno but\\nI really loved it.\\nCamera really impressive\", 'Damn this phone is a blast . Upgraded from android to ios and is a duperb experience. Battery backup is top notch and display also pretty good', 'Worth the money’ starting first from its performance it beats out all phones , second the smoothness of camera is awesome, contrast ratio is much than expected. Price will not matter if u r a quality person, if not other phones are available with better discount', 'I dreamt about this day from a long time.... Getting an iPhone with my own money.... Super happy and worth spending every penny', \"I'm Really happy with the product\\nDelivery was fast as well\\n..it was a gift for my sister and she loved it so much.\", 'Great iphone.\\nI am writing this review after 2 months of usage.\\nCamera is excellent, especially the nightmode\\nDisplay perfect\\nBattery backup awesome\\nSound quality very good\\nOverall Apple gives you a perfect iphone in this range.\\nReally in love with iPhone 11', \"Phone is awesome no doubt. But Camera & Display is not great. Performance is mind blowing.\\nBut the phone is heating too much when charging or when you regularly used. It's experience after using 1 week. It's heating extrem when I play PUBG for 30 minutes.\\nGo for iPhone 11 pro or 12. Otherwise go for Android phone you will get much better phone in less price.\", 'Did an upgrade from 6s plus to iphone 11.\\nAo far the experience is well and good. Felt smoother than 6s plus. The camera quality is superb. Battery backup is descent. Not a heavy user, and gets power more than a day. Go for it if you need an alrounder iphone in a competitve price.', 'Gifted my man on his 30th birthday 🎂 He loves it.. Him happy so i am more than happy 😍😘❤️🥰', 'I rate this product 5* as it has got amazing user experience with the best performing A13 bionic processor. The screen responds and graphics rendering is top notch. With casual gaming and internet browsing, the battery lasts for approx. 1 day. Camera is very good. You will fall in love with the portrait mode. You can call me a loyal Apple customer or whatever but I won’t stop praising the products and overall experience. That user experience matters and is worth every penny you pay.\\n\\nBelow ar...\\nREAD MORE', \"It was amazing experience for me. Honestly i am using iPhone first time so I don't have that much past experience about that. But after using 7 days this mobile i want to give some honest feedback.\\n1- Display 9 out of 10\\n2- Camera 9.5 out of 10\\n3- Battery 7 out of 10\\n4- Performance 9.5 out of 10\\n5- Features & Functions 10 out of 10\\n6- Outer looks and colour 10 out of 10\\nRest i think i will understand after using this for few months.\\nI will highly recommend you guys if you have budget then you...\\nREAD MORE\", \"If you are looking for a premium phone under 55k, this is the one for you.Got the iPhone 11 during the Republic day sale. Performance is top notch in this price range. Camera's do a perfect job in taking good quality photos and videos. Battery backup too is satisfactory. Writing this review after using for a week. Any further observations would be updated.\", 'awesome Phone Smooth Touch Too good Sexyy looks one word Awesome', 'I bought iPhone 11 On March 2021, And I am Writing this review after using the phone for 4 Months. I would Say Everything is fine, Top Performance, Nice Camera as Anyone would Expect from any series of iPhone but when the Question comes to Battery it is complicated. The Battery is fully optimised and it comes 3110 mAh capacity but the problem is with the charger. Honestly Apple Removed charger from in Box items in the name of Environment and they are also forcing us to buy any 20W PD 3rd part...\\nREAD MORE', \"Just go for it.\\nThis phone is really amazing. I ordered it for my wife and we click photos on this thing which are better than dslr. I own OnePlus 6t but it's camera sucks. iPhone is really amazing when it comes to camera. It's worth spending 50k on this. Cons- only display is lcd. While using u don't feel it but if u compare with other phone then u can see difference quite easily.\\nChanging from Android to iphone is bit difficult coz most of things u don't know but I liked it. Some of the a...\\nREAD MORE\", 'Absolutely powerful gadget. Loved it’s look! Soo glassy and classy. I would definitely recommend this model of Apple. Only disappointed with the 5W charger, one should purchase an 18W adapter for fast charging. Though battery backup is great. Bought it in September 2020, reviewing after so long so I’m gonna put the genuine review here.✅', 'Thanks Flipkart For this amazing deal! I had a dream of owning a iphone since i had known about.\\nIm very happy with my purchase & it is totally worth it.\\nAmazing experience all over !!\\n\\nAnyone who’s thinking of buying it in 2021, i would simply say go for it without any second thoughts ❤️', 'Super and marvellous phone look very cute and nice sound. I love this phone i think white is good colur.Excellent camer 5*😍😘♥️♥️', 'Everything is perfect pictures come out so clearly and at first I wasn’t sure when I got it then when I started to use it and get the hang of it it was amazing!! I can’t wait to see what the next future phones will be like. The screen display on this bad boy are unbelievable they are so clear and never fail me. The performance is super cool there is a lot of cool features as well I like this phone because I feel that it is easy to use and one of my favorite things about this phone is the Face...\\nREAD MORE', 'A wort full value for money decision it’s . Simply go for it in 2021 its still a good decision . Awesome camera , Super smothered performance, Heck of build quality. And Most important it protects your privacy.', 'Here is the thing\\n\\nThe only reason why you should buy this phone is for the camera, iOS, and if you have headaches looking at AMOLED display.\\n\\nI’m not an avid gamer but watch a lot of movies on smartphone. However, my migraine attacks increased considerably after using AMOLED Smartphone. That’s why I made a calculated decision to buy iPhone 11. It has the best LCD display and the blacks, though not as natural as an AMOLED, is better than some of the other smartphones.\\n\\nAdding to this the ste...\\nREAD MORE', 'Undoubtedly Iphone 11 is the most successful model till now and its performance is extraordinary and the security features are very impressive, display is more vibrant sound quality Camera Quality 5*****, but Iphone should add accessories too and act like scrooge.', \"I've used this phone for over a month now and here are my takeaways.\\nI would like to first talk about the best things about this phone and then the cons of it.\\n\\nPros:\\nThis phone is a performance beast. It handles large games and applications effortlessly and you won't find any stutters or lags while playing graphic intensive games like pubg, cod , mortal kombat and asphalt.\\n\\nThis phone has only 4gb ram and yet the ram management is amazing, it can keep 3 heavy games in memory without reload...\\nREAD MORE\", 'I purchased the iPhone 11 a month back. I must say Apple has impressed me yet again . I have been an Apple user for past 5 years . The phone is power packed with amazing features . What impressed me the most was the battery backup the phone offers . Battery can easily run upto 1.5 days in single charge with moderate to\\nHeavy usage . If you’re looking for a value for money device , I don’t see any other phone in the price range which can match the iPhone 11 .\\nOne thing I didn’t like was that ...\\nREAD MORE', 'Excellent camera 📸 And Display touching very Nice And Smooth and very improvement against\\nI phone 11 and new processor is very fast', 'A perfect phone and a good battery super camera and the sound is dynamic overall the phone is perfect for upgrading from lower iPhone model to iPhone 11', 'This is my first ever iPhone.\\nAnd I truly don’t regret switching to IOS from my Android.\\n\\nIt is easily an alternative to a DSLR camera.\\nIf you’re obsessed with photos and videos, just don’t think twice or don’t compare to other androids(Samsung S10 lite or OnePlus 8/8T), as it’s far better from them in every field.\\nComparing will only make you confused.\\n\\nI am getting an average Screen on Time of around 10 hours with 30 percent left. I haven’t let my device discharged below 30 % as it aff...\\nREAD MORE', 'The ultimate performance\\nCamera is superb\\nThe battery backup also very good i never saw iphone gives this much of battery backup\\nIf any one wana buy iphone 11 definitely i will recommend this mobile\\nIt has the better battery and powerfull processer peak performance glorious camera and the display also 100% high quality lcd display if u had money for for 12 if u dont wana invest much money on that then go for iphone 11 it has maximum same specs only main difference between the 12 and 11 is...\\nREAD MORE', 'I use a Note10+ and have been using both iOS and Android devices.\\n\\nCamera has really good features and portraits are super good, better than Samsung flagship. Overall camera setup can still be enhanced and hopeful for better upgrades on software in next release\\n\\nOperating system is quite a breeze and user experience of daily usage is very high as compared to Android. I moved to iOS very swiftly in 2 days for all my office work from Note10+\\n\\nBattery holds up quite well with 4 hrs of call and ...\\nREAD MORE', 'The phone is completely good\\nAs far as camera Apple is king of it\\nAnd its a beast in performance\\nAnd the battery is pretty good too', 'Everything u ll like it when u use this iPhone. Simple changes only not many to lower models but it’s nice to use. Little heavy compared to previous models like 7,8']\n"
     ]
    }
   ],
   "source": [
    "# page10\n",
    "\n",
    "rtng_tags_p10=driver.find_elements_by_xpath(\"//div[@class='_3LWZlK _1BLPMq']\")\n",
    "\n",
    "revw_summ_tags_p10=driver.find_elements_by_xpath(\"//p[@class='_2-N8zT']\")\n",
    "\n",
    "full_revw_tags_p10=driver.find_elements_by_xpath(\"//div[@class='t-ZTKy']\")\n",
    "\n",
    "\n",
    "for i in rtng_tags_p10:\n",
    "    rtng10=i.text\n",
    "    ratings.append(rtng10)\n",
    "print(ratings)\n",
    "\n",
    "for i in revw_summ_tags_p10:\n",
    "    revw10=i.text\n",
    "    revw_summ.append(revw10)\n",
    "print(revw_summ)\n",
    "\n",
    "for i in full_revw_tags_p10:\n",
    "    summ10=i.text\n",
    "    full_revw.append(summ10)\n",
    "print(full_revw)"
   ]
  },
  {
   "cell_type": "code",
   "execution_count": 76,
   "id": "b961ef65",
   "metadata": {},
   "outputs": [
    {
     "name": "stdout",
     "output_type": "stream",
     "text": [
      "100 100 100\n"
     ]
    }
   ],
   "source": [
    "print(len(ratings),len(revw_summ),len(full_revw))"
   ]
  },
  {
   "cell_type": "code",
   "execution_count": 175,
   "id": "c0a0fa03",
   "metadata": {},
   "outputs": [],
   "source": [
    "#making the DataFrame"
   ]
  },
  {
   "cell_type": "code",
   "execution_count": 77,
   "id": "6a411bb5",
   "metadata": {},
   "outputs": [
    {
     "data": {
      "text/html": [
       "<div>\n",
       "<style scoped>\n",
       "    .dataframe tbody tr th:only-of-type {\n",
       "        vertical-align: middle;\n",
       "    }\n",
       "\n",
       "    .dataframe tbody tr th {\n",
       "        vertical-align: top;\n",
       "    }\n",
       "\n",
       "    .dataframe thead th {\n",
       "        text-align: right;\n",
       "    }\n",
       "</style>\n",
       "<table border=\"1\" class=\"dataframe\">\n",
       "  <thead>\n",
       "    <tr style=\"text-align: right;\">\n",
       "      <th></th>\n",
       "      <th>Ratings</th>\n",
       "      <th>Review_summary</th>\n",
       "      <th>Full_review</th>\n",
       "    </tr>\n",
       "  </thead>\n",
       "  <tbody>\n",
       "    <tr>\n",
       "      <th>0</th>\n",
       "      <td>5</td>\n",
       "      <td>Brilliant</td>\n",
       "      <td>The Best Phone for the Money\\n\\nThe iPhone 11 ...</td>\n",
       "    </tr>\n",
       "    <tr>\n",
       "      <th>1</th>\n",
       "      <td>5</td>\n",
       "      <td>Simply awesome</td>\n",
       "      <td>Really satisfied with the Product I received.....</td>\n",
       "    </tr>\n",
       "    <tr>\n",
       "      <th>2</th>\n",
       "      <td>5</td>\n",
       "      <td>Perfect product!</td>\n",
       "      <td>Amazing phone with great cameras and better ba...</td>\n",
       "    </tr>\n",
       "    <tr>\n",
       "      <th>3</th>\n",
       "      <td>5</td>\n",
       "      <td>Worth every penny</td>\n",
       "      <td>Previously I was using one plus 3t it was a gr...</td>\n",
       "    </tr>\n",
       "    <tr>\n",
       "      <th>4</th>\n",
       "      <td>5</td>\n",
       "      <td>Fabulous!</td>\n",
       "      <td>This is my first iOS phone. I am very happy wi...</td>\n",
       "    </tr>\n",
       "    <tr>\n",
       "      <th>...</th>\n",
       "      <td>...</td>\n",
       "      <td>...</td>\n",
       "      <td>...</td>\n",
       "    </tr>\n",
       "    <tr>\n",
       "      <th>95</th>\n",
       "      <td>5</td>\n",
       "      <td>Super!</td>\n",
       "      <td>This is my first ever iPhone.\\nAnd I truly don...</td>\n",
       "    </tr>\n",
       "    <tr>\n",
       "      <th>96</th>\n",
       "      <td>5</td>\n",
       "      <td>Just wow!</td>\n",
       "      <td>The ultimate performance\\nCamera is superb\\nTh...</td>\n",
       "    </tr>\n",
       "    <tr>\n",
       "      <th>97</th>\n",
       "      <td>5</td>\n",
       "      <td>Terrific purchase</td>\n",
       "      <td>I use a Note10+ and have been using both iOS a...</td>\n",
       "    </tr>\n",
       "    <tr>\n",
       "      <th>98</th>\n",
       "      <td>5</td>\n",
       "      <td>Awesome</td>\n",
       "      <td>The phone is completely good\\nAs far as camera...</td>\n",
       "    </tr>\n",
       "    <tr>\n",
       "      <th>99</th>\n",
       "      <td>3</td>\n",
       "      <td>Decent product</td>\n",
       "      <td>Everything u ll like it when u use this iPhone...</td>\n",
       "    </tr>\n",
       "  </tbody>\n",
       "</table>\n",
       "<p>100 rows × 3 columns</p>\n",
       "</div>"
      ],
      "text/plain": [
       "   Ratings     Review_summary  \\\n",
       "0        5          Brilliant   \n",
       "1        5     Simply awesome   \n",
       "2        5   Perfect product!   \n",
       "3        5  Worth every penny   \n",
       "4        5          Fabulous!   \n",
       "..     ...                ...   \n",
       "95       5             Super!   \n",
       "96       5          Just wow!   \n",
       "97       5  Terrific purchase   \n",
       "98       5            Awesome   \n",
       "99       3     Decent product   \n",
       "\n",
       "                                          Full_review  \n",
       "0   The Best Phone for the Money\\n\\nThe iPhone 11 ...  \n",
       "1   Really satisfied with the Product I received.....  \n",
       "2   Amazing phone with great cameras and better ba...  \n",
       "3   Previously I was using one plus 3t it was a gr...  \n",
       "4   This is my first iOS phone. I am very happy wi...  \n",
       "..                                                ...  \n",
       "95  This is my first ever iPhone.\\nAnd I truly don...  \n",
       "96  The ultimate performance\\nCamera is superb\\nTh...  \n",
       "97  I use a Note10+ and have been using both iOS a...  \n",
       "98  The phone is completely good\\nAs far as camera...  \n",
       "99  Everything u ll like it when u use this iPhone...  \n",
       "\n",
       "[100 rows x 3 columns]"
      ]
     },
     "execution_count": 77,
     "metadata": {},
     "output_type": "execute_result"
    }
   ],
   "source": [
    "Customer_Revws = pd.DataFrame({'Ratings':ratings, 'Review_summary':revw_summ, 'Full_review':full_revw})\n",
    "Customer_Revws"
   ]
  },
  {
   "cell_type": "code",
   "execution_count": null,
   "id": "82dca2a5",
   "metadata": {},
   "outputs": [],
   "source": []
  },
  {
   "cell_type": "code",
   "execution_count": null,
   "id": "372ff422",
   "metadata": {},
   "outputs": [],
   "source": []
  },
  {
   "cell_type": "markdown",
   "id": "231162ee",
   "metadata": {},
   "source": [
    "## Selenium Q6"
   ]
  },
  {
   "cell_type": "code",
   "execution_count": 174,
   "id": "85c9d002",
   "metadata": {},
   "outputs": [],
   "source": [
    "#opening the url with the help of webdriver"
   ]
  },
  {
   "cell_type": "code",
   "execution_count": 78,
   "id": "3a000576",
   "metadata": {},
   "outputs": [],
   "source": [
    "driver.get('https://www.flipkart.com/search?q=sneakers&otracker=search&otracker1=search&marketplace=FLIPKART&as-show=on&as=off')"
   ]
  },
  {
   "cell_type": "code",
   "execution_count": 79,
   "id": "90bf4a74",
   "metadata": {},
   "outputs": [],
   "source": [
    "brandsList = []\n",
    "productDesc = []\n",
    "priceList = []\n",
    "offList = []"
   ]
  },
  {
   "cell_type": "code",
   "execution_count": 80,
   "id": "68c5da62",
   "metadata": {
    "scrolled": true
   },
   "outputs": [
    {
     "data": {
      "text/plain": [
       "['55% off',\n",
       " '68% off',\n",
       " '75% off',\n",
       " '56% off',\n",
       " '75% off',\n",
       " '60% off',\n",
       " '77% off',\n",
       " '43% off',\n",
       " '63% off',\n",
       " '50% off',\n",
       " '60% off',\n",
       " '50% off',\n",
       " '50% off',\n",
       " '60% off',\n",
       " '13% off',\n",
       " '58% off',\n",
       " '47% off',\n",
       " '45% off',\n",
       " '61% off',\n",
       " '48% off',\n",
       " '50% off',\n",
       " '72% off',\n",
       " '60% off',\n",
       " '50% off',\n",
       " '76% off',\n",
       " '85% off',\n",
       " '65% off',\n",
       " '51% off',\n",
       " '66% off',\n",
       " '82% off',\n",
       " '62% off',\n",
       " '50% off',\n",
       " '54% off',\n",
       " '40% off',\n",
       " '50% off',\n",
       " '60% off',\n",
       " '50% off',\n",
       " '13% off',\n",
       " '50% off',\n",
       " '61% off']"
      ]
     },
     "execution_count": 80,
     "metadata": {},
     "output_type": "execute_result"
    }
   ],
   "source": [
    "# getting all the attributes of the product from page 1\n",
    "# first getting all the tags of the attributes from this page\n",
    "brandTags_page1 = driver.find_elements_by_xpath(\"//div[@class='_2WkVRV']\")\n",
    "priceTags_p1 = driver.find_elements_by_xpath(\"//div[@class='_30jeq3']\")\n",
    "offtags_p1 = driver.find_elements_by_xpath(\"//div[@class='_3Ay6Sb']\")\n",
    "\n",
    "\n",
    "for i in brandTags_page1:\n",
    "    btags1=i.text\n",
    "    brandsList.append(btags1)\n",
    "brandsList\n",
    "\n",
    "\n",
    "for i in priceTags_p1:\n",
    "    prce=i.text\n",
    "    priceList.append(prce)\n",
    "priceList\n",
    "\n",
    "\n",
    "for i in offtags_p1:\n",
    "    offs=i.text\n",
    "    offList.append(offs)\n",
    "offList"
   ]
  },
  {
   "cell_type": "code",
   "execution_count": 81,
   "id": "d17c58aa",
   "metadata": {
    "scrolled": true
   },
   "outputs": [
    {
     "data": {
      "text/plain": [
       "[\"Luxury Branded Fashionable Men's Casual Walking Partywe...\",\n",
       " 'Sneakers For Men',\n",
       " \"Original Luxury Branded Fashionable Men's Casual Walkin...\",\n",
       " 'Super Stylish & Trendy Combo Pack of 02 Pairs Sneakers ...',\n",
       " '411 Casual Sneakers For Men',\n",
       " 'Sneakers For Men',\n",
       " 'Sneakers Sneakers For Men',\n",
       " 'Stylish & Trendy Sneakers For Men',\n",
       " 'White Sneaker For Men Sneakers For Men',\n",
       " \"Original Luxury Branded Fashionable Men's Casual Walkin...\",\n",
       " 'Sneakers Sneakers For Men',\n",
       " 'Sneakers for men Sneakers For Men',\n",
       " 'Shark-41 Sneakers For Men',\n",
       " 'Casual Sneakers Shoes For Men Sneakers For Men',\n",
       " 'Men White Sneakers Sneakers For Men',\n",
       " \"Men's Sneakers Walking Shoes - New Designed Luxury Bran...\",\n",
       " \"Casual , Partywear Sneakers Shoes For Men's And Boys Wh...\",\n",
       " 'White Boots || High Tops || Sneakers For Men',\n",
       " 'Numenzo Black Sneaker For Men Sneakers For Men',\n",
       " 'Mesh Regular & Comfortable Casual Shoes Sneakers For Me...',\n",
       " 'Series 7 Sneakers For Men',\n",
       " 'Modern Trendy Shoes Sneakers For Men',\n",
       " 'Unique & Perfect Collection Combo Pack of 02 Shoes for ...',\n",
       " 'Sneakers for men Sneakers For Men',\n",
       " 'Combo Pack Of 2 Latest Stylish Casual Shoes for Men Lac...',\n",
       " 'Combo Pack Of 4 Casual Shoes Loafer Shoes Sneakers For ...',\n",
       " \"White Sneaker For Men's/Boy's Sneakers For Men\",\n",
       " 'Men Casual Shoes Sneakers For Men',\n",
       " 'Perfect & Affordable Combo Pack of 02 Pairs Sneakers Ou...',\n",
       " 'Fashionable casual sneakers shoes Sneakers For Men',\n",
       " 'Synthetic Leather Casual Partywear Wedding Sneakers Sho...',\n",
       " 'Sneakers For Men',\n",
       " 'Sneakers For Men',\n",
       " 'Sports Running Shoes Sneakers For Men',\n",
       " 'Sneakers For Men',\n",
       " 'Sneakers For Men',\n",
       " 'Sneakers For Men',\n",
       " 'Canvas Casual Partywear Outdoor Sneakers Shoes For Mens...',\n",
       " 'Sneakers For Men',\n",
       " 'Sneakers For Men']"
      ]
     },
     "execution_count": 81,
     "metadata": {},
     "output_type": "execute_result"
    }
   ],
   "source": [
    "prodTags_p1 = driver.find_elements_by_xpath(\"//div[@class='_2B099V']/a[1]\")\n",
    "\n",
    "for i in prodTags_p1:\n",
    "    prod=i.text\n",
    "    productDesc.append(prod)\n",
    "productDesc"
   ]
  },
  {
   "cell_type": "code",
   "execution_count": 82,
   "id": "14656ea4",
   "metadata": {},
   "outputs": [],
   "source": [
    "#getting on the page 2\n",
    "page2 = driver.get('https://www.flipkart.com/search?q=sneakers&otracker=search&otracker1=search&marketplace=FLIPKART&as-show=on&as=off&page=2')\n",
    "page2"
   ]
  },
  {
   "cell_type": "code",
   "execution_count": 173,
   "id": "6fb9b873",
   "metadata": {},
   "outputs": [],
   "source": [
    "#getting all the attributes from page2"
   ]
  },
  {
   "cell_type": "code",
   "execution_count": 83,
   "id": "a37334bc",
   "metadata": {
    "scrolled": true
   },
   "outputs": [
    {
     "name": "stdout",
     "output_type": "stream",
     "text": [
      "['tigonis', 'ALICON', 'ASTEROID', 'Chevit', 'Numenzo', 'Magnolia', 'URBANBOX', 'RapidBox', 'Numenzo', 'ASTEROID', 'SCATCHITE', 'CLARK STYLE', 'Kraasa', 'Robbie jones', 'SPARX', 'Echor', 'D-SNEAKERZ', 'FOOTGRAB', 'Numenzo', 'Jabra', 'Kraasa', 'BRUTON', 'Chevit', 'CLARK STYLE', 'BRUTON', 'BRUTON', 'Shoes Bank', 'BIRDE', 'Chevit', 'India hub', 'T-ROCK', 'Bonexy', 'Arohi', 'BIRDE', 'Robbie jones', 'Bonexy', 'Robbie jones', 'SPARX', 'Robbie jones', 'Alfiyo', 'VORII', 'Chevit', 'Airland', 'tigonis', 'SPARX', 'ESSENCE', 'BRUTON', 'ALICON', 'SneakerVilla', 'Labbin', 'Chevit', 'RapidBox', 'Edoeviv', 'D-SNEAKERZ', 'PEXLO', 'CLARK STYLE', 'SPADE CLUB', 'PUMA', 'HOTSTYLE', 'Echor', 'Clymb', 'Robbie jones', 'Kreverse', 'Jabra', 'Jack Diamond', 'Robbie jones', 'SPARX', 'CLARK STYLE', 'bluemaker', 'bluemaker', 'RODDICK SHOES', 'BIRDE', 'RODDICK SHOES', 'Echor', 'Echor', 'Bonexy', 'rodox', 'Numenzo', 'LuvShus', 'Bonexy']\n",
      "[\"Luxury Branded Fashionable Men's Casual Walking Partywe...\", 'Sneakers For Men', \"Original Luxury Branded Fashionable Men's Casual Walkin...\", 'Super Stylish & Trendy Combo Pack of 02 Pairs Sneakers ...', '411 Casual Sneakers For Men', 'Sneakers For Men', 'Sneakers Sneakers For Men', 'Stylish & Trendy Sneakers For Men', 'White Sneaker For Men Sneakers For Men', \"Original Luxury Branded Fashionable Men's Casual Walkin...\", 'Sneakers Sneakers For Men', 'Sneakers for men Sneakers For Men', 'Shark-41 Sneakers For Men', 'Casual Sneakers Shoes For Men Sneakers For Men', 'Men White Sneakers Sneakers For Men', \"Men's Sneakers Walking Shoes - New Designed Luxury Bran...\", \"Casual , Partywear Sneakers Shoes For Men's And Boys Wh...\", 'White Boots || High Tops || Sneakers For Men', 'Numenzo Black Sneaker For Men Sneakers For Men', 'Mesh Regular & Comfortable Casual Shoes Sneakers For Me...', 'Series 7 Sneakers For Men', 'Modern Trendy Shoes Sneakers For Men', 'Unique & Perfect Collection Combo Pack of 02 Shoes for ...', 'Sneakers for men Sneakers For Men', 'Combo Pack Of 2 Latest Stylish Casual Shoes for Men Lac...', 'Combo Pack Of 4 Casual Shoes Loafer Shoes Sneakers For ...', \"White Sneaker For Men's/Boy's Sneakers For Men\", 'Men Casual Shoes Sneakers For Men', 'Perfect & Affordable Combo Pack of 02 Pairs Sneakers Ou...', 'Fashionable casual sneakers shoes Sneakers For Men', 'Synthetic Leather Casual Partywear Wedding Sneakers Sho...', 'Sneakers For Men', 'Sneakers For Men', 'Sports Running Shoes Sneakers For Men', 'Sneakers For Men', 'Sneakers For Men', 'Sneakers For Men', 'Canvas Casual Partywear Outdoor Sneakers Shoes For Mens...', 'Sneakers For Men', 'Sneakers For Men', \"Men's Lace up Walking Shoes Running Shoes Lightweight B...\", 'Smart Casuals Canvas Shoes Combo pack of 2 Sneakers For...', 'sneaker men red 1258 - 6 Sneakers For Men', \"Luxury Branded Fashionable Men's Casual Walking Partywe...\", 'SM-322 Sneakers For Men', 'Sneakers For Men', 'Combo Pack of 2 Sports Running LightWeight Shoes Sneake...', 'Sneakers For Men', 'Present White Men Casual Sneakers Shoes for Men and Boy...', 'Casual Sneakers White Shoes For Men And Boys Sneakers F...', 'Affordable Combo Pack of 03 Pairs Sneakers Outdoor Loaf...', 'Stylish & Trendy Sneakers For Men', \"Luxury Branded Fashionable Men's Casual Walking Partywe...\", \"Casual , Partywear Sneakers Shoes For Men's And Boys Wh...\", \"Men's Casual Shoes Combo Pack of 02 Sneakers For Men\", 'Sneakers for men Sneakers For Men', 'Sneakers For Men', 'Puma Wired Cage Sneakers For Men', 'Sneakers For Men', \"Men's Sneakers Walking Shoes - New Designed Luxury Bran...\", 'Mesh Casual/Walking Shoes/Outdoor Ultra Lightweight Sne...', 'Casual Sneakers Shoes For Men And Boys Sneakers For Men', 'Sneakers For Men', 'Mesh Regular & Comfortable Casual Shoes Sneakers For Me...', 'Sneakers For Men', 'Casual Sneakers Green Shoes For Men And Boys Sneakers F...', 'SD-323 Sneakers For Men', 'Sneakers for men Sneakers For Men', 'casual for men (blue 06) Sneakers For Men', 'casual for men (beige 06) Sneakers For Men', 'Fashion Outdoor Canvas Casual Light Weight Lace-up Even...', 'Men Casual Shoes Sneakers For Men', 'Fashion Outdoor Canvas Casual Light Weight Lace-up Even...', \"Men's Sneakers Fashion Lightweight Running Shoes Tennis...\", \"Men's Sneakers Walking Shoes - Lightweight Classic Whit...\", 'Sneakers For Men', 'Sneakers Casual For Men Multy Sneakers For Men', 'Sneakers For Men', 'Men Casual Shoe New Trend With Fashion Panda Desgined L...', 'Sneakers For Men']\n",
      "['₹449', '₹472', '₹499', '₹699', '₹499', '₹398', '₹220', '₹560', '₹479', '₹499', '₹398', '₹499', '₹499', '₹399', '₹646', '₹699', '₹348', '₹549', '₹499', '₹259', '₹499', '₹359', '₹599', '₹499', '₹592', '₹588', '₹345', '₹299', '₹599', '₹449', '₹379', '₹499', '₹458', '₹299', '₹499', '₹399', '₹499', '₹646', '₹499', '₹497', '₹469', '₹399', '₹197', '₹449', '₹882', '₹449', '₹474', '₹472', '₹549', '₹399', '₹799', '₹560', '₹499', '₹384', '₹619', '₹499', '₹709', '₹1,719', '₹199', '₹699', '₹259', '₹499', '₹245', '₹259', '₹645', '₹499', '₹649', '₹499', '₹474', '₹474', '₹499', '₹299', '₹499', '₹499', '₹445', '₹499', '₹699', '₹499', '₹442', '₹399']\n",
      "['55% off', '68% off', '75% off', '56% off', '75% off', '60% off', '77% off', '43% off', '63% off', '50% off', '60% off', '50% off', '50% off', '60% off', '13% off', '58% off', '47% off', '45% off', '61% off', '48% off', '50% off', '72% off', '60% off', '50% off', '76% off', '85% off', '65% off', '51% off', '66% off', '82% off', '62% off', '50% off', '54% off', '40% off', '50% off', '60% off', '50% off', '13% off', '50% off', '61% off', '53% off', '60% off', '60% off', '55% off', '15% off', '55% off', '81% off', '68% off', '45% off', '60% off', '65% off', '43% off', '37% off', '61% off', '37% off', '50% off', '29% off', '50% off', '60% off', '58% off', '74% off', '50% off', '75% off', '48% off', '35% off', '50% off', '13% off', '50% off', '52% off', '52% off', '50% off', '51% off', '50% off', '50% off', '70% off', '50% off', '58% off', '75% off', '55% off', '60% off']\n"
     ]
    }
   ],
   "source": [
    "#page2\n",
    "\n",
    "brandTags_page2 = driver.find_elements_by_xpath(\"//div[@class='_2WkVRV']\")\n",
    "prodTags_p2 = driver.find_elements_by_xpath(\"//div[@class='_2B099V']/a[1]\")\n",
    "priceTags_p2 = driver.find_elements_by_xpath(\"//div[@class='_30jeq3']\")\n",
    "offtags_p2 = driver.find_elements_by_xpath(\"//div[@class='_3Ay6Sb']\")\n",
    "\n",
    "\n",
    "for i in brandTags_page2:\n",
    "    btags2=i.text\n",
    "    brandsList.append(btags2)\n",
    "print(brandsList)\n",
    "\n",
    "for i in prodTags_p2:\n",
    "    prod2=i.text\n",
    "    productDesc.append(prod2)\n",
    "print(productDesc)\n",
    "\n",
    "for i in priceTags_p2:\n",
    "    prce2=i.text\n",
    "    priceList.append(prce2)\n",
    "print(priceList)\n",
    "\n",
    "for i in offtags_p2:\n",
    "    offs2=i.text\n",
    "    offList.append(offs2)\n",
    "print(offList)"
   ]
  },
  {
   "cell_type": "code",
   "execution_count": 171,
   "id": "9953bf5a",
   "metadata": {},
   "outputs": [],
   "source": [
    "# getting on the page 3 with the help of webdriver"
   ]
  },
  {
   "cell_type": "code",
   "execution_count": 84,
   "id": "b06b2f10",
   "metadata": {},
   "outputs": [],
   "source": [
    "page3 = driver.get('https://www.flipkart.com/search?q=sneakers&otracker=search&otracker1=search&marketplace=FLIPKART&as-show=on&as=off&page=3')\n",
    "page3"
   ]
  },
  {
   "cell_type": "code",
   "execution_count": 172,
   "id": "4befc3bf",
   "metadata": {},
   "outputs": [],
   "source": [
    "# getting all the relevant attributes from page 3"
   ]
  },
  {
   "cell_type": "code",
   "execution_count": 85,
   "id": "a7789807",
   "metadata": {},
   "outputs": [
    {
     "data": {
      "text/plain": [
       "['55% off',\n",
       " '68% off',\n",
       " '75% off',\n",
       " '56% off',\n",
       " '75% off',\n",
       " '60% off',\n",
       " '77% off',\n",
       " '43% off',\n",
       " '63% off',\n",
       " '50% off',\n",
       " '60% off',\n",
       " '50% off',\n",
       " '50% off',\n",
       " '60% off',\n",
       " '13% off',\n",
       " '58% off',\n",
       " '47% off',\n",
       " '45% off',\n",
       " '61% off',\n",
       " '48% off',\n",
       " '50% off',\n",
       " '72% off',\n",
       " '60% off',\n",
       " '50% off',\n",
       " '76% off',\n",
       " '85% off',\n",
       " '65% off',\n",
       " '51% off',\n",
       " '66% off',\n",
       " '82% off',\n",
       " '62% off',\n",
       " '50% off',\n",
       " '54% off',\n",
       " '40% off',\n",
       " '50% off',\n",
       " '60% off',\n",
       " '50% off',\n",
       " '13% off',\n",
       " '50% off',\n",
       " '61% off',\n",
       " '53% off',\n",
       " '60% off',\n",
       " '60% off',\n",
       " '55% off',\n",
       " '15% off',\n",
       " '55% off',\n",
       " '81% off',\n",
       " '68% off',\n",
       " '45% off',\n",
       " '60% off',\n",
       " '65% off',\n",
       " '43% off',\n",
       " '37% off',\n",
       " '61% off',\n",
       " '37% off',\n",
       " '50% off',\n",
       " '29% off',\n",
       " '50% off',\n",
       " '60% off',\n",
       " '58% off',\n",
       " '74% off',\n",
       " '50% off',\n",
       " '75% off',\n",
       " '48% off',\n",
       " '35% off',\n",
       " '50% off',\n",
       " '13% off',\n",
       " '50% off',\n",
       " '52% off',\n",
       " '52% off',\n",
       " '50% off',\n",
       " '51% off',\n",
       " '50% off',\n",
       " '50% off',\n",
       " '70% off',\n",
       " '50% off',\n",
       " '58% off',\n",
       " '75% off',\n",
       " '55% off',\n",
       " '60% off',\n",
       " '75% off',\n",
       " '60% off',\n",
       " '83% off',\n",
       " '55% off',\n",
       " '58% off',\n",
       " '19% off',\n",
       " '57% off',\n",
       " '68% off',\n",
       " '40% off',\n",
       " '65% off',\n",
       " '57% off',\n",
       " '43% off',\n",
       " '70% off',\n",
       " '81% off',\n",
       " '69% off',\n",
       " '50% off',\n",
       " '73% off',\n",
       " '41% off',\n",
       " '40% off',\n",
       " '58% off',\n",
       " '57% off',\n",
       " '40% off',\n",
       " '66% off',\n",
       " '48% off',\n",
       " '56% off',\n",
       " '50% off',\n",
       " '55% off',\n",
       " '50% off',\n",
       " '60% off',\n",
       " '57% off',\n",
       " '55% off',\n",
       " '51% off',\n",
       " '70% off',\n",
       " '41% off',\n",
       " '50% off',\n",
       " '50% off',\n",
       " '52% off',\n",
       " '81% off',\n",
       " '65% off',\n",
       " '60% off']"
      ]
     },
     "execution_count": 85,
     "metadata": {},
     "output_type": "execute_result"
    }
   ],
   "source": [
    "brandTags_page3 = driver.find_elements_by_xpath(\"//div[@class='_2WkVRV']\")\n",
    "prodTags_p3 = driver.find_elements_by_xpath(\"//div[@class='_2B099V']/a[1]\")\n",
    "priceTags_p3 = driver.find_elements_by_xpath(\"//div[@class='_30jeq3']\")\n",
    "offtags_p3 = driver.find_elements_by_xpath(\"//div[@class='_3Ay6Sb']\")\n",
    "\n",
    "\n",
    "\n",
    "for i in brandTags_page3:\n",
    "    btags3=i.text\n",
    "    brandsList.append(btags3)\n",
    "brandsList\n",
    "\n",
    "for i in prodTags_p3:\n",
    "    prod3=i.text\n",
    "    productDesc.append(prod3)\n",
    "productDesc\n",
    "\n",
    "for i in priceTags_p3:\n",
    "    prce3=i.text\n",
    "    priceList.append(prce3)\n",
    "priceList\n",
    "\n",
    "for i in offtags_p3:\n",
    "    offs3=i.text\n",
    "    offList.append(offs3)\n",
    "offList"
   ]
  },
  {
   "cell_type": "code",
   "execution_count": 86,
   "id": "cf5157e3",
   "metadata": {},
   "outputs": [
    {
     "name": "stdout",
     "output_type": "stream",
     "text": [
      "120 120 120 120\n"
     ]
    }
   ],
   "source": [
    "print(len(brandsList), len(productDesc), len(priceList), len(offList))"
   ]
  },
  {
   "cell_type": "code",
   "execution_count": 87,
   "id": "f33071c5",
   "metadata": {},
   "outputs": [],
   "source": [
    "product = pd.DataFrame({})\n",
    "product['Brands']=brandsList[0:100]\n",
    "product['Product_descrition']=productDesc[0:100]\n",
    "product['Price']=priceList[0:100]\n",
    "product['Offs']=offList[0:100]"
   ]
  },
  {
   "cell_type": "code",
   "execution_count": 170,
   "id": "13875b44",
   "metadata": {},
   "outputs": [],
   "source": [
    "#Making the DataFrame"
   ]
  },
  {
   "cell_type": "code",
   "execution_count": 88,
   "id": "51d6881f",
   "metadata": {},
   "outputs": [
    {
     "data": {
      "text/html": [
       "<div>\n",
       "<style scoped>\n",
       "    .dataframe tbody tr th:only-of-type {\n",
       "        vertical-align: middle;\n",
       "    }\n",
       "\n",
       "    .dataframe tbody tr th {\n",
       "        vertical-align: top;\n",
       "    }\n",
       "\n",
       "    .dataframe thead th {\n",
       "        text-align: right;\n",
       "    }\n",
       "</style>\n",
       "<table border=\"1\" class=\"dataframe\">\n",
       "  <thead>\n",
       "    <tr style=\"text-align: right;\">\n",
       "      <th></th>\n",
       "      <th>Brands</th>\n",
       "      <th>Product_descrition</th>\n",
       "      <th>Price</th>\n",
       "      <th>Offs</th>\n",
       "    </tr>\n",
       "  </thead>\n",
       "  <tbody>\n",
       "    <tr>\n",
       "      <th>0</th>\n",
       "      <td>tigonis</td>\n",
       "      <td>Luxury Branded Fashionable Men's Casual Walkin...</td>\n",
       "      <td>₹449</td>\n",
       "      <td>55% off</td>\n",
       "    </tr>\n",
       "    <tr>\n",
       "      <th>1</th>\n",
       "      <td>ALICON</td>\n",
       "      <td>Sneakers For Men</td>\n",
       "      <td>₹472</td>\n",
       "      <td>68% off</td>\n",
       "    </tr>\n",
       "    <tr>\n",
       "      <th>2</th>\n",
       "      <td>ASTEROID</td>\n",
       "      <td>Original Luxury Branded Fashionable Men's Casu...</td>\n",
       "      <td>₹499</td>\n",
       "      <td>75% off</td>\n",
       "    </tr>\n",
       "    <tr>\n",
       "      <th>3</th>\n",
       "      <td>Chevit</td>\n",
       "      <td>Super Stylish &amp; Trendy Combo Pack of 02 Pairs ...</td>\n",
       "      <td>₹699</td>\n",
       "      <td>56% off</td>\n",
       "    </tr>\n",
       "    <tr>\n",
       "      <th>4</th>\n",
       "      <td>Numenzo</td>\n",
       "      <td>411 Casual Sneakers For Men</td>\n",
       "      <td>₹499</td>\n",
       "      <td>75% off</td>\n",
       "    </tr>\n",
       "    <tr>\n",
       "      <th>...</th>\n",
       "      <td>...</td>\n",
       "      <td>...</td>\n",
       "      <td>...</td>\n",
       "      <td>...</td>\n",
       "    </tr>\n",
       "    <tr>\n",
       "      <th>95</th>\n",
       "      <td>CLARK STYLE</td>\n",
       "      <td>Sneakers for men Sneakers For Men</td>\n",
       "      <td>₹499</td>\n",
       "      <td>50% off</td>\n",
       "    </tr>\n",
       "    <tr>\n",
       "      <th>96</th>\n",
       "      <td>Echor</td>\n",
       "      <td>Men's Canvas Low Top Sneakers Lace-up Classic ...</td>\n",
       "      <td>₹395</td>\n",
       "      <td>73% off</td>\n",
       "    </tr>\n",
       "    <tr>\n",
       "      <th>97</th>\n",
       "      <td>PUMA</td>\n",
       "      <td>Plank Eng Knit Slipon IDP Sneakers For Men</td>\n",
       "      <td>₹2,359</td>\n",
       "      <td>41% off</td>\n",
       "    </tr>\n",
       "    <tr>\n",
       "      <th>98</th>\n",
       "      <td>BIRDE</td>\n",
       "      <td>Trendy Casual Shoes Sneakers For Men</td>\n",
       "      <td>₹299</td>\n",
       "      <td>40% off</td>\n",
       "    </tr>\n",
       "    <tr>\n",
       "      <th>99</th>\n",
       "      <td>Echor</td>\n",
       "      <td>Men's Sneakers Walking Shoes - New Designed Lu...</td>\n",
       "      <td>₹699</td>\n",
       "      <td>58% off</td>\n",
       "    </tr>\n",
       "  </tbody>\n",
       "</table>\n",
       "<p>100 rows × 4 columns</p>\n",
       "</div>"
      ],
      "text/plain": [
       "         Brands                                 Product_descrition   Price  \\\n",
       "0       tigonis  Luxury Branded Fashionable Men's Casual Walkin...    ₹449   \n",
       "1        ALICON                                   Sneakers For Men    ₹472   \n",
       "2      ASTEROID  Original Luxury Branded Fashionable Men's Casu...    ₹499   \n",
       "3        Chevit  Super Stylish & Trendy Combo Pack of 02 Pairs ...    ₹699   \n",
       "4       Numenzo                        411 Casual Sneakers For Men    ₹499   \n",
       "..          ...                                                ...     ...   \n",
       "95  CLARK STYLE                  Sneakers for men Sneakers For Men    ₹499   \n",
       "96        Echor  Men's Canvas Low Top Sneakers Lace-up Classic ...    ₹395   \n",
       "97         PUMA         Plank Eng Knit Slipon IDP Sneakers For Men  ₹2,359   \n",
       "98        BIRDE               Trendy Casual Shoes Sneakers For Men    ₹299   \n",
       "99        Echor  Men's Sneakers Walking Shoes - New Designed Lu...    ₹699   \n",
       "\n",
       "       Offs  \n",
       "0   55% off  \n",
       "1   68% off  \n",
       "2   75% off  \n",
       "3   56% off  \n",
       "4   75% off  \n",
       "..      ...  \n",
       "95  50% off  \n",
       "96  73% off  \n",
       "97  41% off  \n",
       "98  40% off  \n",
       "99  58% off  \n",
       "\n",
       "[100 rows x 4 columns]"
      ]
     },
     "execution_count": 88,
     "metadata": {},
     "output_type": "execute_result"
    }
   ],
   "source": [
    "product"
   ]
  },
  {
   "cell_type": "code",
   "execution_count": null,
   "id": "7d4ace7d",
   "metadata": {},
   "outputs": [],
   "source": []
  },
  {
   "cell_type": "code",
   "execution_count": null,
   "id": "541d72c5",
   "metadata": {},
   "outputs": [],
   "source": []
  },
  {
   "cell_type": "markdown",
   "id": "c3002173",
   "metadata": {},
   "source": [
    "## Selenium Q7"
   ]
  },
  {
   "cell_type": "code",
   "execution_count": 89,
   "id": "4fd44d3a",
   "metadata": {},
   "outputs": [],
   "source": [
    "driver.get('https://www.myntra.com/shoes')"
   ]
  },
  {
   "cell_type": "code",
   "execution_count": 168,
   "id": "8ef18c2d",
   "metadata": {},
   "outputs": [],
   "source": [
    "#applying the price and color filter by using the relevant xpath"
   ]
  },
  {
   "cell_type": "code",
   "execution_count": 92,
   "id": "959d34cc",
   "metadata": {},
   "outputs": [],
   "source": [
    "clk_price_list = driver.find_element_by_xpath(\"//ul[@class='price-list']/li[2]\").click()"
   ]
  },
  {
   "cell_type": "code",
   "execution_count": 91,
   "id": "992439b3",
   "metadata": {},
   "outputs": [],
   "source": [
    "clk_color_fltr = driver.find_element_by_xpath(\"//li[@class='colour-listItem']/label\").click()"
   ]
  },
  {
   "cell_type": "code",
   "execution_count": 93,
   "id": "c2d7d31f",
   "metadata": {},
   "outputs": [],
   "source": [
    "brand_lst = []\n",
    "short_desc = []\n",
    "price_lst = []"
   ]
  },
  {
   "cell_type": "code",
   "execution_count": 94,
   "id": "fac5c428",
   "metadata": {},
   "outputs": [],
   "source": [
    "# page 1 \n",
    "\n",
    "brandtags_p1 = driver.find_elements_by_xpath(\"//h3[@class='product-brand']\")\n",
    "desc_tags_p1 = driver.find_elements_by_xpath(\"//h4[@class='product-product']\")\n",
    "price_tags_p1 = driver.find_elements_by_xpath(\"//div[@class='product-price']\")\n",
    "\n",
    "for i in brandtags_p1:\n",
    "    brands1=i.text\n",
    "    brand_lst.append(brands1)\n",
    "\n",
    "for i in desc_tags_p1:\n",
    "    desc1=i.text\n",
    "    short_desc.append(desc1)\n",
    "\n",
    "for i in price_tags_p1:\n",
    "    price1=i.text\n",
    "    price_lst.append(price1)"
   ]
  },
  {
   "cell_type": "code",
   "execution_count": 169,
   "id": "673bb5e6",
   "metadata": {},
   "outputs": [],
   "source": [
    "# getting on the page 2 of the url with the help of webdriver"
   ]
  },
  {
   "cell_type": "code",
   "execution_count": 95,
   "id": "9ac136bd",
   "metadata": {},
   "outputs": [],
   "source": [
    "page2 = driver.get('https://www.myntra.com/shoes?f=Color%3ABlack_36454f&p=2&rf=Price%3A7149.0_14099.0_7149.0%20TO%2014099.0%2C7187.0_14125.0_7187.0%20TO%2014125.0')\n",
    "page2"
   ]
  },
  {
   "cell_type": "code",
   "execution_count": 96,
   "id": "893168b8",
   "metadata": {},
   "outputs": [],
   "source": [
    "# page 2 \n",
    "\n",
    "brandtags_p2 = driver.find_elements_by_xpath(\"//h3[@class='product-brand']\")\n",
    "desc_tags_p2 = driver.find_elements_by_xpath(\"//h4[@class='product-product']\")\n",
    "price_tags_p2 = driver.find_elements_by_xpath(\"//div[@class='product-price']\")\n",
    "\n",
    "for i in brandtags_p2:\n",
    "    brands2=i.text\n",
    "    brand_lst.append(brands2)\n",
    "\n",
    "for i in desc_tags_p2:\n",
    "    desc2=i.text\n",
    "    short_desc.append(desc2)\n",
    "\n",
    "for i in price_tags_p2:\n",
    "    price2=i.text\n",
    "    price_lst.append(price2)"
   ]
  },
  {
   "cell_type": "code",
   "execution_count": 97,
   "id": "74d581a3",
   "metadata": {},
   "outputs": [
    {
     "name": "stdout",
     "output_type": "stream",
     "text": [
      "100 100 100\n"
     ]
    }
   ],
   "source": [
    "print(len(brand_lst), len(short_desc), len(price_lst))"
   ]
  },
  {
   "cell_type": "code",
   "execution_count": 167,
   "id": "fd5a40f8",
   "metadata": {},
   "outputs": [],
   "source": [
    "# making the DataFrame"
   ]
  },
  {
   "cell_type": "code",
   "execution_count": 98,
   "id": "40bebde1",
   "metadata": {},
   "outputs": [
    {
     "data": {
      "text/html": [
       "<div>\n",
       "<style scoped>\n",
       "    .dataframe tbody tr th:only-of-type {\n",
       "        vertical-align: middle;\n",
       "    }\n",
       "\n",
       "    .dataframe tbody tr th {\n",
       "        vertical-align: top;\n",
       "    }\n",
       "\n",
       "    .dataframe thead th {\n",
       "        text-align: right;\n",
       "    }\n",
       "</style>\n",
       "<table border=\"1\" class=\"dataframe\">\n",
       "  <thead>\n",
       "    <tr style=\"text-align: right;\">\n",
       "      <th></th>\n",
       "      <th>Brand_name</th>\n",
       "      <th>Short_Description_of_Product</th>\n",
       "      <th>Price</th>\n",
       "    </tr>\n",
       "  </thead>\n",
       "  <tbody>\n",
       "    <tr>\n",
       "      <th>0</th>\n",
       "      <td>Nike</td>\n",
       "      <td>AIR ZOOM PEGASUS Running Shoes</td>\n",
       "      <td>Rs. 9995</td>\n",
       "    </tr>\n",
       "    <tr>\n",
       "      <th>1</th>\n",
       "      <td>Nike</td>\n",
       "      <td>LEBRON WITNESS Basketball Shoe</td>\n",
       "      <td>Rs. 8295</td>\n",
       "    </tr>\n",
       "    <tr>\n",
       "      <th>2</th>\n",
       "      <td>Nike</td>\n",
       "      <td>Men Zoom Span 4 Running Shoes</td>\n",
       "      <td>Rs. 7195</td>\n",
       "    </tr>\n",
       "    <tr>\n",
       "      <th>3</th>\n",
       "      <td>Nike</td>\n",
       "      <td>Men ZOOM SPAN 4 Running Shoes</td>\n",
       "      <td>Rs. 7195</td>\n",
       "    </tr>\n",
       "    <tr>\n",
       "      <th>4</th>\n",
       "      <td>Nike</td>\n",
       "      <td>Air Zoom Pegasus 38 Shield Run</td>\n",
       "      <td>Rs. 11495</td>\n",
       "    </tr>\n",
       "    <tr>\n",
       "      <th>...</th>\n",
       "      <td>...</td>\n",
       "      <td>...</td>\n",
       "      <td>...</td>\n",
       "    </tr>\n",
       "    <tr>\n",
       "      <th>95</th>\n",
       "      <td>Ruosh</td>\n",
       "      <td>Men Solid Leather Formal Oxfords</td>\n",
       "      <td>Rs. 13490</td>\n",
       "    </tr>\n",
       "    <tr>\n",
       "      <th>96</th>\n",
       "      <td>Regal</td>\n",
       "      <td>Men Textured Leather Formal Oxfords</td>\n",
       "      <td>Rs. 8490</td>\n",
       "    </tr>\n",
       "    <tr>\n",
       "      <th>97</th>\n",
       "      <td>Puma</td>\n",
       "      <td>Men Magnify Nitro Running</td>\n",
       "      <td>Rs. 10399Rs. 12999(20% OFF)</td>\n",
       "    </tr>\n",
       "    <tr>\n",
       "      <th>98</th>\n",
       "      <td>Ruosh</td>\n",
       "      <td>Men Solid Leather Formal Monks</td>\n",
       "      <td>Rs. 8990</td>\n",
       "    </tr>\n",
       "    <tr>\n",
       "      <th>99</th>\n",
       "      <td>Puma</td>\n",
       "      <td>Men Electrify Nitro Running</td>\n",
       "      <td>Rs. 7999Rs. 9999(20% OFF)</td>\n",
       "    </tr>\n",
       "  </tbody>\n",
       "</table>\n",
       "<p>100 rows × 3 columns</p>\n",
       "</div>"
      ],
      "text/plain": [
       "   Brand_name         Short_Description_of_Product  \\\n",
       "0        Nike       AIR ZOOM PEGASUS Running Shoes   \n",
       "1        Nike       LEBRON WITNESS Basketball Shoe   \n",
       "2        Nike        Men Zoom Span 4 Running Shoes   \n",
       "3        Nike        Men ZOOM SPAN 4 Running Shoes   \n",
       "4        Nike       Air Zoom Pegasus 38 Shield Run   \n",
       "..        ...                                  ...   \n",
       "95      Ruosh     Men Solid Leather Formal Oxfords   \n",
       "96      Regal  Men Textured Leather Formal Oxfords   \n",
       "97       Puma            Men Magnify Nitro Running   \n",
       "98      Ruosh       Men Solid Leather Formal Monks   \n",
       "99       Puma          Men Electrify Nitro Running   \n",
       "\n",
       "                          Price  \n",
       "0                      Rs. 9995  \n",
       "1                      Rs. 8295  \n",
       "2                      Rs. 7195  \n",
       "3                      Rs. 7195  \n",
       "4                     Rs. 11495  \n",
       "..                          ...  \n",
       "95                    Rs. 13490  \n",
       "96                     Rs. 8490  \n",
       "97  Rs. 10399Rs. 12999(20% OFF)  \n",
       "98                     Rs. 8990  \n",
       "99    Rs. 7999Rs. 9999(20% OFF)  \n",
       "\n",
       "[100 rows x 3 columns]"
      ]
     },
     "execution_count": 98,
     "metadata": {},
     "output_type": "execute_result"
    }
   ],
   "source": [
    "product_data = pd.DataFrame({'Brand_name':brand_lst, 'Short_Description_of_Product':short_desc, 'Price':price_lst})\n",
    "product_data"
   ]
  },
  {
   "cell_type": "code",
   "execution_count": null,
   "id": "3425c201",
   "metadata": {},
   "outputs": [],
   "source": []
  },
  {
   "cell_type": "code",
   "execution_count": null,
   "id": "fb612f0a",
   "metadata": {},
   "outputs": [],
   "source": []
  },
  {
   "cell_type": "markdown",
   "id": "ef8fcf03",
   "metadata": {},
   "source": [
    "## Selenium Q8"
   ]
  },
  {
   "cell_type": "code",
   "execution_count": 165,
   "id": "488b9d28",
   "metadata": {},
   "outputs": [],
   "source": [
    "#getting the url with help of webdriver"
   ]
  },
  {
   "cell_type": "code",
   "execution_count": 99,
   "id": "ab35d0fb",
   "metadata": {},
   "outputs": [],
   "source": [
    "url = 'https://www.amazon.in/s?k=laptops&ref=nb_sb_noss_2'\n",
    "\n",
    "driver.get(url)"
   ]
  },
  {
   "cell_type": "code",
   "execution_count": 100,
   "id": "ec7b3abb",
   "metadata": {},
   "outputs": [],
   "source": [
    "#applying filters by clicking on it\n",
    "\n",
    "filtr_buttn_i7 = driver.find_element_by_xpath(\"//li[@id='p_n_feature_thirteen_browse-bin/12598163031']/span\").click()"
   ]
  },
  {
   "cell_type": "code",
   "execution_count": 101,
   "id": "72cdfd84",
   "metadata": {},
   "outputs": [],
   "source": [
    "filtr_buttn_i9 = driver.find_element_by_xpath(\"//li[@id='p_n_feature_thirteen_browse-bin/16757432031']/span\").click()"
   ]
  },
  {
   "cell_type": "code",
   "execution_count": 102,
   "id": "e549dc80",
   "metadata": {},
   "outputs": [],
   "source": [
    "titles = []\n",
    "ratings = []\n",
    "prices = []"
   ]
  },
  {
   "cell_type": "code",
   "execution_count": 103,
   "id": "4ca85015",
   "metadata": {
    "scrolled": true
   },
   "outputs": [
    {
     "data": {
      "text/plain": [
       "['ASUS ZenBook 14 (2020) Intel Core i7-1165G7 11th Gen 14-inch (35.56 cms) FHD Thin & Light Laptop (16GB/512GB SSD/Office 2019/Windows 10/Intel Iris Xᵉ Graphics/Pine Grey/1.17 kg), UX425EA-KI701TS',\n",
       " 'Lenovo Legion 5 11th Gen Intel Core i7 15.6\"(39.62cm) FHD IPS Gaming Laptop (16GB/512GB SSD/NVIDIA RTX 3050 4GB/120Hz Refresh Rate/Windows 10/MS Office/Backlit Keyboard/Phantom Blue/2.4Kg), 82JK007WIN',\n",
       " 'Microsoft Surface Laptop Studio - 14.4\" Touchscreen - Intel Core i7 - 32GB Memory - 2TB SSD - Platinum',\n",
       " 'HP Pavilion (2021) Intel 11th Gen Core i7 14 inches FHD Screen Thin & Light Laptop, 16 GB RAM, 1TB SSD, Iris Xe Graphics, Windows 10, MS Office, Backlit Keyboard, 1.41kg (14-dv0058TU)',\n",
       " 'Acer Nitro 5 11th Gen Intel Core i7-11800H 15.6\" (39.62cms) Full HD Gaming Laptop (16 GB/256GB SSD/1 TB HDD/Win 10/RTX 3050 Ti 4GB Graphics/144 Hz, Black, 2.4 kg/RGB Backlit Keyboard) AN515-57',\n",
       " 'Mi Notebook Horizon Edition 14 Intel Core i7-10510U 10th Gen Thin and Light Laptop(8GB/512GB SSD/Windows 10/Nvidia MX350 2GB Graphics/Grey/1.35Kg)(Without Webcam) XMA1904-AF',\n",
       " 'HP Pavilion x360 11th Gen Intel Core i7 14-inch(35.6 cm) Touchscreen 2-in-1 FHD Laptop (16GB/512GB SSD/Fingerprint Reader/Windows 10/MS Office/Natural Silver/1.41 Kg), 14-dy0050TU',\n",
       " 'ASUS TUF Dash F15 (2021) 15.6-inch (39.62 cms) FHD 144Hz, Intel Core i7-11370H 11th Gen, RTX 3050 4GB Graphics, Gaming Laptop (16GB/512GB SSD/Windows 10/Gray/2 Kg), FX516PCZ-HN091T',\n",
       " 'Dell Latitude E6430 14.1 Inch Business Laptop computer, Intel Dual Core i7-3520M 2.9Ghz Processor, 16GB RAM, 240GB SSD, DVD, Rj-45, HDMI, Windows 10 Professional (Renewed)',\n",
       " 'ASUS TUF Dash F15 15.6-inch FHD 144Hz, Intel Core i7-11370H 11th Gen RTX 3050 4GB Gaming Laptop (16GB RAM/512GB SSD/Win10/White/2 kg)+ Wireless Mouse + Microsoft 365 Personal 12-Month Subscription',\n",
       " '(Renewed) Dell Latitude Laptop E7470 Intel Core i7 - 6600u Processor 6th Gen, 8 GB Ram & 128 GB SSD, 14.1 Inches (Ultra Slim & Feather Light 1.54KG) Notebook Computer',\n",
       " 'ASUS TUF Gaming F15 (2021) 15.6-inch (39.62 cms) FHD 144Hz, Intel Core i7-11800H 11th Gen, RTX 3050 4GB Graphics, Gaming Laptop (8GB/1TB SSD/Windows 10/Gray/2.3 Kg), FX566HCB-HN231T, Eclipse Gray',\n",
       " 'Lenovo ThinkBook 13s Intel 11th Gen Core i7 13.3\"(33.78 cm) WQXGA IPS 300 nits 100% sRGB Dolby Vision Thin and Light Laptop (16GB/512GB SSD/Windows 10/MS Office/FPR/Mineral Grey/1.26 Kg), 20V9A05FIH',\n",
       " 'Dell 14 (2021) i7-1195G7 2in1 Touch Screen Laptop, 16GB, 512GB SSD, Win 10 + MS Office, 14.0\" (35.56 cms) FHD Display, Backlit KB, FPR + Active Pen, Platinum Silver (Inspiron 5410, D560596WIN9S)',\n",
       " 'ASUS ZenBook 13 OLED (2021) Intel Core i7-1165G7 11th Gen 14\" (35.56cms) FHD Thin and Light Laptop (16GB/512GB SSD/Windows 10/Office 2019/Intel Iris Xᵉ Graphics/Pine Grey/1.14 kg), UX325EA-KG722TS',\n",
       " 'LG Gram 17 Ultra-Light Intel Evo 11th Gen Core i7,16 GB RAM, 512 GB SSD, Win-10, Iris Xe Graphics, 17-inches (43.18 cms), Thunderbolt 4, USC -C x 2 (with Power), 1.35 kg, 3 Yr Warranty (17Z90P, Black)',\n",
       " '(Renewed) Dell Latitude Laptop E7470 Intel Core i7 - 6600u Processor 6th Gen, 8 GB Ram & 512 GB SSD, 14.1 Inches (Ultra Slim & Feather Light 1.54KG) Notebook Computer',\n",
       " 'ASUS TUF Dash F15 (2021), 15.6\" (39.62 cms) FHD 144Hz, Intel Core i7-11370H 11th Gen, RTX 3050 Ti 4GB Graphics, Gaming Laptop (16GB/1TB SSD/Office 2019/Windows 10/Eclipse Gray/2 kg), FX516PE-HN088TS',\n",
       " '(Renewed) Dell Latitude Laptop E7470 Intel Core i7 - 6600u Processor 6th Gen, 16 GB Ram & 128 GB SSD, 14.1 Inches (Ultra Slim & Feather Light 1.54KG) Notebook Computer',\n",
       " '(Renewed) Dell Latitude Touch Screen Laptop E7470 Intel Core i7 - 6600u Processor 6th Gen, 16 GB Ram & 2TB SSD, 14.1 Inches (Ultra Slim & Feather Light 1.54KG) Notebook Computer',\n",
       " 'ASUS TUF Dash F15 (2021) 15.6-inch (39.62 cms) FHD 144Hz, Intel Core i7-11370H 11th Gen, RTX 3050 Ti 4GB Graphics, Gaming Laptop (16GB/1TB SSD/Office 2019/Windows 10/Gray/2 Kg), FX516PEZ-HN105TS',\n",
       " 'ASUS TUF Dash F15 (2021) 15.6-inch (39.62 cms) FHD 144Hz, Intel Core i7-11370H 11th Gen, RTX 3060 6GB Graphics, Gaming Laptop (16GB/512GB SSD/Office 2019/Windows 10/Gray/2 Kg), FX516PM-HN175TS',\n",
       " 'Lenovo ThinkBook 15 Intel 11th Gen Core i7 15.6\"(39.62 cm)FHD IPS 300 nits Antiglare 100% sRGB Thin & Light Laptop(16GB/1TB HDD+128GB SSD/Windows 10/MS Office/3 Yr Onsite Warranty/1.7 Kg) 20VEA0HBIH',\n",
       " '(Renewed) Lenovo Thinkpad Hybrid Laptop T450s (Slim) Intel Core i7 - 5600u Processor, 12 GB Ram, 1TB Harddisk & 256 GB ssd, Windows 10 Pro, 14.1 Inches Notebook Computer',\n",
       " '(Renewed) Dell Latitude Touch Screen Laptop E7470 Intel Core i7 - 6600u Processor 6th Gen, 4 GB Ram & 256 GB SSD, 14.1 Inches (Ultra Slim & Feather Light 1.54KG) Notebook Computer',\n",
       " '(Renewed) Dell Latitude Laptop E7470 Intel Core i7 - 6600u Processor 6th Gen, 4 GB Ram & 512 GB SSD, 14.1 Inches (Ultra Slim & Feather Light 1.54KG) Notebook Computer',\n",
       " '(Renewed) Dell Latitude Laptop E7470 Intel Core i7 - 6600u Processor 6th Gen, 32 GB Ram & 256 GB SSD, 14.1 Inches (Ultra Slim & Feather Light 1.54KG) Notebook Computer',\n",
       " 'Lenovo ThinkBook Yoga 14s Intel Core i7 11th Gen 14\"(35.56cm) FHD IPS 300 nits 100% sRGB Dolby Vision 2-in-1 Touchscreen Laptop (16GB RAM/512GB SSD/Windows 10/MS Office/Active Pen/1.50 kg) 20WEA01EIH',\n",
       " 'Acer Nitro 5 11th Gen Intel Core i7-11800H 15.6-inch (39.62 cms) Full HD 144 Hz Gaming Laptop (8GB RAM/RTX 3050 Graphics/1TB HDD + 256GB SSD/W10H/Black/2.4 Kgs/RGB Backlit Keyboard), AN515-57',\n",
       " 'HP Envy Intel 11th Gen Core i7 Processor 13.3 inches FHD Touchscreen Gaming Laptop (16GB/1TB SSD/Windows 10/NVIDIA MX450 2GB/Natural Silver/1.3 kg), 13-ba1018TX']"
      ]
     },
     "execution_count": 103,
     "metadata": {},
     "output_type": "execute_result"
    }
   ],
   "source": [
    "title_tags = driver.find_elements_by_xpath(\"//h2[@class='a-size-mini a-spacing-none a-color-base s-line-clamp-2']\")\n",
    "title_tags\n",
    "\n",
    "for i in title_tags:\n",
    "    titl=i.text\n",
    "    titles.append(titl)\n",
    "titles"
   ]
  },
  {
   "cell_type": "code",
   "execution_count": 104,
   "id": "dcfccdf6",
   "metadata": {},
   "outputs": [],
   "source": [
    "titles = titles[0:10]"
   ]
  },
  {
   "cell_type": "code",
   "execution_count": 105,
   "id": "c3c33b6c",
   "metadata": {},
   "outputs": [
    {
     "data": {
      "text/plain": [
       "['4.7 out of 5']"
      ]
     },
     "execution_count": 105,
     "metadata": {},
     "output_type": "execute_result"
    }
   ],
   "source": [
    "# page 1 of the ratings for this product\n",
    "rating1_page=driver.get('https://www.amazon.in/ASUS-ZenBook-i7-1165G7-Graphics-UX425EA-KI701TS/dp/B0983W8HR4/ref=sr_1_1_sspa?keywords=laptops&qid=1636389107&refinements=p_n_feature_thirteen_browse-bin%3A12598163031%7C16757432031&rnid=12598141031&s=computers&sr=1-1-spons&psc=1&spLa=ZW5jcnlwdGVkUXVhbGlmaWVyPUFIN0YwQ0FMSTNKSEImZW5jcnlwdGVkSWQ9QTAzNDk3OTgyWE9CTkZGSEJIRUNKJmVuY3J5cHRlZEFkSWQ9QTA2MzEzNDAyVEM3QjBIV1RJQzJOJndpZGdldE5hbWU9c3BfYXRmJmFjdGlvbj1jbGlja1JlZGlyZWN0JmRvTm90TG9nQ2xpY2s9dHJ1ZQ==')\n",
    "\n",
    "#getting the tags from page1\n",
    "rating1_page\n",
    "rating_1 = driver.find_elements_by_xpath(\"//div[@class='a-fixed-left-grid AverageCustomerReviews a-spacing-small']\")\n",
    "\n",
    "for i in rating_1:\n",
    "    ratn1=i.text\n",
    "    ratings.append(ratn1)\n",
    "ratings"
   ]
  },
  {
   "cell_type": "code",
   "execution_count": 106,
   "id": "dda3ee0a",
   "metadata": {},
   "outputs": [
    {
     "data": {
      "text/plain": [
       "['4.7 out of 5', '4.2 out of 5']"
      ]
     },
     "execution_count": 106,
     "metadata": {},
     "output_type": "execute_result"
    }
   ],
   "source": [
    "# page 2 of the ratings of this product\n",
    "rating2_page = driver.get('https://www.amazon.in/ASUS-i7-1165G7-35-56cms-Graphics-UX325EA-KG722TS/dp/B095C5PFFD/ref=sr_1_2_sspa?keywords=laptops&qid=1636389107&refinements=p_n_feature_thirteen_browse-bin%3A12598163031%7C16757432031&rnid=12598141031&s=computers&sr=1-2-spons&spLa=ZW5jcnlwdGVkUXVhbGlmaWVyPUFIN0YwQ0FMSTNKSEImZW5jcnlwdGVkSWQ9QTAzNDk3OTgyWE9CTkZGSEJIRUNKJmVuY3J5cHRlZEFkSWQ9QTA2MzE3NDAyQzlEVFVPSkpOSlBYJndpZGdldE5hbWU9c3BfYXRmJmFjdGlvbj1jbGlja1JlZGlyZWN0JmRvTm90TG9nQ2xpY2s9dHJ1ZQ&th=1')\n",
    "rating2_page\n",
    "rating_2=driver.find_elements_by_xpath(\"//div[@class='a-fixed-left-grid AverageCustomerReviews a-spacing-small']\")\n",
    "\n",
    "for i in rating_2:\n",
    "    ratn2=i.text\n",
    "    ratings.append(ratn2)\n",
    "ratings"
   ]
  },
  {
   "cell_type": "code",
   "execution_count": 107,
   "id": "aa48ac9d",
   "metadata": {},
   "outputs": [
    {
     "data": {
      "text/plain": [
       "['4.7 out of 5',\n",
       " '4.2 out of 5',\n",
       " '3.7 out of 5',\n",
       " '4.2 out of 5',\n",
       " '3.8 out of 5',\n",
       " '4.2 out of 5',\n",
       " '3.5 out of 5',\n",
       " '3.8 out of 5',\n",
       " '3.7 out of 5',\n",
       " '3.8 out of 5']"
      ]
     },
     "execution_count": 107,
     "metadata": {},
     "output_type": "execute_result"
    }
   ],
   "source": [
    "#page 3\n",
    "rating3_page=driver.get('https://www.amazon.in/HP-db1069AU-15-6-inch-Windows-Graphics/dp/B083RD58F6/ref=sr_1_3?keywords=laptops&qid=1636389107&qsid=260-4496081-5268466&refinements=p_n_feature_thirteen_browse-bin%3A12598163031%7C16757432031&rnid=12598141031&s=computers&sr=1-3&sres=B083RD58F6%2CB08CKY5XX3%2CB08C5W6PL2%2CB08X4N3DW2%2CB08PQVMPKS%2CB09G9ZPV38%2CB09CMM1XBZ%2CB095YC5VH4%2CB09G9VXVD1%2CB09BRCKLLR%2CB09GV1X9L4%2CB0979MMPMY%2CB09DX9ML9D%2CB09H7HNLVX%2CB09L6ZKHY5%2CB09HKBR46P%2CB09D3B7NX9%2CB09FL5CK19%2CB08R777GBL%2CB095YC11CF&srpt=NOTEBOOK_COMPUTER')\n",
    "rating3_page\n",
    "rating_3=driver.find_elements_by_xpath(\"//div[@class='a-fixed-left-grid AverageCustomerReviews a-spacing-small']\")\n",
    "\n",
    "for i in rating_3:\n",
    "    ratn3=i.text\n",
    "    ratings.append(ratn3)\n",
    "ratings\n",
    "\n",
    "#page4\n",
    "rating4_page=driver.get('https://www.amazon.in/ASUS-VivoBook-Integrated-Transparent-X515MA-BR002T/dp/B08CKY5XX3/ref=sr_1_4?keywords=laptops&qid=1636389107&qsid=260-4496081-5268466&refinements=p_n_feature_thirteen_browse-bin%3A12598163031%7C16757432031&rnid=12598141031&s=computers&sr=1-4&sres=B083RD58F6%2CB08CKY5XX3%2CB08C5W6PL2%2CB08X4N3DW2%2CB08PQVMPKS%2CB09G9ZPV38%2CB09CMM1XBZ%2CB095YC5VH4%2CB09G9VXVD1%2CB09BRCKLLR%2CB09GV1X9L4%2CB0979MMPMY%2CB09DX9ML9D%2CB09H7HNLVX%2CB09L6ZKHY5%2CB09HKBR46P%2CB09D3B7NX9%2CB09FL5CK19%2CB08R777GBL%2CB095YC11CF&srpt=NOTEBOOK_COMPUTER')\n",
    "rating4_page\n",
    "rating_4=driver.find_elements_by_xpath(\"//div[@class='a-fixed-left-grid AverageCustomerReviews a-spacing-small']\")\n",
    "\n",
    "for i in rating_4:\n",
    "    ratn4=i.text\n",
    "    ratings.append(ratn4)\n",
    "ratings\n",
    "\n",
    "#page5\n",
    "rating5_page=driver.get('https://www.amazon.in/HP-Chromebook-14a-na0003TU-Touchscreen-Expandable/dp/B08C5W6PL2/ref=sr_1_5?keywords=laptops&qid=1636389107&qsid=260-4496081-5268466&refinements=p_n_feature_thirteen_browse-bin%3A12598163031%7C16757432031&rnid=12598141031&s=computers&sr=1-5&sres=B083RD58F6%2CB08CKY5XX3%2CB08C5W6PL2%2CB08X4N3DW2%2CB08PQVMPKS%2CB09G9ZPV38%2CB09CMM1XBZ%2CB095YC5VH4%2CB09G9VXVD1%2CB09BRCKLLR%2CB09GV1X9L4%2CB0979MMPMY%2CB09DX9ML9D%2CB09H7HNLVX%2CB09L6ZKHY5%2CB09HKBR46P%2CB09D3B7NX9%2CB09FL5CK19%2CB08R777GBL%2CB095YC11CF&srpt=NOTEBOOK_COMPUTER')\n",
    "rating5_page\n",
    "rating_5=driver.find_elements_by_xpath(\"//div[@class='a-fixed-left-grid AverageCustomerReviews a-spacing-small']\")\n",
    "\n",
    "for i in rating_5:\n",
    "    ratn5=i.text\n",
    "    ratings.append(ratn5)\n",
    "ratings\n",
    "\n",
    "\n",
    "#page6\n",
    "rating6_page=driver.get('https://www.amazon.in/Dell-Inspiron-Integrated-Graphics-D560427WIN9BE/dp/B08X4N3DW2/ref=sr_1_6?keywords=laptops&qid=1636389107&qsid=260-4496081-5268466&refinements=p_n_feature_thirteen_browse-bin%3A12598163031%7C16757432031&rnid=12598141031&s=computers&sr=1-6&sres=B083RD58F6%2CB08CKY5XX3%2CB08C5W6PL2%2CB08X4N3DW2%2CB08PQVMPKS%2CB09G9ZPV38%2CB09CMM1XBZ%2CB095YC5VH4%2CB09G9VXVD1%2CB09BRCKLLR%2CB09GV1X9L4%2CB0979MMPMY%2CB09DX9ML9D%2CB09H7HNLVX%2CB09L6ZKHY5%2CB09HKBR46P%2CB09D3B7NX9%2CB09FL5CK19%2CB08R777GBL%2CB095YC11CF&srpt=NOTEBOOK_COMPUTER')\n",
    "rating6_page\n",
    "rating_6=driver.find_elements_by_xpath(\"//div[@class='a-fixed-left-grid AverageCustomerReviews a-spacing-small']\")\n",
    "\n",
    "for i in rating_6:\n",
    "    ratn6=i.text\n",
    "    ratings.append(ratn6)\n",
    "ratings\n",
    "\n",
    "\n",
    "#page 7\n",
    "rating7_page=driver.get('https://www.amazon.in/ASUS-Pentium-Silver-N5030-Integrated-Transparent-X415MA-EK101T/dp/B08PQVMPKS/ref=sr_1_7?keywords=laptops&qid=1636389107&qsid=260-4496081-5268466&refinements=p_n_feature_thirteen_browse-bin%3A12598163031%7C16757432031&rnid=12598141031&s=computers&sr=1-7&sres=B083RD58F6%2CB08CKY5XX3%2CB08C5W6PL2%2CB08X4N3DW2%2CB08PQVMPKS%2CB09G9ZPV38%2CB09CMM1XBZ%2CB095YC5VH4%2CB09G9VXVD1%2CB09BRCKLLR%2CB09GV1X9L4%2CB0979MMPMY%2CB09DX9ML9D%2CB09H7HNLVX%2CB09L6ZKHY5%2CB09HKBR46P%2CB09D3B7NX9%2CB09FL5CK19%2CB08R777GBL%2CB095YC11CF&srpt=NOTEBOOK_COMPUTER')\n",
    "rating7_page\n",
    "rating_7=driver.find_elements_by_xpath(\"//div[@class='a-fixed-left-grid AverageCustomerReviews a-spacing-small']\")\n",
    "\n",
    "for i in rating_7:\n",
    "    ratn7=i.text\n",
    "    ratings.append(ratn7)\n",
    "ratings\n",
    "\n",
    "\n",
    "#page8\n",
    "rating8_page=driver.get('https://www.amazon.in/Lenovo-IdeaPad-Celeron-Platinum-81VT0071IN/dp/B09G9ZPV38/ref=sr_1_8?keywords=laptops&qid=1636389107&qsid=260-4496081-5268466&refinements=p_n_feature_thirteen_browse-bin%3A12598163031%7C16757432031&rnid=12598141031&s=computers&sr=1-8&sres=B083RD58F6%2CB08CKY5XX3%2CB08C5W6PL2%2CB08X4N3DW2%2CB08PQVMPKS%2CB09G9ZPV38%2CB09CMM1XBZ%2CB095YC5VH4%2CB09G9VXVD1%2CB09BRCKLLR%2CB09GV1X9L4%2CB0979MMPMY%2CB09DX9ML9D%2CB09H7HNLVX%2CB09L6ZKHY5%2CB09HKBR46P%2CB09D3B7NX9%2CB09FL5CK19%2CB08R777GBL%2CB095YC11CF&srpt=NOTEBOOK_COMPUTER')\n",
    "rating8_page\n",
    "rating_8=driver.find_elements_by_xpath(\"//div[@class='a-fixed-left-grid AverageCustomerReviews a-spacing-small']\")\n",
    "\n",
    "for i in rating_8:\n",
    "    ratn8=i.text\n",
    "    ratings.append(ratn8)\n",
    "ratings\n",
    "\n",
    "\n",
    "#page9\n",
    "rating9_page=driver.get('https://www.amazon.in/HP-Chromebook-14-inch-Touchscreen-14a-cb0007AU/dp/B09CMM1XBZ/ref=sr_1_9?keywords=laptops&qid=1636389107&qsid=260-4496081-5268466&refinements=p_n_feature_thirteen_browse-bin%3A12598163031%7C16757432031&rnid=12598141031&s=computers&sr=1-9&sres=B083RD58F6%2CB08CKY5XX3%2CB08C5W6PL2%2CB08X4N3DW2%2CB08PQVMPKS%2CB09G9ZPV38%2CB09CMM1XBZ%2CB095YC5VH4%2CB09G9VXVD1%2CB09BRCKLLR%2CB09GV1X9L4%2CB0979MMPMY%2CB09DX9ML9D%2CB09H7HNLVX%2CB09L6ZKHY5%2CB09HKBR46P%2CB09D3B7NX9%2CB09FL5CK19%2CB08R777GBL%2CB095YC11CF&srpt=NOTEBOOK_COMPUTER')\n",
    "rating9_page\n",
    "rating_9=driver.find_elements_by_xpath(\"//div[@class='a-fixed-left-grid AverageCustomerReviews a-spacing-small']\")\n",
    "\n",
    "for i in rating_9:\n",
    "    ratn9=i.text\n",
    "    ratings.append(ratn9)\n",
    "ratings\n",
    "\n",
    "\n",
    "#page10\n",
    "rating10_page=driver.get('https://www.amazon.in/HP-Laptop-Screen-Windows-15s-du1516TU/dp/B095YC5VH4/ref=sr_1_10?keywords=laptops&qid=1636389107&qsid=260-4496081-5268466&refinements=p_n_feature_thirteen_browse-bin%3A12598163031%7C16757432031&rnid=12598141031&s=computers&sr=1-10&sres=B083RD58F6%2CB08CKY5XX3%2CB08C5W6PL2%2CB08X4N3DW2%2CB08PQVMPKS%2CB09G9ZPV38%2CB09CMM1XBZ%2CB095YC5VH4%2CB09G9VXVD1%2CB09BRCKLLR%2CB09GV1X9L4%2CB0979MMPMY%2CB09DX9ML9D%2CB09H7HNLVX%2CB09L6ZKHY5%2CB09HKBR46P%2CB09D3B7NX9%2CB09FL5CK19%2CB08R777GBL%2CB095YC11CF&srpt=NOTEBOOK_COMPUTER')\n",
    "rating10_page\n",
    "rating_10=driver.find_elements_by_xpath(\"//div[@class='a-fixed-left-grid AverageCustomerReviews a-spacing-small']\")\n",
    "\n",
    "for i in rating_10:\n",
    "    ratn10=i.text\n",
    "    ratings.append(ratn10)\n",
    "ratings"
   ]
  },
  {
   "cell_type": "code",
   "execution_count": 110,
   "id": "0a3842e8",
   "metadata": {
    "scrolled": true
   },
   "outputs": [
    {
     "data": {
      "text/plain": [
       "['96,690',\n",
       " '1,04,990',\n",
       " '3,73,999',\n",
       " '84,990',\n",
       " '85,990',\n",
       " '58,990',\n",
       " '84,990',\n",
       " '93,990',\n",
       " '36,999',\n",
       " '85,590',\n",
       " '43,990',\n",
       " '99,990',\n",
       " '89,990',\n",
       " '88,490',\n",
       " '96,990',\n",
       " '1,06,057',\n",
       " '47,990',\n",
       " '95,990',\n",
       " '49,990',\n",
       " '63,990',\n",
       " '1,07,990',\n",
       " '1,09,990',\n",
       " '85,990',\n",
       " '39,990',\n",
       " '44,990',\n",
       " '44,990',\n",
       " '62,990',\n",
       " '97,990',\n",
       " '89,999',\n",
       " '1,25,000']"
      ]
     },
     "execution_count": 110,
     "metadata": {},
     "output_type": "execute_result"
    }
   ],
   "source": [
    "#getting the price tags of this product\n",
    "price_tags = driver.find_elements_by_xpath(\"//span[@class='a-price-whole']\")\n",
    "\n",
    "for i in price_tags:\n",
    "    prc=i.text\n",
    "    prices.append(prc)\n",
    "prices"
   ]
  },
  {
   "cell_type": "code",
   "execution_count": 111,
   "id": "e60fb4be",
   "metadata": {},
   "outputs": [],
   "source": [
    "prices=prices[0:10]"
   ]
  },
  {
   "cell_type": "code",
   "execution_count": 112,
   "id": "51f9772a",
   "metadata": {},
   "outputs": [
    {
     "name": "stdout",
     "output_type": "stream",
     "text": [
      "10 10 10\n"
     ]
    }
   ],
   "source": [
    "print(len(titles),len(ratings),len(prices))"
   ]
  },
  {
   "cell_type": "code",
   "execution_count": 166,
   "id": "2887dfa0",
   "metadata": {},
   "outputs": [],
   "source": [
    "#making the DataFrame"
   ]
  },
  {
   "cell_type": "code",
   "execution_count": 113,
   "id": "b76e2918",
   "metadata": {},
   "outputs": [
    {
     "data": {
      "text/html": [
       "<div>\n",
       "<style scoped>\n",
       "    .dataframe tbody tr th:only-of-type {\n",
       "        vertical-align: middle;\n",
       "    }\n",
       "\n",
       "    .dataframe tbody tr th {\n",
       "        vertical-align: top;\n",
       "    }\n",
       "\n",
       "    .dataframe thead th {\n",
       "        text-align: right;\n",
       "    }\n",
       "</style>\n",
       "<table border=\"1\" class=\"dataframe\">\n",
       "  <thead>\n",
       "    <tr style=\"text-align: right;\">\n",
       "      <th></th>\n",
       "      <th>Title</th>\n",
       "      <th>Rating</th>\n",
       "      <th>Price</th>\n",
       "    </tr>\n",
       "  </thead>\n",
       "  <tbody>\n",
       "    <tr>\n",
       "      <th>0</th>\n",
       "      <td>ASUS ZenBook 14 (2020) Intel Core i7-1165G7 11...</td>\n",
       "      <td>4.7 out of 5</td>\n",
       "      <td>96,690</td>\n",
       "    </tr>\n",
       "    <tr>\n",
       "      <th>1</th>\n",
       "      <td>Lenovo Legion 5 11th Gen Intel Core i7 15.6\"(3...</td>\n",
       "      <td>4.2 out of 5</td>\n",
       "      <td>1,04,990</td>\n",
       "    </tr>\n",
       "    <tr>\n",
       "      <th>2</th>\n",
       "      <td>Microsoft Surface Laptop Studio - 14.4\" Touchs...</td>\n",
       "      <td>3.7 out of 5</td>\n",
       "      <td>3,73,999</td>\n",
       "    </tr>\n",
       "    <tr>\n",
       "      <th>3</th>\n",
       "      <td>HP Pavilion (2021) Intel 11th Gen Core i7 14 i...</td>\n",
       "      <td>4.2 out of 5</td>\n",
       "      <td>84,990</td>\n",
       "    </tr>\n",
       "    <tr>\n",
       "      <th>4</th>\n",
       "      <td>Acer Nitro 5 11th Gen Intel Core i7-11800H 15....</td>\n",
       "      <td>3.8 out of 5</td>\n",
       "      <td>85,990</td>\n",
       "    </tr>\n",
       "    <tr>\n",
       "      <th>5</th>\n",
       "      <td>Mi Notebook Horizon Edition 14 Intel Core i7-1...</td>\n",
       "      <td>4.2 out of 5</td>\n",
       "      <td>58,990</td>\n",
       "    </tr>\n",
       "    <tr>\n",
       "      <th>6</th>\n",
       "      <td>HP Pavilion x360 11th Gen Intel Core i7 14-inc...</td>\n",
       "      <td>3.5 out of 5</td>\n",
       "      <td>84,990</td>\n",
       "    </tr>\n",
       "    <tr>\n",
       "      <th>7</th>\n",
       "      <td>ASUS TUF Dash F15 (2021) 15.6-inch (39.62 cms)...</td>\n",
       "      <td>3.8 out of 5</td>\n",
       "      <td>93,990</td>\n",
       "    </tr>\n",
       "    <tr>\n",
       "      <th>8</th>\n",
       "      <td>Dell Latitude E6430 14.1 Inch Business Laptop ...</td>\n",
       "      <td>3.7 out of 5</td>\n",
       "      <td>36,999</td>\n",
       "    </tr>\n",
       "    <tr>\n",
       "      <th>9</th>\n",
       "      <td>ASUS TUF Dash F15 15.6-inch FHD 144Hz, Intel C...</td>\n",
       "      <td>3.8 out of 5</td>\n",
       "      <td>85,590</td>\n",
       "    </tr>\n",
       "  </tbody>\n",
       "</table>\n",
       "</div>"
      ],
      "text/plain": [
       "                                               Title        Rating     Price\n",
       "0  ASUS ZenBook 14 (2020) Intel Core i7-1165G7 11...  4.7 out of 5    96,690\n",
       "1  Lenovo Legion 5 11th Gen Intel Core i7 15.6\"(3...  4.2 out of 5  1,04,990\n",
       "2  Microsoft Surface Laptop Studio - 14.4\" Touchs...  3.7 out of 5  3,73,999\n",
       "3  HP Pavilion (2021) Intel 11th Gen Core i7 14 i...  4.2 out of 5    84,990\n",
       "4  Acer Nitro 5 11th Gen Intel Core i7-11800H 15....  3.8 out of 5    85,990\n",
       "5  Mi Notebook Horizon Edition 14 Intel Core i7-1...  4.2 out of 5    58,990\n",
       "6  HP Pavilion x360 11th Gen Intel Core i7 14-inc...  3.5 out of 5    84,990\n",
       "7  ASUS TUF Dash F15 (2021) 15.6-inch (39.62 cms)...  3.8 out of 5    93,990\n",
       "8  Dell Latitude E6430 14.1 Inch Business Laptop ...  3.7 out of 5    36,999\n",
       "9  ASUS TUF Dash F15 15.6-inch FHD 144Hz, Intel C...  3.8 out of 5    85,590"
      ]
     },
     "execution_count": 113,
     "metadata": {},
     "output_type": "execute_result"
    }
   ],
   "source": [
    "Laptops = pd.DataFrame({'Title':titles, 'Rating':ratings, 'Price':prices})\n",
    "Laptops"
   ]
  },
  {
   "cell_type": "code",
   "execution_count": null,
   "id": "d3a7a267",
   "metadata": {},
   "outputs": [],
   "source": []
  },
  {
   "cell_type": "code",
   "execution_count": null,
   "id": "ae414ea7",
   "metadata": {},
   "outputs": [],
   "source": []
  },
  {
   "cell_type": "markdown",
   "id": "ac986e14",
   "metadata": {},
   "source": [
    "## Selenium Q9"
   ]
  },
  {
   "cell_type": "code",
   "execution_count": 161,
   "id": "a827c840",
   "metadata": {},
   "outputs": [],
   "source": [
    "#getting the url with the help of webdriver"
   ]
  },
  {
   "cell_type": "code",
   "execution_count": 114,
   "id": "7723776c",
   "metadata": {},
   "outputs": [],
   "source": [
    "url='https://www.ambitionbox.com/'\n",
    "\n",
    "driver.get(url)"
   ]
  },
  {
   "cell_type": "code",
   "execution_count": 162,
   "id": "e480ab94",
   "metadata": {},
   "outputs": [],
   "source": [
    "# clicking on jobs"
   ]
  },
  {
   "cell_type": "code",
   "execution_count": 115,
   "id": "0bdfd5c2",
   "metadata": {},
   "outputs": [],
   "source": [
    "clk_jobs = driver.find_element_by_xpath(\"//a[@title='Jobs']\").click()"
   ]
  },
  {
   "cell_type": "code",
   "execution_count": 163,
   "id": "7c6a1c6b",
   "metadata": {},
   "outputs": [],
   "source": [
    "# searching the given designation in the search box with the help of xpath"
   ]
  },
  {
   "cell_type": "code",
   "execution_count": 116,
   "id": "dc876647",
   "metadata": {},
   "outputs": [],
   "source": [
    "srch_job = driver.find_element_by_xpath(\"//input[@placeholder='Search by Designations, Companies, Skills']\")\n",
    "srch_job.send_keys(\"Data Scientist\")"
   ]
  },
  {
   "cell_type": "code",
   "execution_count": 117,
   "id": "a522eef7",
   "metadata": {},
   "outputs": [],
   "source": [
    "srch_buttn = driver.find_element_by_xpath(\"//button[@class='ab_btn search-btn round']\")\n",
    "srch_buttn.click()"
   ]
  },
  {
   "cell_type": "code",
   "execution_count": 164,
   "id": "05c5bf8f",
   "metadata": {},
   "outputs": [],
   "source": [
    "#getting the job location"
   ]
  },
  {
   "cell_type": "code",
   "execution_count": 120,
   "id": "f262cca3",
   "metadata": {},
   "outputs": [],
   "source": [
    "job_location = driver.find_element_by_xpath(\"//label[@for='location_Noida']\")\n",
    "job_location.click()"
   ]
  },
  {
   "cell_type": "code",
   "execution_count": 121,
   "id": "ec709f6f",
   "metadata": {},
   "outputs": [],
   "source": [
    "company_names=[]\n",
    "post_days=[]\n",
    "ratings=[]"
   ]
  },
  {
   "cell_type": "code",
   "execution_count": 122,
   "id": "2d865639",
   "metadata": {},
   "outputs": [
    {
     "data": {
      "text/plain": [
       "[' · ',\n",
       " 'Optum Global Solutions (India) Private Limited',\n",
       " 'Ameriprise Financial',\n",
       " 'Optum Global Solutions (India) Private Limited',\n",
       " 'Steria India Ltd',\n",
       " 'Steria India Ltd',\n",
       " 'Optum Global Solutions (India) Private Limited',\n",
       " 'HCL Technologies Limited',\n",
       " 'GI Group',\n",
       " 'GI Group',\n",
       " 'IBM India Pvt. Limited']"
      ]
     },
     "execution_count": 122,
     "metadata": {},
     "output_type": "execute_result"
    }
   ],
   "source": [
    "company_tags=driver.find_elements_by_xpath(\"//div[@class='company-info']/p\")\n",
    "\n",
    "for i in company_tags:\n",
    "    comp=i.text\n",
    "    company_names.append(comp)\n",
    "company_names"
   ]
  },
  {
   "cell_type": "code",
   "execution_count": 123,
   "id": "62988d54",
   "metadata": {},
   "outputs": [],
   "source": [
    "company_names=company_names[1:]"
   ]
  },
  {
   "cell_type": "code",
   "execution_count": 160,
   "id": "98a2ea18",
   "metadata": {},
   "outputs": [],
   "source": [
    "#getting the post tags"
   ]
  },
  {
   "cell_type": "code",
   "execution_count": 126,
   "id": "5ef07d27",
   "metadata": {},
   "outputs": [
    {
     "data": {
      "text/plain": [
       "['5d ago',\n",
       " 'via naukri.com',\n",
       " '7hr ago',\n",
       " 'via naukri.com',\n",
       " '27d ago',\n",
       " 'via naukri.com',\n",
       " '17d ago',\n",
       " 'via naukri.com',\n",
       " '17d ago',\n",
       " 'via naukri.com',\n",
       " '1mon ago',\n",
       " 'via naukri.com',\n",
       " '28d ago',\n",
       " 'via naukri.com',\n",
       " '8hr ago',\n",
       " 'via iimjobs.com',\n",
       " '2d ago',\n",
       " 'via iimjobs.com',\n",
       " '1mon ago',\n",
       " 'via naukri.com']"
      ]
     },
     "execution_count": 126,
     "metadata": {},
     "output_type": "execute_result"
    }
   ],
   "source": [
    "post_tags=driver.find_elements_by_xpath(\"//span[@class='body-small-l']\")\n",
    "\n",
    "for i in post_tags:\n",
    "    post=i.text\n",
    "    post_days.append(post)\n",
    "post_days"
   ]
  },
  {
   "cell_type": "code",
   "execution_count": 159,
   "id": "bfe17eec",
   "metadata": {},
   "outputs": [],
   "source": [
    "#slicing out the values and creating the list with appropriate values"
   ]
  },
  {
   "cell_type": "code",
   "execution_count": 127,
   "id": "4c65a05c",
   "metadata": {},
   "outputs": [],
   "source": [
    "post_days = post_days[0::2]"
   ]
  },
  {
   "cell_type": "code",
   "execution_count": 158,
   "id": "9f90a119",
   "metadata": {},
   "outputs": [],
   "source": [
    "#getting all the ratings"
   ]
  },
  {
   "cell_type": "code",
   "execution_count": 128,
   "id": "f25efbcd",
   "metadata": {},
   "outputs": [
    {
     "data": {
      "text/plain": [
       "['4.1', '4.1', '4.1', '4.1', '4.1', '4.1', '3.8', '3.9', '3.9', '4.1']"
      ]
     },
     "execution_count": 128,
     "metadata": {},
     "output_type": "execute_result"
    }
   ],
   "source": [
    "rating_tags = driver.find_elements_by_xpath(\"//span[@class='body-small']\")\n",
    "\n",
    "for i in rating_tags:\n",
    "    ratn=i.text\n",
    "    ratings.append(ratn)\n",
    "ratings"
   ]
  },
  {
   "cell_type": "code",
   "execution_count": 129,
   "id": "2b202ab3",
   "metadata": {},
   "outputs": [
    {
     "name": "stdout",
     "output_type": "stream",
     "text": [
      "10 10 10\n"
     ]
    }
   ],
   "source": [
    "print(len(company_names),len(post_days),len(ratings))"
   ]
  },
  {
   "cell_type": "code",
   "execution_count": 157,
   "id": "13c84249",
   "metadata": {},
   "outputs": [],
   "source": [
    "#Making the DataFrame"
   ]
  },
  {
   "cell_type": "code",
   "execution_count": 130,
   "id": "e73de10b",
   "metadata": {},
   "outputs": [
    {
     "data": {
      "text/html": [
       "<div>\n",
       "<style scoped>\n",
       "    .dataframe tbody tr th:only-of-type {\n",
       "        vertical-align: middle;\n",
       "    }\n",
       "\n",
       "    .dataframe tbody tr th {\n",
       "        vertical-align: top;\n",
       "    }\n",
       "\n",
       "    .dataframe thead th {\n",
       "        text-align: right;\n",
       "    }\n",
       "</style>\n",
       "<table border=\"1\" class=\"dataframe\">\n",
       "  <thead>\n",
       "    <tr style=\"text-align: right;\">\n",
       "      <th></th>\n",
       "      <th>Company_name</th>\n",
       "      <th>Job_posted</th>\n",
       "      <th>Company_ratings</th>\n",
       "    </tr>\n",
       "  </thead>\n",
       "  <tbody>\n",
       "    <tr>\n",
       "      <th>0</th>\n",
       "      <td>Optum Global Solutions (India) Private Limited</td>\n",
       "      <td>5d ago</td>\n",
       "      <td>4.1</td>\n",
       "    </tr>\n",
       "    <tr>\n",
       "      <th>1</th>\n",
       "      <td>Ameriprise Financial</td>\n",
       "      <td>7hr ago</td>\n",
       "      <td>4.1</td>\n",
       "    </tr>\n",
       "    <tr>\n",
       "      <th>2</th>\n",
       "      <td>Optum Global Solutions (India) Private Limited</td>\n",
       "      <td>27d ago</td>\n",
       "      <td>4.1</td>\n",
       "    </tr>\n",
       "    <tr>\n",
       "      <th>3</th>\n",
       "      <td>Steria India Ltd</td>\n",
       "      <td>17d ago</td>\n",
       "      <td>4.1</td>\n",
       "    </tr>\n",
       "    <tr>\n",
       "      <th>4</th>\n",
       "      <td>Steria India Ltd</td>\n",
       "      <td>17d ago</td>\n",
       "      <td>4.1</td>\n",
       "    </tr>\n",
       "    <tr>\n",
       "      <th>5</th>\n",
       "      <td>Optum Global Solutions (India) Private Limited</td>\n",
       "      <td>1mon ago</td>\n",
       "      <td>4.1</td>\n",
       "    </tr>\n",
       "    <tr>\n",
       "      <th>6</th>\n",
       "      <td>HCL Technologies Limited</td>\n",
       "      <td>28d ago</td>\n",
       "      <td>3.8</td>\n",
       "    </tr>\n",
       "    <tr>\n",
       "      <th>7</th>\n",
       "      <td>GI Group</td>\n",
       "      <td>8hr ago</td>\n",
       "      <td>3.9</td>\n",
       "    </tr>\n",
       "    <tr>\n",
       "      <th>8</th>\n",
       "      <td>GI Group</td>\n",
       "      <td>2d ago</td>\n",
       "      <td>3.9</td>\n",
       "    </tr>\n",
       "    <tr>\n",
       "      <th>9</th>\n",
       "      <td>IBM India Pvt. Limited</td>\n",
       "      <td>1mon ago</td>\n",
       "      <td>4.1</td>\n",
       "    </tr>\n",
       "  </tbody>\n",
       "</table>\n",
       "</div>"
      ],
      "text/plain": [
       "                                     Company_name Job_posted Company_ratings\n",
       "0  Optum Global Solutions (India) Private Limited     5d ago             4.1\n",
       "1                            Ameriprise Financial    7hr ago             4.1\n",
       "2  Optum Global Solutions (India) Private Limited    27d ago             4.1\n",
       "3                                Steria India Ltd    17d ago             4.1\n",
       "4                                Steria India Ltd    17d ago             4.1\n",
       "5  Optum Global Solutions (India) Private Limited   1mon ago             4.1\n",
       "6                        HCL Technologies Limited    28d ago             3.8\n",
       "7                                        GI Group    8hr ago             3.9\n",
       "8                                        GI Group     2d ago             3.9\n",
       "9                          IBM India Pvt. Limited   1mon ago             4.1"
      ]
     },
     "execution_count": 130,
     "metadata": {},
     "output_type": "execute_result"
    }
   ],
   "source": [
    "Job_data = pd.DataFrame({'Company_name':company_names, 'Job_posted':post_days, 'Company_ratings':ratings})\n",
    "Job_data"
   ]
  },
  {
   "cell_type": "code",
   "execution_count": null,
   "id": "86ad64b0",
   "metadata": {},
   "outputs": [],
   "source": []
  },
  {
   "cell_type": "code",
   "execution_count": null,
   "id": "fbdb6d37",
   "metadata": {},
   "outputs": [],
   "source": []
  },
  {
   "cell_type": "markdown",
   "id": "29f50b58",
   "metadata": {},
   "source": [
    "## Selenium Q10"
   ]
  },
  {
   "cell_type": "code",
   "execution_count": 156,
   "id": "cdc5a77a",
   "metadata": {},
   "outputs": [],
   "source": [
    "#opening the given url page with help of webdriver"
   ]
  },
  {
   "cell_type": "code",
   "execution_count": 131,
   "id": "18cf9690",
   "metadata": {},
   "outputs": [],
   "source": [
    "url='https://www.ambitionbox.com/'\n",
    "\n",
    "driver.get(url)"
   ]
  },
  {
   "cell_type": "code",
   "execution_count": 155,
   "id": "c97f3813",
   "metadata": {},
   "outputs": [],
   "source": [
    "# filtering the salaries"
   ]
  },
  {
   "cell_type": "code",
   "execution_count": 132,
   "id": "bf4efc7f",
   "metadata": {},
   "outputs": [],
   "source": [
    "clk_salary = driver.find_element_by_xpath(\"//a[@title='Company Salaries']\").click()"
   ]
  },
  {
   "cell_type": "code",
   "execution_count": 154,
   "id": "b2c5f61a",
   "metadata": {},
   "outputs": [],
   "source": [
    "#searching the given designation with help of xpath"
   ]
  },
  {
   "cell_type": "code",
   "execution_count": 133,
   "id": "334544ea",
   "metadata": {},
   "outputs": [],
   "source": [
    "desgn_srch = driver.find_element_by_xpath(\"//input[@placeholder='Search job profiles']\")\n",
    "desgn_srch.send_keys(\"Data Scientist\")"
   ]
  },
  {
   "cell_type": "code",
   "execution_count": 134,
   "id": "d5ab683d",
   "metadata": {},
   "outputs": [],
   "source": [
    "clk_srch_buttn = driver.find_element_by_xpath(\"//i[@class='icon-search']\").click()"
   ]
  },
  {
   "cell_type": "code",
   "execution_count": 135,
   "id": "b290eef6",
   "metadata": {},
   "outputs": [],
   "source": [
    "company_name=[]\n",
    "salary_records=[]\n",
    "req_exp=[]\n",
    "avg_sal=[]\n",
    "min_sal=[]\n",
    "max_sal=[]"
   ]
  },
  {
   "cell_type": "code",
   "execution_count": 153,
   "id": "81ccf01d",
   "metadata": {},
   "outputs": [],
   "source": [
    "#getting the company names\n",
    "#first we get the company name tags\n",
    "#then we iterate the tags and get the name into the list"
   ]
  },
  {
   "cell_type": "code",
   "execution_count": 136,
   "id": "dc95d2a5",
   "metadata": {},
   "outputs": [
    {
     "data": {
      "text/plain": [
       "['Microsoft Corporation',\n",
       " 'Goldman Sachs',\n",
       " 'Flipkart',\n",
       " 'Amazon',\n",
       " 'Servicenow Software Development India',\n",
       " 'ServiceNow',\n",
       " 'Walmart',\n",
       " 'Arcesium',\n",
       " 'PayPal',\n",
       " 'Visa']"
      ]
     },
     "execution_count": 136,
     "metadata": {},
     "output_type": "execute_result"
    }
   ],
   "source": [
    "company_tags=driver.find_elements_by_xpath(\"//div[@class='name']\")\n",
    "for i in company_tags:\n",
    "    comp=i.text\n",
    "    company_name.append(comp.split('\\n')[0])\n",
    "company_name"
   ]
  },
  {
   "cell_type": "code",
   "execution_count": 152,
   "id": "8829ee0b",
   "metadata": {},
   "outputs": [],
   "source": [
    "#getting the salary records tags"
   ]
  },
  {
   "cell_type": "code",
   "execution_count": 137,
   "id": "9812304b",
   "metadata": {},
   "outputs": [
    {
     "data": {
      "text/plain": [
       "['based on 209 salaries',\n",
       " 'based on 10 salaries',\n",
       " 'based on 51 salaries',\n",
       " 'based on 75 salaries',\n",
       " 'based on 25 salaries',\n",
       " 'based on 15 salaries',\n",
       " 'based on 70 salaries',\n",
       " 'based on 54 salaries',\n",
       " 'based on 12 salaries',\n",
       " 'based on 26 salaries']"
      ]
     },
     "execution_count": 137,
     "metadata": {},
     "output_type": "execute_result"
    }
   ],
   "source": [
    "sal_rec_tags= driver.find_elements_by_xpath(\"//div[@class='name']/span\")\n",
    "for i in sal_rec_tags:\n",
    "    rec=i.text\n",
    "    salary_records.append(rec)\n",
    "salary_records"
   ]
  },
  {
   "cell_type": "code",
   "execution_count": 151,
   "id": "b892eac0",
   "metadata": {},
   "outputs": [],
   "source": [
    "# getting the experience required tags from the page"
   ]
  },
  {
   "cell_type": "code",
   "execution_count": 138,
   "id": "3318017f",
   "metadata": {
    "scrolled": true
   },
   "outputs": [
    {
     "data": {
      "text/plain": [
       "['1-4 yrs exp',\n",
       " '2 yrs exp',\n",
       " '1-4 yrs exp',\n",
       " '1-4 yrs exp',\n",
       " '2-3 yrs exp',\n",
       " '3 yrs exp',\n",
       " '1-4 yrs exp',\n",
       " '1-2 yrs exp',\n",
       " '1 yr exp',\n",
       " '1-2 yrs exp']"
      ]
     },
     "execution_count": 138,
     "metadata": {},
     "output_type": "execute_result"
    }
   ],
   "source": [
    "req_exp_tags=driver.find_elements_by_xpath(\"//div[@class='salaries sbold-list-header']\")\n",
    "for i in req_exp_tags:\n",
    "    tags=i.text\n",
    "    req_exp.append(tags.split('\\n')[2])\n",
    "req_exp"
   ]
  },
  {
   "cell_type": "code",
   "execution_count": 150,
   "id": "bb40d1da",
   "metadata": {},
   "outputs": [],
   "source": [
    "#getting the minimum salary tags"
   ]
  },
  {
   "cell_type": "code",
   "execution_count": 139,
   "id": "2e0a2ca7",
   "metadata": {
    "scrolled": true
   },
   "outputs": [
    {
     "data": {
      "text/plain": [
       "['₹ 12.0L',\n",
       " '₹ 45.0L',\n",
       " '₹ 16.0L',\n",
       " '₹ 30.0L',\n",
       " '₹ 7.0L',\n",
       " '₹ 30.0L',\n",
       " '₹ 8.0L',\n",
       " '₹ 40.0L',\n",
       " '₹ 13.0L',\n",
       " '₹ 25.0L',\n",
       " '₹ 11.2L',\n",
       " '₹ 23.0L',\n",
       " '₹ 10.0L',\n",
       " '₹ 32.0L',\n",
       " '₹ 12.0L',\n",
       " '₹ 30.0L',\n",
       " '₹ 12.0L',\n",
       " '₹ 23.0L',\n",
       " '₹ 13.0L',\n",
       " '₹ 23.0L']"
      ]
     },
     "execution_count": 139,
     "metadata": {},
     "output_type": "execute_result"
    }
   ],
   "source": [
    "min_sal_tags=driver.find_elements_by_xpath(\"//div[@class='value body-medium']\")\n",
    "min_sal_tags\n",
    "for i in min_sal_tags:\n",
    "    min=i.text\n",
    "    min_sal.append(min)\n",
    "min_sal"
   ]
  },
  {
   "cell_type": "code",
   "execution_count": 140,
   "id": "baef6a07",
   "metadata": {},
   "outputs": [],
   "source": [
    "min_sal=min_sal[0::2]"
   ]
  },
  {
   "cell_type": "code",
   "execution_count": null,
   "id": "46095fd7",
   "metadata": {},
   "outputs": [],
   "source": [
    "#getting the maximum salary tags"
   ]
  },
  {
   "cell_type": "code",
   "execution_count": 141,
   "id": "0b5b5a73",
   "metadata": {},
   "outputs": [
    {
     "data": {
      "text/plain": [
       "['₹ 12.0L',\n",
       " '₹ 45.0L',\n",
       " '₹ 16.0L',\n",
       " '₹ 30.0L',\n",
       " '₹ 7.0L',\n",
       " '₹ 30.0L',\n",
       " '₹ 8.0L',\n",
       " '₹ 40.0L',\n",
       " '₹ 13.0L',\n",
       " '₹ 25.0L',\n",
       " '₹ 11.2L',\n",
       " '₹ 23.0L',\n",
       " '₹ 10.0L',\n",
       " '₹ 32.0L',\n",
       " '₹ 12.0L',\n",
       " '₹ 30.0L',\n",
       " '₹ 12.0L',\n",
       " '₹ 23.0L',\n",
       " '₹ 13.0L',\n",
       " '₹ 23.0L']"
      ]
     },
     "execution_count": 141,
     "metadata": {},
     "output_type": "execute_result"
    }
   ],
   "source": [
    "max_sal_tags=driver.find_elements_by_xpath(\"//div[@class='value body-medium']\")\n",
    "for i in max_sal_tags:\n",
    "    max=i.text\n",
    "    max_sal.append(max)\n",
    "max_sal"
   ]
  },
  {
   "cell_type": "code",
   "execution_count": 142,
   "id": "d2cc9609",
   "metadata": {},
   "outputs": [],
   "source": [
    "max_sal=max_sal[1::2]"
   ]
  },
  {
   "cell_type": "code",
   "execution_count": 149,
   "id": "09262269",
   "metadata": {},
   "outputs": [],
   "source": [
    "#getting the average salary tags"
   ]
  },
  {
   "cell_type": "code",
   "execution_count": 145,
   "id": "064bff97",
   "metadata": {},
   "outputs": [
    {
     "data": {
      "text/plain": [
       "['₹ 22.4L',\n",
       " '₹ 21.2L',\n",
       " '₹ 20.8L',\n",
       " '₹ 19.2L',\n",
       " '₹ 18.2L',\n",
       " '₹ 18.0L',\n",
       " '₹ 17.9L',\n",
       " '₹ 17.7L',\n",
       " '₹ 17.6L',\n",
       " '₹ 17.1L']"
      ]
     },
     "execution_count": 145,
     "metadata": {},
     "output_type": "execute_result"
    }
   ],
   "source": [
    "avg_sal_tags=driver.find_elements_by_xpath(\"//p[@class='averageCtc']\")\n",
    "avg_sal_tags\n",
    "for i in avg_sal_tags:\n",
    "    avg=i.text\n",
    "    avg_sal.append(avg)\n",
    "avg_sal"
   ]
  },
  {
   "cell_type": "code",
   "execution_count": 148,
   "id": "45f4d3e0",
   "metadata": {},
   "outputs": [
    {
     "name": "stdout",
     "output_type": "stream",
     "text": [
      "10 10 10 10 10 10\n"
     ]
    }
   ],
   "source": [
    "print(len(company_name), len(salary_records), len(req_exp), len(avg_sal), len(min_sal),len(max_sal))"
   ]
  },
  {
   "cell_type": "code",
   "execution_count": 147,
   "id": "aff919fb",
   "metadata": {},
   "outputs": [],
   "source": [
    "#making the DataFrame"
   ]
  },
  {
   "cell_type": "code",
   "execution_count": 146,
   "id": "3d5ce277",
   "metadata": {},
   "outputs": [
    {
     "data": {
      "text/html": [
       "<div>\n",
       "<style scoped>\n",
       "    .dataframe tbody tr th:only-of-type {\n",
       "        vertical-align: middle;\n",
       "    }\n",
       "\n",
       "    .dataframe tbody tr th {\n",
       "        vertical-align: top;\n",
       "    }\n",
       "\n",
       "    .dataframe thead th {\n",
       "        text-align: right;\n",
       "    }\n",
       "</style>\n",
       "<table border=\"1\" class=\"dataframe\">\n",
       "  <thead>\n",
       "    <tr style=\"text-align: right;\">\n",
       "      <th></th>\n",
       "      <th>Company_Name</th>\n",
       "      <th>Salary_records</th>\n",
       "      <th>Experience_required</th>\n",
       "      <th>Average_salary</th>\n",
       "      <th>Minimum_salary</th>\n",
       "      <th>Maximum_salary</th>\n",
       "    </tr>\n",
       "  </thead>\n",
       "  <tbody>\n",
       "    <tr>\n",
       "      <th>0</th>\n",
       "      <td>Microsoft Corporation</td>\n",
       "      <td>based on 209 salaries</td>\n",
       "      <td>1-4 yrs exp</td>\n",
       "      <td>₹ 22.4L</td>\n",
       "      <td>₹ 12.0L</td>\n",
       "      <td>₹ 45.0L</td>\n",
       "    </tr>\n",
       "    <tr>\n",
       "      <th>1</th>\n",
       "      <td>Goldman Sachs</td>\n",
       "      <td>based on 10 salaries</td>\n",
       "      <td>2 yrs exp</td>\n",
       "      <td>₹ 21.2L</td>\n",
       "      <td>₹ 16.0L</td>\n",
       "      <td>₹ 30.0L</td>\n",
       "    </tr>\n",
       "    <tr>\n",
       "      <th>2</th>\n",
       "      <td>Flipkart</td>\n",
       "      <td>based on 51 salaries</td>\n",
       "      <td>1-4 yrs exp</td>\n",
       "      <td>₹ 20.8L</td>\n",
       "      <td>₹ 7.0L</td>\n",
       "      <td>₹ 30.0L</td>\n",
       "    </tr>\n",
       "    <tr>\n",
       "      <th>3</th>\n",
       "      <td>Amazon</td>\n",
       "      <td>based on 75 salaries</td>\n",
       "      <td>1-4 yrs exp</td>\n",
       "      <td>₹ 19.2L</td>\n",
       "      <td>₹ 8.0L</td>\n",
       "      <td>₹ 40.0L</td>\n",
       "    </tr>\n",
       "    <tr>\n",
       "      <th>4</th>\n",
       "      <td>Servicenow Software Development India</td>\n",
       "      <td>based on 25 salaries</td>\n",
       "      <td>2-3 yrs exp</td>\n",
       "      <td>₹ 18.2L</td>\n",
       "      <td>₹ 13.0L</td>\n",
       "      <td>₹ 25.0L</td>\n",
       "    </tr>\n",
       "    <tr>\n",
       "      <th>5</th>\n",
       "      <td>ServiceNow</td>\n",
       "      <td>based on 15 salaries</td>\n",
       "      <td>3 yrs exp</td>\n",
       "      <td>₹ 18.0L</td>\n",
       "      <td>₹ 11.2L</td>\n",
       "      <td>₹ 23.0L</td>\n",
       "    </tr>\n",
       "    <tr>\n",
       "      <th>6</th>\n",
       "      <td>Walmart</td>\n",
       "      <td>based on 70 salaries</td>\n",
       "      <td>1-4 yrs exp</td>\n",
       "      <td>₹ 17.9L</td>\n",
       "      <td>₹ 10.0L</td>\n",
       "      <td>₹ 32.0L</td>\n",
       "    </tr>\n",
       "    <tr>\n",
       "      <th>7</th>\n",
       "      <td>Arcesium</td>\n",
       "      <td>based on 54 salaries</td>\n",
       "      <td>1-2 yrs exp</td>\n",
       "      <td>₹ 17.7L</td>\n",
       "      <td>₹ 12.0L</td>\n",
       "      <td>₹ 30.0L</td>\n",
       "    </tr>\n",
       "    <tr>\n",
       "      <th>8</th>\n",
       "      <td>PayPal</td>\n",
       "      <td>based on 12 salaries</td>\n",
       "      <td>1 yr exp</td>\n",
       "      <td>₹ 17.6L</td>\n",
       "      <td>₹ 12.0L</td>\n",
       "      <td>₹ 23.0L</td>\n",
       "    </tr>\n",
       "    <tr>\n",
       "      <th>9</th>\n",
       "      <td>Visa</td>\n",
       "      <td>based on 26 salaries</td>\n",
       "      <td>1-2 yrs exp</td>\n",
       "      <td>₹ 17.1L</td>\n",
       "      <td>₹ 13.0L</td>\n",
       "      <td>₹ 23.0L</td>\n",
       "    </tr>\n",
       "  </tbody>\n",
       "</table>\n",
       "</div>"
      ],
      "text/plain": [
       "                            Company_Name         Salary_records  \\\n",
       "0                  Microsoft Corporation  based on 209 salaries   \n",
       "1                          Goldman Sachs   based on 10 salaries   \n",
       "2                               Flipkart   based on 51 salaries   \n",
       "3                                 Amazon   based on 75 salaries   \n",
       "4  Servicenow Software Development India   based on 25 salaries   \n",
       "5                             ServiceNow   based on 15 salaries   \n",
       "6                                Walmart   based on 70 salaries   \n",
       "7                               Arcesium   based on 54 salaries   \n",
       "8                                 PayPal   based on 12 salaries   \n",
       "9                                   Visa   based on 26 salaries   \n",
       "\n",
       "  Experience_required Average_salary Minimum_salary Maximum_salary  \n",
       "0         1-4 yrs exp        ₹ 22.4L        ₹ 12.0L        ₹ 45.0L  \n",
       "1           2 yrs exp        ₹ 21.2L        ₹ 16.0L        ₹ 30.0L  \n",
       "2         1-4 yrs exp        ₹ 20.8L         ₹ 7.0L        ₹ 30.0L  \n",
       "3         1-4 yrs exp        ₹ 19.2L         ₹ 8.0L        ₹ 40.0L  \n",
       "4         2-3 yrs exp        ₹ 18.2L        ₹ 13.0L        ₹ 25.0L  \n",
       "5           3 yrs exp        ₹ 18.0L        ₹ 11.2L        ₹ 23.0L  \n",
       "6         1-4 yrs exp        ₹ 17.9L        ₹ 10.0L        ₹ 32.0L  \n",
       "7         1-2 yrs exp        ₹ 17.7L        ₹ 12.0L        ₹ 30.0L  \n",
       "8            1 yr exp        ₹ 17.6L        ₹ 12.0L        ₹ 23.0L  \n",
       "9         1-2 yrs exp        ₹ 17.1L        ₹ 13.0L        ₹ 23.0L  "
      ]
     },
     "execution_count": 146,
     "metadata": {},
     "output_type": "execute_result"
    }
   ],
   "source": [
    "company_info=pd.DataFrame({'Company_Name':company_name, 'Salary_records':salary_records, 'Experience_required':req_exp, 'Average_salary':avg_sal, 'Minimum_salary':min_sal, 'Maximum_salary':max_sal})\n",
    "company_info"
   ]
  },
  {
   "cell_type": "code",
   "execution_count": null,
   "id": "72d5e82d",
   "metadata": {},
   "outputs": [],
   "source": []
  },
  {
   "cell_type": "markdown",
   "id": "24c93477",
   "metadata": {},
   "source": [
    "                                                ---- -:- ----"
   ]
  }
 ],
 "metadata": {
  "kernelspec": {
   "display_name": "Python 3",
   "language": "python",
   "name": "python3"
  },
  "language_info": {
   "codemirror_mode": {
    "name": "ipython",
    "version": 3
   },
   "file_extension": ".py",
   "mimetype": "text/x-python",
   "name": "python",
   "nbconvert_exporter": "python",
   "pygments_lexer": "ipython3",
   "version": "3.8.8"
  }
 },
 "nbformat": 4,
 "nbformat_minor": 5
}
